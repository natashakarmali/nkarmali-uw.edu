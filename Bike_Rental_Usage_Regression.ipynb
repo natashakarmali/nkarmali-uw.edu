{
  "nbformat": 4,
  "nbformat_minor": 0,
  "metadata": {
    "kernelspec": {
      "display_name": "Python 3",
      "language": "python",
      "name": "python3"
    },
    "language_info": {
      "codemirror_mode": {
        "name": "ipython",
        "version": 3
      },
      "file_extension": ".py",
      "mimetype": "text/x-python",
      "name": "python",
      "nbconvert_exporter": "python",
      "pygments_lexer": "ipython3",
      "version": "3.7.3"
    },
    "colab": {
      "name": "Bike Rental Usage Regression",
      "provenance": [],
      "collapsed_sections": [],
      "include_colab_link": true
    }
  },
  "cells": [
    {
      "cell_type": "markdown",
      "metadata": {
        "id": "view-in-github",
        "colab_type": "text"
      },
      "source": [
        "<a href=\"https://colab.research.google.com/github/natashakarmali/nkarmali-uw.edu/blob/master/Bike_Rental_Usage_Regression.ipynb\" target=\"_parent\"><img src=\"https://colab.research.google.com/assets/colab-badge.svg\" alt=\"Open In Colab\"/></a>"
      ]
    },
    {
      "cell_type": "markdown",
      "metadata": {
        "id": "lm5C7vtW04Sj",
        "colab_type": "text"
      },
      "source": [
        "# Analysis of Bike Sharing Usage"
      ]
    },
    {
      "cell_type": "markdown",
      "metadata": {
        "id": "OB7PLJca04Sm",
        "colab_type": "text"
      },
      "source": [
        "## Dataset Description"
      ]
    },
    {
      "cell_type": "markdown",
      "metadata": {
        "id": "Pzo46VyR04Sn",
        "colab_type": "text"
      },
      "source": [
        "My dataset is hosted on the Unveristy of California Irvine's (UCI) Machine Learning Repository. It was orginally sourced from a bike sharing platform, Capital Bikeshare. UCI is a trusted instituion. Capital Bikeshare provided its data to provide transparency into the universe, so I do not have concerns about a data bias. The data is 6 years old, which is ideal for my analysis as I want to see how the industry looked when it was started. "
      ]
    },
    {
      "cell_type": "markdown",
      "metadata": {
        "id": "qCmKxoKt04So",
        "colab_type": "text"
      },
      "source": [
        "The data was collected by Capital Bikshare using user rides. The company removed staff useage from the dataset to provide an accurate picture of consumer habits. UCI then added data on the temperature and holiday schedule to provide more context"
      ]
    },
    {
      "cell_type": "markdown",
      "metadata": {
        "id": "ygQR1F9604So",
        "colab_type": "text"
      },
      "source": [
        "The data incldues binary, categorical, continuous types of data points. These datapoints include the user id (instant), date (dteday), season (1,2,3,4), year, month, hour, whether or not it was a holiday (0 or 1), day of the week (weekday), whether it was a working day (0 or 1), weather category (1-4), weather metrics in Celsius (temperature, feeling temperature, humidity, windspeed), type of rider (casual or registered), and the count of total riders. "
      ]
    },
    {
      "cell_type": "markdown",
      "metadata": {
        "id": "rrD92XHB04Sp",
        "colab_type": "text"
      },
      "source": [
        "My goal with this analysis is to determine which attributes have the strongest corelation with bike rental useage"
      ]
    },
    {
      "cell_type": "markdown",
      "metadata": {
        "id": "AbNAW-G304Sq",
        "colab_type": "text"
      },
      "source": [
        "I want to look at steady state usage, so I will aim to remove outlier datapoints "
      ]
    },
    {
      "cell_type": "markdown",
      "metadata": {
        "id": "VgSOaf0I04Sr",
        "colab_type": "text"
      },
      "source": [
        "## Reading and Cleaning Dataset "
      ]
    },
    {
      "cell_type": "markdown",
      "metadata": {
        "id": "dVfR5PC_04Sr",
        "colab_type": "text"
      },
      "source": [
        "Reading in my dataset."
      ]
    },
    {
      "cell_type": "code",
      "metadata": {
        "id": "1mRPO8Ct04Ss",
        "colab_type": "code",
        "colab": {}
      },
      "source": [
        "import pandas as pd\n",
        "import matplotlib.pyplot as plt "
      ],
      "execution_count": 0,
      "outputs": []
    },
    {
      "cell_type": "code",
      "metadata": {
        "id": "3iQSvDUM04Sx",
        "colab_type": "code",
        "outputId": "ccae866a-4c62-49bf-c85a-ae8b6fdc759e",
        "colab": {
          "base_uri": "https://localhost:8080/",
          "height": 202
        }
      },
      "source": [
        "df_bike= pd.read_csv(\"https://raw.githubusercontent.com/natashakarmali/nkarmali-uw.edu/master/hour.csv\")\n",
        "df_bike.head()"
      ],
      "execution_count": 0,
      "outputs": [
        {
          "output_type": "execute_result",
          "data": {
            "text/html": [
              "<div>\n",
              "<style scoped>\n",
              "    .dataframe tbody tr th:only-of-type {\n",
              "        vertical-align: middle;\n",
              "    }\n",
              "\n",
              "    .dataframe tbody tr th {\n",
              "        vertical-align: top;\n",
              "    }\n",
              "\n",
              "    .dataframe thead th {\n",
              "        text-align: right;\n",
              "    }\n",
              "</style>\n",
              "<table border=\"1\" class=\"dataframe\">\n",
              "  <thead>\n",
              "    <tr style=\"text-align: right;\">\n",
              "      <th></th>\n",
              "      <th>instant</th>\n",
              "      <th>dteday</th>\n",
              "      <th>season</th>\n",
              "      <th>yr</th>\n",
              "      <th>mnth</th>\n",
              "      <th>hr</th>\n",
              "      <th>holiday</th>\n",
              "      <th>weekday</th>\n",
              "      <th>workingday</th>\n",
              "      <th>weathersit</th>\n",
              "      <th>temp</th>\n",
              "      <th>atemp</th>\n",
              "      <th>hum</th>\n",
              "      <th>windspeed</th>\n",
              "      <th>casual</th>\n",
              "      <th>registered</th>\n",
              "      <th>cnt</th>\n",
              "    </tr>\n",
              "  </thead>\n",
              "  <tbody>\n",
              "    <tr>\n",
              "      <th>0</th>\n",
              "      <td>1</td>\n",
              "      <td>2011-01-01</td>\n",
              "      <td>1</td>\n",
              "      <td>0</td>\n",
              "      <td>1</td>\n",
              "      <td>0</td>\n",
              "      <td>0</td>\n",
              "      <td>6</td>\n",
              "      <td>0</td>\n",
              "      <td>1</td>\n",
              "      <td>0.24</td>\n",
              "      <td>0.2879</td>\n",
              "      <td>0.81</td>\n",
              "      <td>0.0</td>\n",
              "      <td>3</td>\n",
              "      <td>13</td>\n",
              "      <td>16</td>\n",
              "    </tr>\n",
              "    <tr>\n",
              "      <th>1</th>\n",
              "      <td>2</td>\n",
              "      <td>2011-01-01</td>\n",
              "      <td>1</td>\n",
              "      <td>0</td>\n",
              "      <td>1</td>\n",
              "      <td>1</td>\n",
              "      <td>0</td>\n",
              "      <td>6</td>\n",
              "      <td>0</td>\n",
              "      <td>1</td>\n",
              "      <td>0.22</td>\n",
              "      <td>0.2727</td>\n",
              "      <td>0.80</td>\n",
              "      <td>0.0</td>\n",
              "      <td>8</td>\n",
              "      <td>32</td>\n",
              "      <td>40</td>\n",
              "    </tr>\n",
              "    <tr>\n",
              "      <th>2</th>\n",
              "      <td>3</td>\n",
              "      <td>2011-01-01</td>\n",
              "      <td>1</td>\n",
              "      <td>0</td>\n",
              "      <td>1</td>\n",
              "      <td>2</td>\n",
              "      <td>0</td>\n",
              "      <td>6</td>\n",
              "      <td>0</td>\n",
              "      <td>1</td>\n",
              "      <td>0.22</td>\n",
              "      <td>0.2727</td>\n",
              "      <td>0.80</td>\n",
              "      <td>0.0</td>\n",
              "      <td>5</td>\n",
              "      <td>27</td>\n",
              "      <td>32</td>\n",
              "    </tr>\n",
              "    <tr>\n",
              "      <th>3</th>\n",
              "      <td>4</td>\n",
              "      <td>2011-01-01</td>\n",
              "      <td>1</td>\n",
              "      <td>0</td>\n",
              "      <td>1</td>\n",
              "      <td>3</td>\n",
              "      <td>0</td>\n",
              "      <td>6</td>\n",
              "      <td>0</td>\n",
              "      <td>1</td>\n",
              "      <td>0.24</td>\n",
              "      <td>0.2879</td>\n",
              "      <td>0.75</td>\n",
              "      <td>0.0</td>\n",
              "      <td>3</td>\n",
              "      <td>10</td>\n",
              "      <td>13</td>\n",
              "    </tr>\n",
              "    <tr>\n",
              "      <th>4</th>\n",
              "      <td>5</td>\n",
              "      <td>2011-01-01</td>\n",
              "      <td>1</td>\n",
              "      <td>0</td>\n",
              "      <td>1</td>\n",
              "      <td>4</td>\n",
              "      <td>0</td>\n",
              "      <td>6</td>\n",
              "      <td>0</td>\n",
              "      <td>1</td>\n",
              "      <td>0.24</td>\n",
              "      <td>0.2879</td>\n",
              "      <td>0.75</td>\n",
              "      <td>0.0</td>\n",
              "      <td>0</td>\n",
              "      <td>1</td>\n",
              "      <td>1</td>\n",
              "    </tr>\n",
              "  </tbody>\n",
              "</table>\n",
              "</div>"
            ],
            "text/plain": [
              "   instant      dteday  season  yr  ...  windspeed  casual  registered  cnt\n",
              "0        1  2011-01-01       1   0  ...        0.0       3          13   16\n",
              "1        2  2011-01-01       1   0  ...        0.0       8          32   40\n",
              "2        3  2011-01-01       1   0  ...        0.0       5          27   32\n",
              "3        4  2011-01-01       1   0  ...        0.0       3          10   13\n",
              "4        5  2011-01-01       1   0  ...        0.0       0           1    1\n",
              "\n",
              "[5 rows x 17 columns]"
            ]
          },
          "metadata": {
            "tags": []
          },
          "execution_count": 85
        }
      ]
    },
    {
      "cell_type": "markdown",
      "metadata": {
        "id": "j13ZY31h04S4",
        "colab_type": "text"
      },
      "source": [
        "Looking for null values."
      ]
    },
    {
      "cell_type": "code",
      "metadata": {
        "id": "RuWtMy_z04S4",
        "colab_type": "code",
        "outputId": "37518511-1f35-4dea-8a30-7e0be7903846",
        "colab": {
          "base_uri": "https://localhost:8080/",
          "height": 329
        }
      },
      "source": [
        "df_bike.isnull().sum()"
      ],
      "execution_count": 0,
      "outputs": [
        {
          "output_type": "execute_result",
          "data": {
            "text/plain": [
              "instant       0\n",
              "dteday        0\n",
              "season        0\n",
              "yr            0\n",
              "mnth          0\n",
              "hr            0\n",
              "holiday       0\n",
              "weekday       0\n",
              "workingday    0\n",
              "weathersit    0\n",
              "temp          0\n",
              "atemp         0\n",
              "hum           0\n",
              "windspeed     0\n",
              "casual        0\n",
              "registered    0\n",
              "cnt           0\n",
              "dtype: int64"
            ]
          },
          "metadata": {
            "tags": []
          },
          "execution_count": 86
        }
      ]
    },
    {
      "cell_type": "markdown",
      "metadata": {
        "id": "oEmkzpiW04S9",
        "colab_type": "text"
      },
      "source": [
        "Looking at unique values for a couple column to see if there are any different null values that pandas would not automatically identify"
      ]
    },
    {
      "cell_type": "code",
      "metadata": {
        "id": "CozQ00np04S-",
        "colab_type": "code",
        "outputId": "247b833a-7e31-459a-a662-42bcd80bb083",
        "colab": {
          "base_uri": "https://localhost:8080/",
          "height": 86
        }
      },
      "source": [
        "df_bike.columns"
      ],
      "execution_count": 0,
      "outputs": [
        {
          "output_type": "execute_result",
          "data": {
            "text/plain": [
              "Index(['instant', 'dteday', 'season', 'yr', 'mnth', 'hr', 'holiday', 'weekday',\n",
              "       'workingday', 'weathersit', 'temp', 'atemp', 'hum', 'windspeed',\n",
              "       'casual', 'registered', 'cnt'],\n",
              "      dtype='object')"
            ]
          },
          "metadata": {
            "tags": []
          },
          "execution_count": 87
        }
      ]
    },
    {
      "cell_type": "code",
      "metadata": {
        "id": "e9DMpkXK_SZ6",
        "colab_type": "code",
        "outputId": "6397547f-b45f-48a7-e419-ca26efb5ae19",
        "colab": {
          "base_uri": "https://localhost:8080/",
          "height": 138
        }
      },
      "source": [
        "test = ['season', 'yr', 'mnth', 'hr', 'holiday', 'weekday', 'weathersit']\n",
        "for i in test:\n",
        "  print(df_bike[i].unique())"
      ],
      "execution_count": 0,
      "outputs": [
        {
          "output_type": "stream",
          "text": [
            "[1 2 3 4]\n",
            "[0 1]\n",
            "[ 1  2  3  4  5  6  7  8  9 10 11 12]\n",
            "[ 0  1  2  3  4  5  6  7  8  9 10 11 12 13 14 15 16 17 18 19 20 21 22 23]\n",
            "[0 1]\n",
            "[6 0 1 2 3 4 5]\n",
            "[1 2 3 4]\n"
          ],
          "name": "stdout"
        }
      ]
    },
    {
      "cell_type": "markdown",
      "metadata": {
        "id": "twipGlNR04To",
        "colab_type": "text"
      },
      "source": [
        "Creating another column to bin count of bikers for later analysis"
      ]
    },
    {
      "cell_type": "code",
      "metadata": {
        "id": "PN9yxbXT04Tp",
        "colab_type": "code",
        "outputId": "ae4afb78-8cf9-4f85-d23a-1f9ab8cd7c15",
        "colab": {
          "base_uri": "https://localhost:8080/",
          "height": 173
        }
      },
      "source": [
        "df_bike.cnt.describe()"
      ],
      "execution_count": 0,
      "outputs": [
        {
          "output_type": "execute_result",
          "data": {
            "text/plain": [
              "count    17379.000000\n",
              "mean       189.463088\n",
              "std        181.387599\n",
              "min          1.000000\n",
              "25%         40.000000\n",
              "50%        142.000000\n",
              "75%        281.000000\n",
              "max        977.000000\n",
              "Name: cnt, dtype: float64"
            ]
          },
          "metadata": {
            "tags": []
          },
          "execution_count": 89
        }
      ]
    },
    {
      "cell_type": "code",
      "metadata": {
        "id": "-3JWJXDv04Ts",
        "colab_type": "code",
        "colab": {}
      },
      "source": [
        "bins = list(range(0,1100, 200))"
      ],
      "execution_count": 0,
      "outputs": []
    },
    {
      "cell_type": "code",
      "metadata": {
        "id": "wL2apdgD04Tv",
        "colab_type": "code",
        "colab": {}
      },
      "source": [
        "df_bike[\"cnt_bins\"] = pd.cut(df_bike.cnt, bins=bins, labels=[\"0-200\", \"200-400\", \"400-600\", \"600-800\", \"800-1000\"])"
      ],
      "execution_count": 0,
      "outputs": []
    },
    {
      "cell_type": "code",
      "metadata": {
        "id": "LP2q50Dl04T0",
        "colab_type": "code",
        "outputId": "7244d29a-b8fd-44e6-b36b-cd7078aa3b05",
        "colab": {
          "base_uri": "https://localhost:8080/",
          "height": 138
        }
      },
      "source": [
        "df_bike.cnt_bins.head()"
      ],
      "execution_count": 0,
      "outputs": [
        {
          "output_type": "execute_result",
          "data": {
            "text/plain": [
              "0    0-200\n",
              "1    0-200\n",
              "2    0-200\n",
              "3    0-200\n",
              "4    0-200\n",
              "Name: cnt_bins, dtype: category\n",
              "Categories (5, object): [0-200 < 200-400 < 400-600 < 600-800 < 800-1000]"
            ]
          },
          "metadata": {
            "tags": []
          },
          "execution_count": 92
        }
      ]
    },
    {
      "cell_type": "code",
      "metadata": {
        "id": "FTwS6R9P04T6",
        "colab_type": "code",
        "outputId": "cdfb570f-ed3c-40ce-82a6-afaae2fe0126",
        "colab": {
          "base_uri": "https://localhost:8080/",
          "height": 202
        }
      },
      "source": [
        "df_bike.head()"
      ],
      "execution_count": 0,
      "outputs": [
        {
          "output_type": "execute_result",
          "data": {
            "text/html": [
              "<div>\n",
              "<style scoped>\n",
              "    .dataframe tbody tr th:only-of-type {\n",
              "        vertical-align: middle;\n",
              "    }\n",
              "\n",
              "    .dataframe tbody tr th {\n",
              "        vertical-align: top;\n",
              "    }\n",
              "\n",
              "    .dataframe thead th {\n",
              "        text-align: right;\n",
              "    }\n",
              "</style>\n",
              "<table border=\"1\" class=\"dataframe\">\n",
              "  <thead>\n",
              "    <tr style=\"text-align: right;\">\n",
              "      <th></th>\n",
              "      <th>instant</th>\n",
              "      <th>dteday</th>\n",
              "      <th>season</th>\n",
              "      <th>yr</th>\n",
              "      <th>mnth</th>\n",
              "      <th>hr</th>\n",
              "      <th>holiday</th>\n",
              "      <th>weekday</th>\n",
              "      <th>workingday</th>\n",
              "      <th>weathersit</th>\n",
              "      <th>temp</th>\n",
              "      <th>atemp</th>\n",
              "      <th>hum</th>\n",
              "      <th>windspeed</th>\n",
              "      <th>casual</th>\n",
              "      <th>registered</th>\n",
              "      <th>cnt</th>\n",
              "      <th>cnt_bins</th>\n",
              "    </tr>\n",
              "  </thead>\n",
              "  <tbody>\n",
              "    <tr>\n",
              "      <th>0</th>\n",
              "      <td>1</td>\n",
              "      <td>2011-01-01</td>\n",
              "      <td>1</td>\n",
              "      <td>0</td>\n",
              "      <td>1</td>\n",
              "      <td>0</td>\n",
              "      <td>0</td>\n",
              "      <td>6</td>\n",
              "      <td>0</td>\n",
              "      <td>1</td>\n",
              "      <td>0.24</td>\n",
              "      <td>0.2879</td>\n",
              "      <td>0.81</td>\n",
              "      <td>0.0</td>\n",
              "      <td>3</td>\n",
              "      <td>13</td>\n",
              "      <td>16</td>\n",
              "      <td>0-200</td>\n",
              "    </tr>\n",
              "    <tr>\n",
              "      <th>1</th>\n",
              "      <td>2</td>\n",
              "      <td>2011-01-01</td>\n",
              "      <td>1</td>\n",
              "      <td>0</td>\n",
              "      <td>1</td>\n",
              "      <td>1</td>\n",
              "      <td>0</td>\n",
              "      <td>6</td>\n",
              "      <td>0</td>\n",
              "      <td>1</td>\n",
              "      <td>0.22</td>\n",
              "      <td>0.2727</td>\n",
              "      <td>0.80</td>\n",
              "      <td>0.0</td>\n",
              "      <td>8</td>\n",
              "      <td>32</td>\n",
              "      <td>40</td>\n",
              "      <td>0-200</td>\n",
              "    </tr>\n",
              "    <tr>\n",
              "      <th>2</th>\n",
              "      <td>3</td>\n",
              "      <td>2011-01-01</td>\n",
              "      <td>1</td>\n",
              "      <td>0</td>\n",
              "      <td>1</td>\n",
              "      <td>2</td>\n",
              "      <td>0</td>\n",
              "      <td>6</td>\n",
              "      <td>0</td>\n",
              "      <td>1</td>\n",
              "      <td>0.22</td>\n",
              "      <td>0.2727</td>\n",
              "      <td>0.80</td>\n",
              "      <td>0.0</td>\n",
              "      <td>5</td>\n",
              "      <td>27</td>\n",
              "      <td>32</td>\n",
              "      <td>0-200</td>\n",
              "    </tr>\n",
              "    <tr>\n",
              "      <th>3</th>\n",
              "      <td>4</td>\n",
              "      <td>2011-01-01</td>\n",
              "      <td>1</td>\n",
              "      <td>0</td>\n",
              "      <td>1</td>\n",
              "      <td>3</td>\n",
              "      <td>0</td>\n",
              "      <td>6</td>\n",
              "      <td>0</td>\n",
              "      <td>1</td>\n",
              "      <td>0.24</td>\n",
              "      <td>0.2879</td>\n",
              "      <td>0.75</td>\n",
              "      <td>0.0</td>\n",
              "      <td>3</td>\n",
              "      <td>10</td>\n",
              "      <td>13</td>\n",
              "      <td>0-200</td>\n",
              "    </tr>\n",
              "    <tr>\n",
              "      <th>4</th>\n",
              "      <td>5</td>\n",
              "      <td>2011-01-01</td>\n",
              "      <td>1</td>\n",
              "      <td>0</td>\n",
              "      <td>1</td>\n",
              "      <td>4</td>\n",
              "      <td>0</td>\n",
              "      <td>6</td>\n",
              "      <td>0</td>\n",
              "      <td>1</td>\n",
              "      <td>0.24</td>\n",
              "      <td>0.2879</td>\n",
              "      <td>0.75</td>\n",
              "      <td>0.0</td>\n",
              "      <td>0</td>\n",
              "      <td>1</td>\n",
              "      <td>1</td>\n",
              "      <td>0-200</td>\n",
              "    </tr>\n",
              "  </tbody>\n",
              "</table>\n",
              "</div>"
            ],
            "text/plain": [
              "   instant      dteday  season  yr  ...  casual  registered  cnt  cnt_bins\n",
              "0        1  2011-01-01       1   0  ...       3          13   16     0-200\n",
              "1        2  2011-01-01       1   0  ...       8          32   40     0-200\n",
              "2        3  2011-01-01       1   0  ...       5          27   32     0-200\n",
              "3        4  2011-01-01       1   0  ...       3          10   13     0-200\n",
              "4        5  2011-01-01       1   0  ...       0           1    1     0-200\n",
              "\n",
              "[5 rows x 18 columns]"
            ]
          },
          "metadata": {
            "tags": []
          },
          "execution_count": 93
        }
      ]
    },
    {
      "cell_type": "markdown",
      "metadata": {
        "id": "MDVqqIAY04T-",
        "colab_type": "text"
      },
      "source": [
        "Encoding weathersit, hour, and season"
      ]
    },
    {
      "cell_type": "code",
      "metadata": {
        "id": "MjUU2i_m04T-",
        "colab_type": "code",
        "colab": {}
      },
      "source": [
        "feature_df = pd.DataFrame(df_bike.weathersit)"
      ],
      "execution_count": 0,
      "outputs": []
    },
    {
      "cell_type": "code",
      "metadata": {
        "id": "zKiPB03304UB",
        "colab_type": "code",
        "outputId": "15de5233-e4ec-4040-ba5f-ba82c4264f8e",
        "colab": {
          "base_uri": "https://localhost:8080/",
          "height": 202
        }
      },
      "source": [
        "feature_df.head()"
      ],
      "execution_count": 0,
      "outputs": [
        {
          "output_type": "execute_result",
          "data": {
            "text/html": [
              "<div>\n",
              "<style scoped>\n",
              "    .dataframe tbody tr th:only-of-type {\n",
              "        vertical-align: middle;\n",
              "    }\n",
              "\n",
              "    .dataframe tbody tr th {\n",
              "        vertical-align: top;\n",
              "    }\n",
              "\n",
              "    .dataframe thead th {\n",
              "        text-align: right;\n",
              "    }\n",
              "</style>\n",
              "<table border=\"1\" class=\"dataframe\">\n",
              "  <thead>\n",
              "    <tr style=\"text-align: right;\">\n",
              "      <th></th>\n",
              "      <th>weathersit</th>\n",
              "    </tr>\n",
              "  </thead>\n",
              "  <tbody>\n",
              "    <tr>\n",
              "      <th>0</th>\n",
              "      <td>1</td>\n",
              "    </tr>\n",
              "    <tr>\n",
              "      <th>1</th>\n",
              "      <td>1</td>\n",
              "    </tr>\n",
              "    <tr>\n",
              "      <th>2</th>\n",
              "      <td>1</td>\n",
              "    </tr>\n",
              "    <tr>\n",
              "      <th>3</th>\n",
              "      <td>1</td>\n",
              "    </tr>\n",
              "    <tr>\n",
              "      <th>4</th>\n",
              "      <td>1</td>\n",
              "    </tr>\n",
              "  </tbody>\n",
              "</table>\n",
              "</div>"
            ],
            "text/plain": [
              "   weathersit\n",
              "0           1\n",
              "1           1\n",
              "2           1\n",
              "3           1\n",
              "4           1"
            ]
          },
          "metadata": {
            "tags": []
          },
          "execution_count": 95
        }
      ]
    },
    {
      "cell_type": "code",
      "metadata": {
        "id": "QD9D1jMx04UE",
        "colab_type": "code",
        "colab": {}
      },
      "source": [
        "encoded = pd.get_dummies(feature_df[\"weathersit\"])"
      ],
      "execution_count": 0,
      "outputs": []
    },
    {
      "cell_type": "code",
      "metadata": {
        "id": "ktVa9-iT04UI",
        "colab_type": "code",
        "outputId": "5695b5a8-ae9c-48ec-da25-03eabff02780",
        "colab": {
          "base_uri": "https://localhost:8080/",
          "height": 202
        }
      },
      "source": [
        "encoded.head()"
      ],
      "execution_count": 0,
      "outputs": [
        {
          "output_type": "execute_result",
          "data": {
            "text/html": [
              "<div>\n",
              "<style scoped>\n",
              "    .dataframe tbody tr th:only-of-type {\n",
              "        vertical-align: middle;\n",
              "    }\n",
              "\n",
              "    .dataframe tbody tr th {\n",
              "        vertical-align: top;\n",
              "    }\n",
              "\n",
              "    .dataframe thead th {\n",
              "        text-align: right;\n",
              "    }\n",
              "</style>\n",
              "<table border=\"1\" class=\"dataframe\">\n",
              "  <thead>\n",
              "    <tr style=\"text-align: right;\">\n",
              "      <th></th>\n",
              "      <th>1</th>\n",
              "      <th>2</th>\n",
              "      <th>3</th>\n",
              "      <th>4</th>\n",
              "    </tr>\n",
              "  </thead>\n",
              "  <tbody>\n",
              "    <tr>\n",
              "      <th>0</th>\n",
              "      <td>1</td>\n",
              "      <td>0</td>\n",
              "      <td>0</td>\n",
              "      <td>0</td>\n",
              "    </tr>\n",
              "    <tr>\n",
              "      <th>1</th>\n",
              "      <td>1</td>\n",
              "      <td>0</td>\n",
              "      <td>0</td>\n",
              "      <td>0</td>\n",
              "    </tr>\n",
              "    <tr>\n",
              "      <th>2</th>\n",
              "      <td>1</td>\n",
              "      <td>0</td>\n",
              "      <td>0</td>\n",
              "      <td>0</td>\n",
              "    </tr>\n",
              "    <tr>\n",
              "      <th>3</th>\n",
              "      <td>1</td>\n",
              "      <td>0</td>\n",
              "      <td>0</td>\n",
              "      <td>0</td>\n",
              "    </tr>\n",
              "    <tr>\n",
              "      <th>4</th>\n",
              "      <td>1</td>\n",
              "      <td>0</td>\n",
              "      <td>0</td>\n",
              "      <td>0</td>\n",
              "    </tr>\n",
              "  </tbody>\n",
              "</table>\n",
              "</div>"
            ],
            "text/plain": [
              "   1  2  3  4\n",
              "0  1  0  0  0\n",
              "1  1  0  0  0\n",
              "2  1  0  0  0\n",
              "3  1  0  0  0\n",
              "4  1  0  0  0"
            ]
          },
          "metadata": {
            "tags": []
          },
          "execution_count": 97
        }
      ]
    },
    {
      "cell_type": "code",
      "metadata": {
        "id": "QmK-Q3jx04UM",
        "colab_type": "code",
        "colab": {}
      },
      "source": [
        "encoded= encoded.rename(columns={1:\"clear\",2:\"mist\", 3: \"snow\", 4: \"heavyrain\"})"
      ],
      "execution_count": 0,
      "outputs": []
    },
    {
      "cell_type": "code",
      "metadata": {
        "id": "kVN_wn5w04UP",
        "colab_type": "code",
        "colab": {}
      },
      "source": [
        "df_bike = df_bike.join(encoded)"
      ],
      "execution_count": 0,
      "outputs": []
    },
    {
      "cell_type": "code",
      "metadata": {
        "id": "EdbTaWPCCH4_",
        "colab_type": "code",
        "colab": {}
      },
      "source": [
        "hour_df = pd.DataFrame(df_bike.hr)"
      ],
      "execution_count": 0,
      "outputs": []
    },
    {
      "cell_type": "code",
      "metadata": {
        "id": "TyLZ5JsZCZ3q",
        "colab_type": "code",
        "colab": {}
      },
      "source": [
        "encoded_hr = pd.get_dummies(hour_df[\"hr\"])"
      ],
      "execution_count": 0,
      "outputs": []
    },
    {
      "cell_type": "code",
      "metadata": {
        "id": "RH1H4YWlCsUz",
        "colab_type": "code",
        "colab": {}
      },
      "source": [
        "df_bike = df_bike.join(encoded_hr)"
      ],
      "execution_count": 0,
      "outputs": []
    },
    {
      "cell_type": "code",
      "metadata": {
        "id": "QahKcbKF04UR",
        "colab_type": "code",
        "outputId": "afe1fbf4-3d8e-476e-f268-0dd2ed21e1a3",
        "colab": {
          "base_uri": "https://localhost:8080/",
          "height": 309
        }
      },
      "source": [
        "df_bike.head()"
      ],
      "execution_count": 0,
      "outputs": [
        {
          "output_type": "execute_result",
          "data": {
            "text/html": [
              "<div>\n",
              "<style scoped>\n",
              "    .dataframe tbody tr th:only-of-type {\n",
              "        vertical-align: middle;\n",
              "    }\n",
              "\n",
              "    .dataframe tbody tr th {\n",
              "        vertical-align: top;\n",
              "    }\n",
              "\n",
              "    .dataframe thead th {\n",
              "        text-align: right;\n",
              "    }\n",
              "</style>\n",
              "<table border=\"1\" class=\"dataframe\">\n",
              "  <thead>\n",
              "    <tr style=\"text-align: right;\">\n",
              "      <th></th>\n",
              "      <th>instant</th>\n",
              "      <th>dteday</th>\n",
              "      <th>season</th>\n",
              "      <th>yr</th>\n",
              "      <th>mnth</th>\n",
              "      <th>hr</th>\n",
              "      <th>holiday</th>\n",
              "      <th>weekday</th>\n",
              "      <th>workingday</th>\n",
              "      <th>weathersit</th>\n",
              "      <th>temp</th>\n",
              "      <th>atemp</th>\n",
              "      <th>hum</th>\n",
              "      <th>windspeed</th>\n",
              "      <th>casual</th>\n",
              "      <th>registered</th>\n",
              "      <th>cnt</th>\n",
              "      <th>cnt_bins</th>\n",
              "      <th>clear</th>\n",
              "      <th>mist</th>\n",
              "      <th>snow</th>\n",
              "      <th>heavyrain</th>\n",
              "      <th>0</th>\n",
              "      <th>1</th>\n",
              "      <th>2</th>\n",
              "      <th>3</th>\n",
              "      <th>4</th>\n",
              "      <th>5</th>\n",
              "      <th>6</th>\n",
              "      <th>7</th>\n",
              "      <th>8</th>\n",
              "      <th>9</th>\n",
              "      <th>10</th>\n",
              "      <th>11</th>\n",
              "      <th>12</th>\n",
              "      <th>13</th>\n",
              "      <th>14</th>\n",
              "      <th>15</th>\n",
              "      <th>16</th>\n",
              "      <th>17</th>\n",
              "      <th>18</th>\n",
              "      <th>19</th>\n",
              "      <th>20</th>\n",
              "      <th>21</th>\n",
              "      <th>22</th>\n",
              "      <th>23</th>\n",
              "    </tr>\n",
              "  </thead>\n",
              "  <tbody>\n",
              "    <tr>\n",
              "      <th>0</th>\n",
              "      <td>1</td>\n",
              "      <td>2011-01-01</td>\n",
              "      <td>1</td>\n",
              "      <td>0</td>\n",
              "      <td>1</td>\n",
              "      <td>0</td>\n",
              "      <td>0</td>\n",
              "      <td>6</td>\n",
              "      <td>0</td>\n",
              "      <td>1</td>\n",
              "      <td>0.24</td>\n",
              "      <td>0.2879</td>\n",
              "      <td>0.81</td>\n",
              "      <td>0.0</td>\n",
              "      <td>3</td>\n",
              "      <td>13</td>\n",
              "      <td>16</td>\n",
              "      <td>0-200</td>\n",
              "      <td>1</td>\n",
              "      <td>0</td>\n",
              "      <td>0</td>\n",
              "      <td>0</td>\n",
              "      <td>1</td>\n",
              "      <td>0</td>\n",
              "      <td>0</td>\n",
              "      <td>0</td>\n",
              "      <td>0</td>\n",
              "      <td>0</td>\n",
              "      <td>0</td>\n",
              "      <td>0</td>\n",
              "      <td>0</td>\n",
              "      <td>0</td>\n",
              "      <td>0</td>\n",
              "      <td>0</td>\n",
              "      <td>0</td>\n",
              "      <td>0</td>\n",
              "      <td>0</td>\n",
              "      <td>0</td>\n",
              "      <td>0</td>\n",
              "      <td>0</td>\n",
              "      <td>0</td>\n",
              "      <td>0</td>\n",
              "      <td>0</td>\n",
              "      <td>0</td>\n",
              "      <td>0</td>\n",
              "      <td>0</td>\n",
              "    </tr>\n",
              "    <tr>\n",
              "      <th>1</th>\n",
              "      <td>2</td>\n",
              "      <td>2011-01-01</td>\n",
              "      <td>1</td>\n",
              "      <td>0</td>\n",
              "      <td>1</td>\n",
              "      <td>1</td>\n",
              "      <td>0</td>\n",
              "      <td>6</td>\n",
              "      <td>0</td>\n",
              "      <td>1</td>\n",
              "      <td>0.22</td>\n",
              "      <td>0.2727</td>\n",
              "      <td>0.80</td>\n",
              "      <td>0.0</td>\n",
              "      <td>8</td>\n",
              "      <td>32</td>\n",
              "      <td>40</td>\n",
              "      <td>0-200</td>\n",
              "      <td>1</td>\n",
              "      <td>0</td>\n",
              "      <td>0</td>\n",
              "      <td>0</td>\n",
              "      <td>0</td>\n",
              "      <td>1</td>\n",
              "      <td>0</td>\n",
              "      <td>0</td>\n",
              "      <td>0</td>\n",
              "      <td>0</td>\n",
              "      <td>0</td>\n",
              "      <td>0</td>\n",
              "      <td>0</td>\n",
              "      <td>0</td>\n",
              "      <td>0</td>\n",
              "      <td>0</td>\n",
              "      <td>0</td>\n",
              "      <td>0</td>\n",
              "      <td>0</td>\n",
              "      <td>0</td>\n",
              "      <td>0</td>\n",
              "      <td>0</td>\n",
              "      <td>0</td>\n",
              "      <td>0</td>\n",
              "      <td>0</td>\n",
              "      <td>0</td>\n",
              "      <td>0</td>\n",
              "      <td>0</td>\n",
              "    </tr>\n",
              "    <tr>\n",
              "      <th>2</th>\n",
              "      <td>3</td>\n",
              "      <td>2011-01-01</td>\n",
              "      <td>1</td>\n",
              "      <td>0</td>\n",
              "      <td>1</td>\n",
              "      <td>2</td>\n",
              "      <td>0</td>\n",
              "      <td>6</td>\n",
              "      <td>0</td>\n",
              "      <td>1</td>\n",
              "      <td>0.22</td>\n",
              "      <td>0.2727</td>\n",
              "      <td>0.80</td>\n",
              "      <td>0.0</td>\n",
              "      <td>5</td>\n",
              "      <td>27</td>\n",
              "      <td>32</td>\n",
              "      <td>0-200</td>\n",
              "      <td>1</td>\n",
              "      <td>0</td>\n",
              "      <td>0</td>\n",
              "      <td>0</td>\n",
              "      <td>0</td>\n",
              "      <td>0</td>\n",
              "      <td>1</td>\n",
              "      <td>0</td>\n",
              "      <td>0</td>\n",
              "      <td>0</td>\n",
              "      <td>0</td>\n",
              "      <td>0</td>\n",
              "      <td>0</td>\n",
              "      <td>0</td>\n",
              "      <td>0</td>\n",
              "      <td>0</td>\n",
              "      <td>0</td>\n",
              "      <td>0</td>\n",
              "      <td>0</td>\n",
              "      <td>0</td>\n",
              "      <td>0</td>\n",
              "      <td>0</td>\n",
              "      <td>0</td>\n",
              "      <td>0</td>\n",
              "      <td>0</td>\n",
              "      <td>0</td>\n",
              "      <td>0</td>\n",
              "      <td>0</td>\n",
              "    </tr>\n",
              "    <tr>\n",
              "      <th>3</th>\n",
              "      <td>4</td>\n",
              "      <td>2011-01-01</td>\n",
              "      <td>1</td>\n",
              "      <td>0</td>\n",
              "      <td>1</td>\n",
              "      <td>3</td>\n",
              "      <td>0</td>\n",
              "      <td>6</td>\n",
              "      <td>0</td>\n",
              "      <td>1</td>\n",
              "      <td>0.24</td>\n",
              "      <td>0.2879</td>\n",
              "      <td>0.75</td>\n",
              "      <td>0.0</td>\n",
              "      <td>3</td>\n",
              "      <td>10</td>\n",
              "      <td>13</td>\n",
              "      <td>0-200</td>\n",
              "      <td>1</td>\n",
              "      <td>0</td>\n",
              "      <td>0</td>\n",
              "      <td>0</td>\n",
              "      <td>0</td>\n",
              "      <td>0</td>\n",
              "      <td>0</td>\n",
              "      <td>1</td>\n",
              "      <td>0</td>\n",
              "      <td>0</td>\n",
              "      <td>0</td>\n",
              "      <td>0</td>\n",
              "      <td>0</td>\n",
              "      <td>0</td>\n",
              "      <td>0</td>\n",
              "      <td>0</td>\n",
              "      <td>0</td>\n",
              "      <td>0</td>\n",
              "      <td>0</td>\n",
              "      <td>0</td>\n",
              "      <td>0</td>\n",
              "      <td>0</td>\n",
              "      <td>0</td>\n",
              "      <td>0</td>\n",
              "      <td>0</td>\n",
              "      <td>0</td>\n",
              "      <td>0</td>\n",
              "      <td>0</td>\n",
              "    </tr>\n",
              "    <tr>\n",
              "      <th>4</th>\n",
              "      <td>5</td>\n",
              "      <td>2011-01-01</td>\n",
              "      <td>1</td>\n",
              "      <td>0</td>\n",
              "      <td>1</td>\n",
              "      <td>4</td>\n",
              "      <td>0</td>\n",
              "      <td>6</td>\n",
              "      <td>0</td>\n",
              "      <td>1</td>\n",
              "      <td>0.24</td>\n",
              "      <td>0.2879</td>\n",
              "      <td>0.75</td>\n",
              "      <td>0.0</td>\n",
              "      <td>0</td>\n",
              "      <td>1</td>\n",
              "      <td>1</td>\n",
              "      <td>0-200</td>\n",
              "      <td>1</td>\n",
              "      <td>0</td>\n",
              "      <td>0</td>\n",
              "      <td>0</td>\n",
              "      <td>0</td>\n",
              "      <td>0</td>\n",
              "      <td>0</td>\n",
              "      <td>0</td>\n",
              "      <td>1</td>\n",
              "      <td>0</td>\n",
              "      <td>0</td>\n",
              "      <td>0</td>\n",
              "      <td>0</td>\n",
              "      <td>0</td>\n",
              "      <td>0</td>\n",
              "      <td>0</td>\n",
              "      <td>0</td>\n",
              "      <td>0</td>\n",
              "      <td>0</td>\n",
              "      <td>0</td>\n",
              "      <td>0</td>\n",
              "      <td>0</td>\n",
              "      <td>0</td>\n",
              "      <td>0</td>\n",
              "      <td>0</td>\n",
              "      <td>0</td>\n",
              "      <td>0</td>\n",
              "      <td>0</td>\n",
              "    </tr>\n",
              "  </tbody>\n",
              "</table>\n",
              "</div>"
            ],
            "text/plain": [
              "   instant      dteday  season  yr  mnth  hr  ...  18  19  20  21  22  23\n",
              "0        1  2011-01-01       1   0     1   0  ...   0   0   0   0   0   0\n",
              "1        2  2011-01-01       1   0     1   1  ...   0   0   0   0   0   0\n",
              "2        3  2011-01-01       1   0     1   2  ...   0   0   0   0   0   0\n",
              "3        4  2011-01-01       1   0     1   3  ...   0   0   0   0   0   0\n",
              "4        5  2011-01-01       1   0     1   4  ...   0   0   0   0   0   0\n",
              "\n",
              "[5 rows x 46 columns]"
            ]
          },
          "metadata": {
            "tags": []
          },
          "execution_count": 106
        }
      ]
    },
    {
      "cell_type": "code",
      "metadata": {
        "id": "k09c-x_604UY",
        "colab_type": "code",
        "colab": {}
      },
      "source": [
        "feature_df2 = pd.DataFrame(df_bike.season)"
      ],
      "execution_count": 0,
      "outputs": []
    },
    {
      "cell_type": "code",
      "metadata": {
        "id": "qO9D-0Jr04Ub",
        "colab_type": "code",
        "colab": {}
      },
      "source": [
        "encoded_season = pd.get_dummies(feature_df2[\"season\"])"
      ],
      "execution_count": 0,
      "outputs": []
    },
    {
      "cell_type": "code",
      "metadata": {
        "id": "0hBcbmcb04Ue",
        "colab_type": "code",
        "outputId": "d40a5690-8317-4770-d1ab-3d82d6549b23",
        "colab": {
          "base_uri": "https://localhost:8080/",
          "height": 202
        }
      },
      "source": [
        "encoded_season.head()"
      ],
      "execution_count": 0,
      "outputs": [
        {
          "output_type": "execute_result",
          "data": {
            "text/html": [
              "<div>\n",
              "<style scoped>\n",
              "    .dataframe tbody tr th:only-of-type {\n",
              "        vertical-align: middle;\n",
              "    }\n",
              "\n",
              "    .dataframe tbody tr th {\n",
              "        vertical-align: top;\n",
              "    }\n",
              "\n",
              "    .dataframe thead th {\n",
              "        text-align: right;\n",
              "    }\n",
              "</style>\n",
              "<table border=\"1\" class=\"dataframe\">\n",
              "  <thead>\n",
              "    <tr style=\"text-align: right;\">\n",
              "      <th></th>\n",
              "      <th>1</th>\n",
              "      <th>2</th>\n",
              "      <th>3</th>\n",
              "      <th>4</th>\n",
              "    </tr>\n",
              "  </thead>\n",
              "  <tbody>\n",
              "    <tr>\n",
              "      <th>0</th>\n",
              "      <td>1</td>\n",
              "      <td>0</td>\n",
              "      <td>0</td>\n",
              "      <td>0</td>\n",
              "    </tr>\n",
              "    <tr>\n",
              "      <th>1</th>\n",
              "      <td>1</td>\n",
              "      <td>0</td>\n",
              "      <td>0</td>\n",
              "      <td>0</td>\n",
              "    </tr>\n",
              "    <tr>\n",
              "      <th>2</th>\n",
              "      <td>1</td>\n",
              "      <td>0</td>\n",
              "      <td>0</td>\n",
              "      <td>0</td>\n",
              "    </tr>\n",
              "    <tr>\n",
              "      <th>3</th>\n",
              "      <td>1</td>\n",
              "      <td>0</td>\n",
              "      <td>0</td>\n",
              "      <td>0</td>\n",
              "    </tr>\n",
              "    <tr>\n",
              "      <th>4</th>\n",
              "      <td>1</td>\n",
              "      <td>0</td>\n",
              "      <td>0</td>\n",
              "      <td>0</td>\n",
              "    </tr>\n",
              "  </tbody>\n",
              "</table>\n",
              "</div>"
            ],
            "text/plain": [
              "   1  2  3  4\n",
              "0  1  0  0  0\n",
              "1  1  0  0  0\n",
              "2  1  0  0  0\n",
              "3  1  0  0  0\n",
              "4  1  0  0  0"
            ]
          },
          "metadata": {
            "tags": []
          },
          "execution_count": 111
        }
      ]
    },
    {
      "cell_type": "code",
      "metadata": {
        "id": "PhLiAk_e04Uh",
        "colab_type": "code",
        "colab": {}
      },
      "source": [
        "encoded_season= encoded_season.rename(columns={1:\"spring\", 2:\"summer\", 3: \"fall\", 4: \"winter\"})"
      ],
      "execution_count": 0,
      "outputs": []
    },
    {
      "cell_type": "code",
      "metadata": {
        "id": "IvBySwWp04Uk",
        "colab_type": "code",
        "outputId": "1c0a363b-5bc1-40fd-e7b5-d7000865238c",
        "colab": {
          "base_uri": "https://localhost:8080/",
          "height": 202
        }
      },
      "source": [
        "encoded_season.head()"
      ],
      "execution_count": 0,
      "outputs": [
        {
          "output_type": "execute_result",
          "data": {
            "text/html": [
              "<div>\n",
              "<style scoped>\n",
              "    .dataframe tbody tr th:only-of-type {\n",
              "        vertical-align: middle;\n",
              "    }\n",
              "\n",
              "    .dataframe tbody tr th {\n",
              "        vertical-align: top;\n",
              "    }\n",
              "\n",
              "    .dataframe thead th {\n",
              "        text-align: right;\n",
              "    }\n",
              "</style>\n",
              "<table border=\"1\" class=\"dataframe\">\n",
              "  <thead>\n",
              "    <tr style=\"text-align: right;\">\n",
              "      <th></th>\n",
              "      <th>spring</th>\n",
              "      <th>summer</th>\n",
              "      <th>fall</th>\n",
              "      <th>winter</th>\n",
              "    </tr>\n",
              "  </thead>\n",
              "  <tbody>\n",
              "    <tr>\n",
              "      <th>0</th>\n",
              "      <td>1</td>\n",
              "      <td>0</td>\n",
              "      <td>0</td>\n",
              "      <td>0</td>\n",
              "    </tr>\n",
              "    <tr>\n",
              "      <th>1</th>\n",
              "      <td>1</td>\n",
              "      <td>0</td>\n",
              "      <td>0</td>\n",
              "      <td>0</td>\n",
              "    </tr>\n",
              "    <tr>\n",
              "      <th>2</th>\n",
              "      <td>1</td>\n",
              "      <td>0</td>\n",
              "      <td>0</td>\n",
              "      <td>0</td>\n",
              "    </tr>\n",
              "    <tr>\n",
              "      <th>3</th>\n",
              "      <td>1</td>\n",
              "      <td>0</td>\n",
              "      <td>0</td>\n",
              "      <td>0</td>\n",
              "    </tr>\n",
              "    <tr>\n",
              "      <th>4</th>\n",
              "      <td>1</td>\n",
              "      <td>0</td>\n",
              "      <td>0</td>\n",
              "      <td>0</td>\n",
              "    </tr>\n",
              "  </tbody>\n",
              "</table>\n",
              "</div>"
            ],
            "text/plain": [
              "   spring  summer  fall  winter\n",
              "0       1       0     0       0\n",
              "1       1       0     0       0\n",
              "2       1       0     0       0\n",
              "3       1       0     0       0\n",
              "4       1       0     0       0"
            ]
          },
          "metadata": {
            "tags": []
          },
          "execution_count": 116
        }
      ]
    },
    {
      "cell_type": "code",
      "metadata": {
        "id": "pvJUdhBy04Un",
        "colab_type": "code",
        "colab": {}
      },
      "source": [
        "df_bike = df_bike.join(encoded_season)"
      ],
      "execution_count": 0,
      "outputs": []
    },
    {
      "cell_type": "markdown",
      "metadata": {
        "id": "NT6hG61Z04Uq",
        "colab_type": "text"
      },
      "source": [
        "I'm dropping temp as its redundant, what matters here is how warm/cold the user felt which is described with atemp. "
      ]
    },
    {
      "cell_type": "code",
      "metadata": {
        "id": "o5D_agun04Ur",
        "colab_type": "code",
        "colab": {}
      },
      "source": [
        "df_bike = df_bike.drop(\"temp\", axis = 1)"
      ],
      "execution_count": 0,
      "outputs": []
    },
    {
      "cell_type": "code",
      "metadata": {
        "id": "VdYDzKCa04Uu",
        "colab_type": "code",
        "outputId": "ef579d05-fb5f-4ef6-9be2-c1bae31c5fe4",
        "colab": {
          "base_uri": "https://localhost:8080/",
          "height": 309
        }
      },
      "source": [
        "df_bike.head()"
      ],
      "execution_count": 0,
      "outputs": [
        {
          "output_type": "execute_result",
          "data": {
            "text/html": [
              "<div>\n",
              "<style scoped>\n",
              "    .dataframe tbody tr th:only-of-type {\n",
              "        vertical-align: middle;\n",
              "    }\n",
              "\n",
              "    .dataframe tbody tr th {\n",
              "        vertical-align: top;\n",
              "    }\n",
              "\n",
              "    .dataframe thead th {\n",
              "        text-align: right;\n",
              "    }\n",
              "</style>\n",
              "<table border=\"1\" class=\"dataframe\">\n",
              "  <thead>\n",
              "    <tr style=\"text-align: right;\">\n",
              "      <th></th>\n",
              "      <th>instant</th>\n",
              "      <th>dteday</th>\n",
              "      <th>season</th>\n",
              "      <th>yr</th>\n",
              "      <th>mnth</th>\n",
              "      <th>hr</th>\n",
              "      <th>holiday</th>\n",
              "      <th>weekday</th>\n",
              "      <th>workingday</th>\n",
              "      <th>weathersit</th>\n",
              "      <th>atemp</th>\n",
              "      <th>hum</th>\n",
              "      <th>windspeed</th>\n",
              "      <th>casual</th>\n",
              "      <th>registered</th>\n",
              "      <th>cnt</th>\n",
              "      <th>cnt_bins</th>\n",
              "      <th>clear</th>\n",
              "      <th>mist</th>\n",
              "      <th>snow</th>\n",
              "      <th>heavyrain</th>\n",
              "      <th>0</th>\n",
              "      <th>1</th>\n",
              "      <th>2</th>\n",
              "      <th>3</th>\n",
              "      <th>4</th>\n",
              "      <th>5</th>\n",
              "      <th>6</th>\n",
              "      <th>7</th>\n",
              "      <th>8</th>\n",
              "      <th>9</th>\n",
              "      <th>10</th>\n",
              "      <th>11</th>\n",
              "      <th>12</th>\n",
              "      <th>13</th>\n",
              "      <th>14</th>\n",
              "      <th>15</th>\n",
              "      <th>16</th>\n",
              "      <th>17</th>\n",
              "      <th>18</th>\n",
              "      <th>19</th>\n",
              "      <th>20</th>\n",
              "      <th>21</th>\n",
              "      <th>22</th>\n",
              "      <th>23</th>\n",
              "      <th>spring</th>\n",
              "      <th>summer</th>\n",
              "      <th>fall</th>\n",
              "      <th>winter</th>\n",
              "    </tr>\n",
              "  </thead>\n",
              "  <tbody>\n",
              "    <tr>\n",
              "      <th>0</th>\n",
              "      <td>1</td>\n",
              "      <td>2011-01-01</td>\n",
              "      <td>1</td>\n",
              "      <td>0</td>\n",
              "      <td>1</td>\n",
              "      <td>0</td>\n",
              "      <td>0</td>\n",
              "      <td>6</td>\n",
              "      <td>0</td>\n",
              "      <td>1</td>\n",
              "      <td>0.2879</td>\n",
              "      <td>0.81</td>\n",
              "      <td>0.0</td>\n",
              "      <td>3</td>\n",
              "      <td>13</td>\n",
              "      <td>16</td>\n",
              "      <td>0-200</td>\n",
              "      <td>1</td>\n",
              "      <td>0</td>\n",
              "      <td>0</td>\n",
              "      <td>0</td>\n",
              "      <td>1</td>\n",
              "      <td>0</td>\n",
              "      <td>0</td>\n",
              "      <td>0</td>\n",
              "      <td>0</td>\n",
              "      <td>0</td>\n",
              "      <td>0</td>\n",
              "      <td>0</td>\n",
              "      <td>0</td>\n",
              "      <td>0</td>\n",
              "      <td>0</td>\n",
              "      <td>0</td>\n",
              "      <td>0</td>\n",
              "      <td>0</td>\n",
              "      <td>0</td>\n",
              "      <td>0</td>\n",
              "      <td>0</td>\n",
              "      <td>0</td>\n",
              "      <td>0</td>\n",
              "      <td>0</td>\n",
              "      <td>0</td>\n",
              "      <td>0</td>\n",
              "      <td>0</td>\n",
              "      <td>0</td>\n",
              "      <td>1</td>\n",
              "      <td>0</td>\n",
              "      <td>0</td>\n",
              "      <td>0</td>\n",
              "    </tr>\n",
              "    <tr>\n",
              "      <th>1</th>\n",
              "      <td>2</td>\n",
              "      <td>2011-01-01</td>\n",
              "      <td>1</td>\n",
              "      <td>0</td>\n",
              "      <td>1</td>\n",
              "      <td>1</td>\n",
              "      <td>0</td>\n",
              "      <td>6</td>\n",
              "      <td>0</td>\n",
              "      <td>1</td>\n",
              "      <td>0.2727</td>\n",
              "      <td>0.80</td>\n",
              "      <td>0.0</td>\n",
              "      <td>8</td>\n",
              "      <td>32</td>\n",
              "      <td>40</td>\n",
              "      <td>0-200</td>\n",
              "      <td>1</td>\n",
              "      <td>0</td>\n",
              "      <td>0</td>\n",
              "      <td>0</td>\n",
              "      <td>0</td>\n",
              "      <td>1</td>\n",
              "      <td>0</td>\n",
              "      <td>0</td>\n",
              "      <td>0</td>\n",
              "      <td>0</td>\n",
              "      <td>0</td>\n",
              "      <td>0</td>\n",
              "      <td>0</td>\n",
              "      <td>0</td>\n",
              "      <td>0</td>\n",
              "      <td>0</td>\n",
              "      <td>0</td>\n",
              "      <td>0</td>\n",
              "      <td>0</td>\n",
              "      <td>0</td>\n",
              "      <td>0</td>\n",
              "      <td>0</td>\n",
              "      <td>0</td>\n",
              "      <td>0</td>\n",
              "      <td>0</td>\n",
              "      <td>0</td>\n",
              "      <td>0</td>\n",
              "      <td>0</td>\n",
              "      <td>1</td>\n",
              "      <td>0</td>\n",
              "      <td>0</td>\n",
              "      <td>0</td>\n",
              "    </tr>\n",
              "    <tr>\n",
              "      <th>2</th>\n",
              "      <td>3</td>\n",
              "      <td>2011-01-01</td>\n",
              "      <td>1</td>\n",
              "      <td>0</td>\n",
              "      <td>1</td>\n",
              "      <td>2</td>\n",
              "      <td>0</td>\n",
              "      <td>6</td>\n",
              "      <td>0</td>\n",
              "      <td>1</td>\n",
              "      <td>0.2727</td>\n",
              "      <td>0.80</td>\n",
              "      <td>0.0</td>\n",
              "      <td>5</td>\n",
              "      <td>27</td>\n",
              "      <td>32</td>\n",
              "      <td>0-200</td>\n",
              "      <td>1</td>\n",
              "      <td>0</td>\n",
              "      <td>0</td>\n",
              "      <td>0</td>\n",
              "      <td>0</td>\n",
              "      <td>0</td>\n",
              "      <td>1</td>\n",
              "      <td>0</td>\n",
              "      <td>0</td>\n",
              "      <td>0</td>\n",
              "      <td>0</td>\n",
              "      <td>0</td>\n",
              "      <td>0</td>\n",
              "      <td>0</td>\n",
              "      <td>0</td>\n",
              "      <td>0</td>\n",
              "      <td>0</td>\n",
              "      <td>0</td>\n",
              "      <td>0</td>\n",
              "      <td>0</td>\n",
              "      <td>0</td>\n",
              "      <td>0</td>\n",
              "      <td>0</td>\n",
              "      <td>0</td>\n",
              "      <td>0</td>\n",
              "      <td>0</td>\n",
              "      <td>0</td>\n",
              "      <td>0</td>\n",
              "      <td>1</td>\n",
              "      <td>0</td>\n",
              "      <td>0</td>\n",
              "      <td>0</td>\n",
              "    </tr>\n",
              "    <tr>\n",
              "      <th>3</th>\n",
              "      <td>4</td>\n",
              "      <td>2011-01-01</td>\n",
              "      <td>1</td>\n",
              "      <td>0</td>\n",
              "      <td>1</td>\n",
              "      <td>3</td>\n",
              "      <td>0</td>\n",
              "      <td>6</td>\n",
              "      <td>0</td>\n",
              "      <td>1</td>\n",
              "      <td>0.2879</td>\n",
              "      <td>0.75</td>\n",
              "      <td>0.0</td>\n",
              "      <td>3</td>\n",
              "      <td>10</td>\n",
              "      <td>13</td>\n",
              "      <td>0-200</td>\n",
              "      <td>1</td>\n",
              "      <td>0</td>\n",
              "      <td>0</td>\n",
              "      <td>0</td>\n",
              "      <td>0</td>\n",
              "      <td>0</td>\n",
              "      <td>0</td>\n",
              "      <td>1</td>\n",
              "      <td>0</td>\n",
              "      <td>0</td>\n",
              "      <td>0</td>\n",
              "      <td>0</td>\n",
              "      <td>0</td>\n",
              "      <td>0</td>\n",
              "      <td>0</td>\n",
              "      <td>0</td>\n",
              "      <td>0</td>\n",
              "      <td>0</td>\n",
              "      <td>0</td>\n",
              "      <td>0</td>\n",
              "      <td>0</td>\n",
              "      <td>0</td>\n",
              "      <td>0</td>\n",
              "      <td>0</td>\n",
              "      <td>0</td>\n",
              "      <td>0</td>\n",
              "      <td>0</td>\n",
              "      <td>0</td>\n",
              "      <td>1</td>\n",
              "      <td>0</td>\n",
              "      <td>0</td>\n",
              "      <td>0</td>\n",
              "    </tr>\n",
              "    <tr>\n",
              "      <th>4</th>\n",
              "      <td>5</td>\n",
              "      <td>2011-01-01</td>\n",
              "      <td>1</td>\n",
              "      <td>0</td>\n",
              "      <td>1</td>\n",
              "      <td>4</td>\n",
              "      <td>0</td>\n",
              "      <td>6</td>\n",
              "      <td>0</td>\n",
              "      <td>1</td>\n",
              "      <td>0.2879</td>\n",
              "      <td>0.75</td>\n",
              "      <td>0.0</td>\n",
              "      <td>0</td>\n",
              "      <td>1</td>\n",
              "      <td>1</td>\n",
              "      <td>0-200</td>\n",
              "      <td>1</td>\n",
              "      <td>0</td>\n",
              "      <td>0</td>\n",
              "      <td>0</td>\n",
              "      <td>0</td>\n",
              "      <td>0</td>\n",
              "      <td>0</td>\n",
              "      <td>0</td>\n",
              "      <td>1</td>\n",
              "      <td>0</td>\n",
              "      <td>0</td>\n",
              "      <td>0</td>\n",
              "      <td>0</td>\n",
              "      <td>0</td>\n",
              "      <td>0</td>\n",
              "      <td>0</td>\n",
              "      <td>0</td>\n",
              "      <td>0</td>\n",
              "      <td>0</td>\n",
              "      <td>0</td>\n",
              "      <td>0</td>\n",
              "      <td>0</td>\n",
              "      <td>0</td>\n",
              "      <td>0</td>\n",
              "      <td>0</td>\n",
              "      <td>0</td>\n",
              "      <td>0</td>\n",
              "      <td>0</td>\n",
              "      <td>1</td>\n",
              "      <td>0</td>\n",
              "      <td>0</td>\n",
              "      <td>0</td>\n",
              "    </tr>\n",
              "  </tbody>\n",
              "</table>\n",
              "</div>"
            ],
            "text/plain": [
              "   instant      dteday  season  yr  mnth  ...  23  spring  summer  fall  winter\n",
              "0        1  2011-01-01       1   0     1  ...   0       1       0     0       0\n",
              "1        2  2011-01-01       1   0     1  ...   0       1       0     0       0\n",
              "2        3  2011-01-01       1   0     1  ...   0       1       0     0       0\n",
              "3        4  2011-01-01       1   0     1  ...   0       1       0     0       0\n",
              "4        5  2011-01-01       1   0     1  ...   0       1       0     0       0\n",
              "\n",
              "[5 rows x 49 columns]"
            ]
          },
          "metadata": {
            "tags": []
          },
          "execution_count": 120
        }
      ]
    },
    {
      "cell_type": "markdown",
      "metadata": {
        "id": "9o1dQEMD04Ux",
        "colab_type": "text"
      },
      "source": [
        "Renaming columns headers for cnt to be more intuitive "
      ]
    },
    {
      "cell_type": "code",
      "metadata": {
        "id": "k6nRmxVd04Ux",
        "colab_type": "code",
        "colab": {}
      },
      "source": [
        "df_bike = df_bike.rename(columns={\"cnt\":\"num_users\", \"cnt_bins\":\"num_users_bins\"})"
      ],
      "execution_count": 0,
      "outputs": []
    },
    {
      "cell_type": "code",
      "metadata": {
        "id": "6gpkMduN04U4",
        "colab_type": "code",
        "outputId": "e4134fd8-d605-4b9c-d8e2-6c5f7ffb3cc9",
        "colab": {
          "base_uri": "https://localhost:8080/",
          "height": 309
        }
      },
      "source": [
        "df_bike.head()"
      ],
      "execution_count": 0,
      "outputs": [
        {
          "output_type": "execute_result",
          "data": {
            "text/html": [
              "<div>\n",
              "<style scoped>\n",
              "    .dataframe tbody tr th:only-of-type {\n",
              "        vertical-align: middle;\n",
              "    }\n",
              "\n",
              "    .dataframe tbody tr th {\n",
              "        vertical-align: top;\n",
              "    }\n",
              "\n",
              "    .dataframe thead th {\n",
              "        text-align: right;\n",
              "    }\n",
              "</style>\n",
              "<table border=\"1\" class=\"dataframe\">\n",
              "  <thead>\n",
              "    <tr style=\"text-align: right;\">\n",
              "      <th></th>\n",
              "      <th>instant</th>\n",
              "      <th>dteday</th>\n",
              "      <th>season</th>\n",
              "      <th>yr</th>\n",
              "      <th>mnth</th>\n",
              "      <th>hr</th>\n",
              "      <th>holiday</th>\n",
              "      <th>weekday</th>\n",
              "      <th>workingday</th>\n",
              "      <th>weathersit</th>\n",
              "      <th>atemp</th>\n",
              "      <th>hum</th>\n",
              "      <th>windspeed</th>\n",
              "      <th>casual</th>\n",
              "      <th>registered</th>\n",
              "      <th>num_users</th>\n",
              "      <th>num_users_bins</th>\n",
              "      <th>clear</th>\n",
              "      <th>mist</th>\n",
              "      <th>snow</th>\n",
              "      <th>heavyrain</th>\n",
              "      <th>0</th>\n",
              "      <th>1</th>\n",
              "      <th>2</th>\n",
              "      <th>3</th>\n",
              "      <th>4</th>\n",
              "      <th>5</th>\n",
              "      <th>6</th>\n",
              "      <th>7</th>\n",
              "      <th>8</th>\n",
              "      <th>9</th>\n",
              "      <th>10</th>\n",
              "      <th>11</th>\n",
              "      <th>12</th>\n",
              "      <th>13</th>\n",
              "      <th>14</th>\n",
              "      <th>15</th>\n",
              "      <th>16</th>\n",
              "      <th>17</th>\n",
              "      <th>18</th>\n",
              "      <th>19</th>\n",
              "      <th>20</th>\n",
              "      <th>21</th>\n",
              "      <th>22</th>\n",
              "      <th>23</th>\n",
              "      <th>spring</th>\n",
              "      <th>summer</th>\n",
              "      <th>fall</th>\n",
              "      <th>winter</th>\n",
              "    </tr>\n",
              "  </thead>\n",
              "  <tbody>\n",
              "    <tr>\n",
              "      <th>0</th>\n",
              "      <td>1</td>\n",
              "      <td>2011-01-01</td>\n",
              "      <td>1</td>\n",
              "      <td>0</td>\n",
              "      <td>1</td>\n",
              "      <td>0</td>\n",
              "      <td>0</td>\n",
              "      <td>6</td>\n",
              "      <td>0</td>\n",
              "      <td>1</td>\n",
              "      <td>0.2879</td>\n",
              "      <td>0.81</td>\n",
              "      <td>0.0</td>\n",
              "      <td>3</td>\n",
              "      <td>13</td>\n",
              "      <td>16</td>\n",
              "      <td>0-200</td>\n",
              "      <td>1</td>\n",
              "      <td>0</td>\n",
              "      <td>0</td>\n",
              "      <td>0</td>\n",
              "      <td>1</td>\n",
              "      <td>0</td>\n",
              "      <td>0</td>\n",
              "      <td>0</td>\n",
              "      <td>0</td>\n",
              "      <td>0</td>\n",
              "      <td>0</td>\n",
              "      <td>0</td>\n",
              "      <td>0</td>\n",
              "      <td>0</td>\n",
              "      <td>0</td>\n",
              "      <td>0</td>\n",
              "      <td>0</td>\n",
              "      <td>0</td>\n",
              "      <td>0</td>\n",
              "      <td>0</td>\n",
              "      <td>0</td>\n",
              "      <td>0</td>\n",
              "      <td>0</td>\n",
              "      <td>0</td>\n",
              "      <td>0</td>\n",
              "      <td>0</td>\n",
              "      <td>0</td>\n",
              "      <td>0</td>\n",
              "      <td>1</td>\n",
              "      <td>0</td>\n",
              "      <td>0</td>\n",
              "      <td>0</td>\n",
              "    </tr>\n",
              "    <tr>\n",
              "      <th>1</th>\n",
              "      <td>2</td>\n",
              "      <td>2011-01-01</td>\n",
              "      <td>1</td>\n",
              "      <td>0</td>\n",
              "      <td>1</td>\n",
              "      <td>1</td>\n",
              "      <td>0</td>\n",
              "      <td>6</td>\n",
              "      <td>0</td>\n",
              "      <td>1</td>\n",
              "      <td>0.2727</td>\n",
              "      <td>0.80</td>\n",
              "      <td>0.0</td>\n",
              "      <td>8</td>\n",
              "      <td>32</td>\n",
              "      <td>40</td>\n",
              "      <td>0-200</td>\n",
              "      <td>1</td>\n",
              "      <td>0</td>\n",
              "      <td>0</td>\n",
              "      <td>0</td>\n",
              "      <td>0</td>\n",
              "      <td>1</td>\n",
              "      <td>0</td>\n",
              "      <td>0</td>\n",
              "      <td>0</td>\n",
              "      <td>0</td>\n",
              "      <td>0</td>\n",
              "      <td>0</td>\n",
              "      <td>0</td>\n",
              "      <td>0</td>\n",
              "      <td>0</td>\n",
              "      <td>0</td>\n",
              "      <td>0</td>\n",
              "      <td>0</td>\n",
              "      <td>0</td>\n",
              "      <td>0</td>\n",
              "      <td>0</td>\n",
              "      <td>0</td>\n",
              "      <td>0</td>\n",
              "      <td>0</td>\n",
              "      <td>0</td>\n",
              "      <td>0</td>\n",
              "      <td>0</td>\n",
              "      <td>0</td>\n",
              "      <td>1</td>\n",
              "      <td>0</td>\n",
              "      <td>0</td>\n",
              "      <td>0</td>\n",
              "    </tr>\n",
              "    <tr>\n",
              "      <th>2</th>\n",
              "      <td>3</td>\n",
              "      <td>2011-01-01</td>\n",
              "      <td>1</td>\n",
              "      <td>0</td>\n",
              "      <td>1</td>\n",
              "      <td>2</td>\n",
              "      <td>0</td>\n",
              "      <td>6</td>\n",
              "      <td>0</td>\n",
              "      <td>1</td>\n",
              "      <td>0.2727</td>\n",
              "      <td>0.80</td>\n",
              "      <td>0.0</td>\n",
              "      <td>5</td>\n",
              "      <td>27</td>\n",
              "      <td>32</td>\n",
              "      <td>0-200</td>\n",
              "      <td>1</td>\n",
              "      <td>0</td>\n",
              "      <td>0</td>\n",
              "      <td>0</td>\n",
              "      <td>0</td>\n",
              "      <td>0</td>\n",
              "      <td>1</td>\n",
              "      <td>0</td>\n",
              "      <td>0</td>\n",
              "      <td>0</td>\n",
              "      <td>0</td>\n",
              "      <td>0</td>\n",
              "      <td>0</td>\n",
              "      <td>0</td>\n",
              "      <td>0</td>\n",
              "      <td>0</td>\n",
              "      <td>0</td>\n",
              "      <td>0</td>\n",
              "      <td>0</td>\n",
              "      <td>0</td>\n",
              "      <td>0</td>\n",
              "      <td>0</td>\n",
              "      <td>0</td>\n",
              "      <td>0</td>\n",
              "      <td>0</td>\n",
              "      <td>0</td>\n",
              "      <td>0</td>\n",
              "      <td>0</td>\n",
              "      <td>1</td>\n",
              "      <td>0</td>\n",
              "      <td>0</td>\n",
              "      <td>0</td>\n",
              "    </tr>\n",
              "    <tr>\n",
              "      <th>3</th>\n",
              "      <td>4</td>\n",
              "      <td>2011-01-01</td>\n",
              "      <td>1</td>\n",
              "      <td>0</td>\n",
              "      <td>1</td>\n",
              "      <td>3</td>\n",
              "      <td>0</td>\n",
              "      <td>6</td>\n",
              "      <td>0</td>\n",
              "      <td>1</td>\n",
              "      <td>0.2879</td>\n",
              "      <td>0.75</td>\n",
              "      <td>0.0</td>\n",
              "      <td>3</td>\n",
              "      <td>10</td>\n",
              "      <td>13</td>\n",
              "      <td>0-200</td>\n",
              "      <td>1</td>\n",
              "      <td>0</td>\n",
              "      <td>0</td>\n",
              "      <td>0</td>\n",
              "      <td>0</td>\n",
              "      <td>0</td>\n",
              "      <td>0</td>\n",
              "      <td>1</td>\n",
              "      <td>0</td>\n",
              "      <td>0</td>\n",
              "      <td>0</td>\n",
              "      <td>0</td>\n",
              "      <td>0</td>\n",
              "      <td>0</td>\n",
              "      <td>0</td>\n",
              "      <td>0</td>\n",
              "      <td>0</td>\n",
              "      <td>0</td>\n",
              "      <td>0</td>\n",
              "      <td>0</td>\n",
              "      <td>0</td>\n",
              "      <td>0</td>\n",
              "      <td>0</td>\n",
              "      <td>0</td>\n",
              "      <td>0</td>\n",
              "      <td>0</td>\n",
              "      <td>0</td>\n",
              "      <td>0</td>\n",
              "      <td>1</td>\n",
              "      <td>0</td>\n",
              "      <td>0</td>\n",
              "      <td>0</td>\n",
              "    </tr>\n",
              "    <tr>\n",
              "      <th>4</th>\n",
              "      <td>5</td>\n",
              "      <td>2011-01-01</td>\n",
              "      <td>1</td>\n",
              "      <td>0</td>\n",
              "      <td>1</td>\n",
              "      <td>4</td>\n",
              "      <td>0</td>\n",
              "      <td>6</td>\n",
              "      <td>0</td>\n",
              "      <td>1</td>\n",
              "      <td>0.2879</td>\n",
              "      <td>0.75</td>\n",
              "      <td>0.0</td>\n",
              "      <td>0</td>\n",
              "      <td>1</td>\n",
              "      <td>1</td>\n",
              "      <td>0-200</td>\n",
              "      <td>1</td>\n",
              "      <td>0</td>\n",
              "      <td>0</td>\n",
              "      <td>0</td>\n",
              "      <td>0</td>\n",
              "      <td>0</td>\n",
              "      <td>0</td>\n",
              "      <td>0</td>\n",
              "      <td>1</td>\n",
              "      <td>0</td>\n",
              "      <td>0</td>\n",
              "      <td>0</td>\n",
              "      <td>0</td>\n",
              "      <td>0</td>\n",
              "      <td>0</td>\n",
              "      <td>0</td>\n",
              "      <td>0</td>\n",
              "      <td>0</td>\n",
              "      <td>0</td>\n",
              "      <td>0</td>\n",
              "      <td>0</td>\n",
              "      <td>0</td>\n",
              "      <td>0</td>\n",
              "      <td>0</td>\n",
              "      <td>0</td>\n",
              "      <td>0</td>\n",
              "      <td>0</td>\n",
              "      <td>0</td>\n",
              "      <td>1</td>\n",
              "      <td>0</td>\n",
              "      <td>0</td>\n",
              "      <td>0</td>\n",
              "    </tr>\n",
              "  </tbody>\n",
              "</table>\n",
              "</div>"
            ],
            "text/plain": [
              "   instant      dteday  season  yr  mnth  ...  23  spring  summer  fall  winter\n",
              "0        1  2011-01-01       1   0     1  ...   0       1       0     0       0\n",
              "1        2  2011-01-01       1   0     1  ...   0       1       0     0       0\n",
              "2        3  2011-01-01       1   0     1  ...   0       1       0     0       0\n",
              "3        4  2011-01-01       1   0     1  ...   0       1       0     0       0\n",
              "4        5  2011-01-01       1   0     1  ...   0       1       0     0       0\n",
              "\n",
              "[5 rows x 49 columns]"
            ]
          },
          "metadata": {
            "tags": []
          },
          "execution_count": 122
        }
      ]
    },
    {
      "cell_type": "markdown",
      "metadata": {
        "id": "Nudlth2a04U-",
        "colab_type": "text"
      },
      "source": [
        "## Exploratory Data Analysis"
      ]
    },
    {
      "cell_type": "markdown",
      "metadata": {
        "id": "7W1OJL7C04U-",
        "colab_type": "text"
      },
      "source": [
        "Plotting distribution of features"
      ]
    },
    {
      "cell_type": "code",
      "metadata": {
        "id": "K9S8w-oJ04U_",
        "colab_type": "code",
        "colab": {}
      },
      "source": [
        "def plot_distro (df_bike, column_name):\n",
        "    return df_bike[column_name].plot(kind='density')"
      ],
      "execution_count": 0,
      "outputs": []
    },
    {
      "cell_type": "code",
      "metadata": {
        "id": "JD0StTP104VE",
        "colab_type": "code",
        "outputId": "7a37e872-9f9f-4c8a-cd8a-8b4b860f30ee",
        "colab": {
          "base_uri": "https://localhost:8080/",
          "height": 282
        }
      },
      "source": [
        "plot_distro(df_bike, \"num_users\")"
      ],
      "execution_count": 0,
      "outputs": [
        {
          "output_type": "execute_result",
          "data": {
            "text/plain": [
              "<matplotlib.axes._subplots.AxesSubplot at 0x7f0aed1f5e48>"
            ]
          },
          "metadata": {
            "tags": []
          },
          "execution_count": 124
        },
        {
          "output_type": "display_data",
          "data": {
            "image/png": "[encoded data removed]",
            "text/plain": [
              "<Figure size 432x288 with 1 Axes>"
            ]
          },
          "metadata": {
            "tags": []
          }
        }
      ]
    },
    {
      "cell_type": "code",
      "metadata": {
        "id": "wL4a2s4204VH",
        "colab_type": "code",
        "colab": {}
      },
      "source": [
        "from scipy.stats import zscore\n",
        "df_bike[\"num_users_Zscore\"] = zscore(df_bike.num_users)"
      ],
      "execution_count": 0,
      "outputs": []
    },
    {
      "cell_type": "markdown",
      "metadata": {
        "id": "aDNtr7tZ04VL",
        "colab_type": "text"
      },
      "source": [
        "This data is scewed to the right and likely contains many outliers"
      ]
    },
    {
      "cell_type": "code",
      "metadata": {
        "id": "akYSwp1T04VL",
        "colab_type": "code",
        "outputId": "38ee45a7-3543-47ff-9880-f1ff09a718d2",
        "colab": {
          "base_uri": "https://localhost:8080/",
          "height": 34
        }
      },
      "source": [
        "len(df_bike[abs(df_bike.num_users_Zscore) > 2.5])"
      ],
      "execution_count": 0,
      "outputs": [
        {
          "output_type": "execute_result",
          "data": {
            "text/plain": [
              "505"
            ]
          },
          "metadata": {
            "tags": []
          },
          "execution_count": 126
        }
      ]
    },
    {
      "cell_type": "markdown",
      "metadata": {
        "id": "7oGTmWNQ04VO",
        "colab_type": "text"
      },
      "source": [
        "There are a large amount of outliers. I'm going to plot the rest of the continous columns to see if the trend holds"
      ]
    },
    {
      "cell_type": "code",
      "metadata": {
        "id": "o3_ATzZZ04VO",
        "colab_type": "code",
        "outputId": "c01b5b82-5cf2-4d9a-ecb8-e72a81096f5f",
        "colab": {
          "base_uri": "https://localhost:8080/",
          "height": 282
        }
      },
      "source": [
        "plot_distro (df_bike, \"hum\")"
      ],
      "execution_count": 0,
      "outputs": [
        {
          "output_type": "execute_result",
          "data": {
            "text/plain": [
              "<matplotlib.axes._subplots.AxesSubplot at 0x7f0aee7c3e10>"
            ]
          },
          "metadata": {
            "tags": []
          },
          "execution_count": 127
        },
        {
          "output_type": "display_data",
          "data": {
            "image/png": "[encoded data removed]",
            "text/plain": [
              "<Figure size 432x288 with 1 Axes>"
            ]
          },
          "metadata": {
            "tags": []
          }
        }
      ]
    },
    {
      "cell_type": "code",
      "metadata": {
        "id": "UTm0oxNd04VU",
        "colab_type": "code",
        "outputId": "282e7bb7-1a67-4771-ca2a-fa558471eb94",
        "colab": {
          "base_uri": "https://localhost:8080/",
          "height": 282
        }
      },
      "source": [
        "plot_distro (df_bike, \"atemp\")"
      ],
      "execution_count": 0,
      "outputs": [
        {
          "output_type": "execute_result",
          "data": {
            "text/plain": [
              "<matplotlib.axes._subplots.AxesSubplot at 0x7f0aeb4a8e80>"
            ]
          },
          "metadata": {
            "tags": []
          },
          "execution_count": 128
        },
        {
          "output_type": "display_data",
          "data": {
            "image/png": "[encoded data removed]",
            "text/plain": [
              "<Figure size 432x288 with 1 Axes>"
            ]
          },
          "metadata": {
            "tags": []
          }
        }
      ]
    },
    {
      "cell_type": "code",
      "metadata": {
        "id": "9CYlABty04VY",
        "colab_type": "code",
        "outputId": "1e9544b1-2cf0-403b-b389-8f6ed3775445",
        "colab": {
          "base_uri": "https://localhost:8080/",
          "height": 282
        }
      },
      "source": [
        "plot_distro (df_bike, \"windspeed\")"
      ],
      "execution_count": 0,
      "outputs": [
        {
          "output_type": "execute_result",
          "data": {
            "text/plain": [
              "<matplotlib.axes._subplots.AxesSubplot at 0x7f0aeb4c07b8>"
            ]
          },
          "metadata": {
            "tags": []
          },
          "execution_count": 129
        },
        {
          "output_type": "display_data",
          "data": {
            "image/png": "[encoded data removed]",
            "text/plain": [
              "<Figure size 432x288 with 1 Axes>"
            ]
          },
          "metadata": {
            "tags": []
          }
        }
      ]
    },
    {
      "cell_type": "markdown",
      "metadata": {
        "id": "ZEAKT0Yl04Vd",
        "colab_type": "text"
      },
      "source": [
        "Looking at the numerical distribution of data"
      ]
    },
    {
      "cell_type": "code",
      "metadata": {
        "id": "T2GDjGmb04Vd",
        "colab_type": "code",
        "outputId": "4d5d1d2e-335c-48c7-9db8-303c7b7172b0",
        "colab": {
          "base_uri": "https://localhost:8080/",
          "height": 173
        }
      },
      "source": [
        "df_bike.windspeed.describe()"
      ],
      "execution_count": 0,
      "outputs": [
        {
          "output_type": "execute_result",
          "data": {
            "text/plain": [
              "count    17379.000000\n",
              "mean         0.190098\n",
              "std          0.122340\n",
              "min          0.000000\n",
              "25%          0.104500\n",
              "50%          0.194000\n",
              "75%          0.253700\n",
              "max          0.850700\n",
              "Name: windspeed, dtype: float64"
            ]
          },
          "metadata": {
            "tags": []
          },
          "execution_count": 130
        }
      ]
    },
    {
      "cell_type": "code",
      "metadata": {
        "id": "wBCyCt7Z04Vh",
        "colab_type": "code",
        "outputId": "5679c168-96b0-449e-eac1-ab08488e275b",
        "colab": {
          "base_uri": "https://localhost:8080/",
          "height": 173
        }
      },
      "source": [
        "df_bike.atemp.describe()"
      ],
      "execution_count": 0,
      "outputs": [
        {
          "output_type": "execute_result",
          "data": {
            "text/plain": [
              "count    17379.000000\n",
              "mean         0.475775\n",
              "std          0.171850\n",
              "min          0.000000\n",
              "25%          0.333300\n",
              "50%          0.484800\n",
              "75%          0.621200\n",
              "max          1.000000\n",
              "Name: atemp, dtype: float64"
            ]
          },
          "metadata": {
            "tags": []
          },
          "execution_count": 131
        }
      ]
    },
    {
      "cell_type": "code",
      "metadata": {
        "id": "vEDaRIom04Vk",
        "colab_type": "code",
        "outputId": "f4910755-bba7-49f9-8016-ef4a6a3a0f6e",
        "colab": {
          "base_uri": "https://localhost:8080/",
          "height": 173
        }
      },
      "source": [
        "df_bike.hum.describe()"
      ],
      "execution_count": 0,
      "outputs": [
        {
          "output_type": "execute_result",
          "data": {
            "text/plain": [
              "count    17379.000000\n",
              "mean         0.627229\n",
              "std          0.192930\n",
              "min          0.000000\n",
              "25%          0.480000\n",
              "50%          0.630000\n",
              "75%          0.780000\n",
              "max          1.000000\n",
              "Name: hum, dtype: float64"
            ]
          },
          "metadata": {
            "tags": []
          },
          "execution_count": 132
        }
      ]
    },
    {
      "cell_type": "markdown",
      "metadata": {
        "id": "kbmgbAQc04Vo",
        "colab_type": "text"
      },
      "source": [
        "The weather columns are already on the same scale but are not normally distributed. For my analysis, I want to look at usage in a steady state (not outliers). Evaluating the relationship between holidays and bike usage"
      ]
    },
    {
      "cell_type": "code",
      "metadata": {
        "id": "mARW3sdT04Vp",
        "colab_type": "code",
        "outputId": "893ab072-54a6-4b7e-f595-79775e534f3e",
        "colab": {
          "base_uri": "https://localhost:8080/",
          "height": 282
        }
      },
      "source": [
        "%matplotlib inline\n",
        "plt.scatter(df_bike.holiday, df_bike.num_users)"
      ],
      "execution_count": 0,
      "outputs": [
        {
          "output_type": "execute_result",
          "data": {
            "text/plain": [
              "<matplotlib.collections.PathCollection at 0x7f0aeb3cca20>"
            ]
          },
          "metadata": {
            "tags": []
          },
          "execution_count": 133
        },
        {
          "output_type": "display_data",
          "data": {
            "image/png": "[encoded data removed]",
            "text/plain": [
              "<Figure size 432x288 with 1 Axes>"
            ]
          },
          "metadata": {
            "tags": []
          }
        }
      ]
    },
    {
      "cell_type": "code",
      "metadata": {
        "id": "bbzuLn-z04Vs",
        "colab_type": "code",
        "outputId": "c56633a7-6ddd-4729-e65a-3bce6cdc9f63",
        "colab": {
          "base_uri": "https://localhost:8080/",
          "height": 110
        }
      },
      "source": [
        "df_bike[[\"num_users\", \"holiday\"]].corr()"
      ],
      "execution_count": 0,
      "outputs": [
        {
          "output_type": "execute_result",
          "data": {
            "text/html": [
              "<div>\n",
              "<style scoped>\n",
              "    .dataframe tbody tr th:only-of-type {\n",
              "        vertical-align: middle;\n",
              "    }\n",
              "\n",
              "    .dataframe tbody tr th {\n",
              "        vertical-align: top;\n",
              "    }\n",
              "\n",
              "    .dataframe thead th {\n",
              "        text-align: right;\n",
              "    }\n",
              "</style>\n",
              "<table border=\"1\" class=\"dataframe\">\n",
              "  <thead>\n",
              "    <tr style=\"text-align: right;\">\n",
              "      <th></th>\n",
              "      <th>num_users</th>\n",
              "      <th>holiday</th>\n",
              "    </tr>\n",
              "  </thead>\n",
              "  <tbody>\n",
              "    <tr>\n",
              "      <th>num_users</th>\n",
              "      <td>1.000000</td>\n",
              "      <td>-0.030927</td>\n",
              "    </tr>\n",
              "    <tr>\n",
              "      <th>holiday</th>\n",
              "      <td>-0.030927</td>\n",
              "      <td>1.000000</td>\n",
              "    </tr>\n",
              "  </tbody>\n",
              "</table>\n",
              "</div>"
            ],
            "text/plain": [
              "           num_users   holiday\n",
              "num_users   1.000000 -0.030927\n",
              "holiday    -0.030927  1.000000"
            ]
          },
          "metadata": {
            "tags": []
          },
          "execution_count": 134
        }
      ]
    },
    {
      "cell_type": "markdown",
      "metadata": {
        "id": "rWDw3VrL04Vu",
        "colab_type": "text"
      },
      "source": [
        "There does not appear to be a corrletion. I attemped both MinMax Scalling and Standard Scaller. Standard Scaller produced better results, including below"
      ]
    },
    {
      "cell_type": "code",
      "metadata": {
        "id": "BWv90hab04Vv",
        "colab_type": "code",
        "outputId": "6115cecd-aa9c-4701-9d78-1b72e4eb0ab3",
        "colab": {
          "base_uri": "https://localhost:8080/",
          "height": 901
        }
      },
      "source": [
        "df_bike.dtypes"
      ],
      "execution_count": 0,
      "outputs": [
        {
          "output_type": "execute_result",
          "data": {
            "text/plain": [
              "instant                int64\n",
              "dteday                object\n",
              "season                 int64\n",
              "yr                     int64\n",
              "mnth                   int64\n",
              "hr                     int64\n",
              "holiday                int64\n",
              "weekday                int64\n",
              "workingday             int64\n",
              "weathersit             int64\n",
              "atemp                float64\n",
              "hum                  float64\n",
              "windspeed            float64\n",
              "casual                 int64\n",
              "registered             int64\n",
              "num_users              int64\n",
              "num_users_bins      category\n",
              "clear                  uint8\n",
              "mist                   uint8\n",
              "snow                   uint8\n",
              "heavyrain              uint8\n",
              "0                      uint8\n",
              "1                      uint8\n",
              "2                      uint8\n",
              "3                      uint8\n",
              "4                      uint8\n",
              "5                      uint8\n",
              "6                      uint8\n",
              "7                      uint8\n",
              "8                      uint8\n",
              "9                      uint8\n",
              "10                     uint8\n",
              "11                     uint8\n",
              "12                     uint8\n",
              "13                     uint8\n",
              "14                     uint8\n",
              "15                     uint8\n",
              "16                     uint8\n",
              "17                     uint8\n",
              "18                     uint8\n",
              "19                     uint8\n",
              "20                     uint8\n",
              "21                     uint8\n",
              "22                     uint8\n",
              "23                     uint8\n",
              "spring                 uint8\n",
              "summer                 uint8\n",
              "fall                   uint8\n",
              "winter                 uint8\n",
              "num_users_Zscore     float64\n",
              "dtype: object"
            ]
          },
          "metadata": {
            "tags": []
          },
          "execution_count": 135
        }
      ]
    },
    {
      "cell_type": "code",
      "metadata": {
        "id": "siIAdC6804Vx",
        "colab_type": "code",
        "colab": {}
      },
      "source": [
        "df_bike[\"num_users\"] = df_bike.num_users.astype(float)"
      ],
      "execution_count": 0,
      "outputs": []
    },
    {
      "cell_type": "code",
      "metadata": {
        "id": "DajflESd04V1",
        "colab_type": "code",
        "colab": {}
      },
      "source": [
        "from sklearn import preprocessing"
      ],
      "execution_count": 0,
      "outputs": []
    },
    {
      "cell_type": "code",
      "metadata": {
        "id": "xbomea-N04V5",
        "colab_type": "code",
        "colab": {}
      },
      "source": [
        "standard_scaler = preprocessing.StandardScaler()"
      ],
      "execution_count": 0,
      "outputs": []
    },
    {
      "cell_type": "code",
      "metadata": {
        "id": "2sAT4dCE04V_",
        "colab_type": "code",
        "colab": {}
      },
      "source": [
        "df_bike[[\"hum\", \"windspeed\", \"atemp\", \"num_users\"]] = standard_scaler.fit_transform(df_bike[[\"hum\", \"windspeed\", \"atemp\", \"num_users\"]])"
      ],
      "execution_count": 0,
      "outputs": []
    },
    {
      "cell_type": "markdown",
      "metadata": {
        "id": "OYxn_9g104WD",
        "colab_type": "text"
      },
      "source": [
        "Tessting for normality, not using Shapiro method as my sample size > 1000"
      ]
    },
    {
      "cell_type": "code",
      "metadata": {
        "id": "CjPkg8be04WD",
        "colab_type": "code",
        "outputId": "5778a7b3-59af-432a-9f4c-f632eea3c24b",
        "colab": {
          "base_uri": "https://localhost:8080/",
          "height": 208
        }
      },
      "source": [
        "from scipy.stats import anderson\n",
        "result = anderson(df_bike.hum)\n",
        "\n",
        "print('Test Statistic: {}'.format(result.statistic))\n",
        "\n",
        "p = 0\n",
        "for i in range(len(result.critical_values)):\n",
        "    sl, cv = result.significance_level[i], result.critical_values[i]\n",
        "    if result.statistic < result.critical_values[i]:\n",
        "        print('Significance: {} \\n Pval cutoff: {} - Data looks normal (fail to reject H0)'.format(sl, cv))\n",
        "    else:\n",
        "        print('Significance: {} \\n Pval cutoff: {} - Data does not look normal (reject H0)'.format(sl, cv))\n",
        "        "
      ],
      "execution_count": 0,
      "outputs": [
        {
          "output_type": "stream",
          "text": [
            "Test Statistic: 92.87520063267584\n",
            "Significance: 15.0 \n",
            " Pval cutoff: 0.576 - Data does not look normal (reject H0)\n",
            "Significance: 10.0 \n",
            " Pval cutoff: 0.656 - Data does not look normal (reject H0)\n",
            "Significance: 5.0 \n",
            " Pval cutoff: 0.787 - Data does not look normal (reject H0)\n",
            "Significance: 2.5 \n",
            " Pval cutoff: 0.918 - Data does not look normal (reject H0)\n",
            "Significance: 1.0 \n",
            " Pval cutoff: 1.092 - Data does not look normal (reject H0)\n"
          ],
          "name": "stdout"
        }
      ]
    },
    {
      "cell_type": "code",
      "metadata": {
        "id": "Ybl8MSFi04WJ",
        "colab_type": "code",
        "outputId": "f8cbf35d-c68c-4abe-86c6-bc5799ba1cef",
        "colab": {
          "base_uri": "https://localhost:8080/",
          "height": 208
        }
      },
      "source": [
        "from scipy.stats import anderson\n",
        "result = anderson(df_bike.windspeed)\n",
        "\n",
        "print('Test Statistic: {}'.format(result.statistic))\n",
        "\n",
        "p = 0\n",
        "for i in range(len(result.critical_values)):\n",
        "    sl, cv = result.significance_level[i], result.critical_values[i]\n",
        "    if result.statistic < result.critical_values[i]:\n",
        "        print('Significance: {} \\n Pval cutoff: {} - Data looks normal (fail to reject H0)'.format(sl, cv))\n",
        "    else:\n",
        "        print('Significance: {} \\n Pval cutoff: {} - Data does not look normal (reject H0)'.format(sl, cv))"
      ],
      "execution_count": 0,
      "outputs": [
        {
          "output_type": "stream",
          "text": [
            "Test Statistic: 153.79320426890627\n",
            "Significance: 15.0 \n",
            " Pval cutoff: 0.576 - Data does not look normal (reject H0)\n",
            "Significance: 10.0 \n",
            " Pval cutoff: 0.656 - Data does not look normal (reject H0)\n",
            "Significance: 5.0 \n",
            " Pval cutoff: 0.787 - Data does not look normal (reject H0)\n",
            "Significance: 2.5 \n",
            " Pval cutoff: 0.918 - Data does not look normal (reject H0)\n",
            "Significance: 1.0 \n",
            " Pval cutoff: 1.092 - Data does not look normal (reject H0)\n"
          ],
          "name": "stdout"
        }
      ]
    },
    {
      "cell_type": "code",
      "metadata": {
        "id": "MND9-D9l04WO",
        "colab_type": "code",
        "outputId": "865d262a-0eb1-48f4-890a-5cb66fd82ede",
        "colab": {
          "base_uri": "https://localhost:8080/",
          "height": 208
        }
      },
      "source": [
        "from scipy.stats import anderson\n",
        "result = anderson(df_bike.atemp)\n",
        "\n",
        "print('Test Statistic: {}'.format(result.statistic))\n",
        "\n",
        "p = 0\n",
        "for i in range(len(result.critical_values)):\n",
        "    sl, cv = result.significance_level[i], result.critical_values[i]\n",
        "    if result.statistic < result.critical_values[i]:\n",
        "        print('Significance: {} \\n Pval cutoff: {} - Data looks normal (fail to reject H0)'.format(sl, cv))\n",
        "    else:\n",
        "        print('Significance: {} \\n Pval cutoff: {} - Data does not look normal (reject H0)'.format(sl, cv))"
      ],
      "execution_count": 0,
      "outputs": [
        {
          "output_type": "stream",
          "text": [
            "Test Statistic: 114.93329972441279\n",
            "Significance: 15.0 \n",
            " Pval cutoff: 0.576 - Data does not look normal (reject H0)\n",
            "Significance: 10.0 \n",
            " Pval cutoff: 0.656 - Data does not look normal (reject H0)\n",
            "Significance: 5.0 \n",
            " Pval cutoff: 0.787 - Data does not look normal (reject H0)\n",
            "Significance: 2.5 \n",
            " Pval cutoff: 0.918 - Data does not look normal (reject H0)\n",
            "Significance: 1.0 \n",
            " Pval cutoff: 1.092 - Data does not look normal (reject H0)\n"
          ],
          "name": "stdout"
        }
      ]
    },
    {
      "cell_type": "code",
      "metadata": {
        "id": "GlQRb04d04WS",
        "colab_type": "code",
        "outputId": "4b85c607-9b95-4f7a-dc36-b6772192dfae",
        "colab": {
          "base_uri": "https://localhost:8080/",
          "height": 208
        }
      },
      "source": [
        "from scipy.stats import anderson\n",
        "result = anderson(df_bike.num_users)\n",
        "\n",
        "print('Test Statistic: {}'.format(result.statistic))\n",
        "\n",
        "p = 0\n",
        "for i in range(len(result.critical_values)):\n",
        "    sl, cv = result.significance_level[i], result.critical_values[i]\n",
        "    if result.statistic < result.critical_values[i]:\n",
        "        print('Significance: {} \\n Pval cutoff: {} - Data looks normal (fail to reject H0)'.format(sl, cv))\n",
        "    else:\n",
        "        print('Significance: {} \\n Pval cutoff: {} - Data does not look normal (reject H0)'.format(sl, cv))"
      ],
      "execution_count": 0,
      "outputs": [
        {
          "output_type": "stream",
          "text": [
            "Test Statistic: 598.7079002142491\n",
            "Significance: 15.0 \n",
            " Pval cutoff: 0.576 - Data does not look normal (reject H0)\n",
            "Significance: 10.0 \n",
            " Pval cutoff: 0.656 - Data does not look normal (reject H0)\n",
            "Significance: 5.0 \n",
            " Pval cutoff: 0.787 - Data does not look normal (reject H0)\n",
            "Significance: 2.5 \n",
            " Pval cutoff: 0.918 - Data does not look normal (reject H0)\n",
            "Significance: 1.0 \n",
            " Pval cutoff: 1.092 - Data does not look normal (reject H0)\n"
          ],
          "name": "stdout"
        }
      ]
    },
    {
      "cell_type": "code",
      "metadata": {
        "id": "nRb3UDpC04WV",
        "colab_type": "code",
        "outputId": "00250c9b-b846-4d05-9ef9-abf05721aadc",
        "colab": {
          "base_uri": "https://localhost:8080/",
          "height": 52
        }
      },
      "source": [
        "from scipy.stats import normaltest\n",
        "\n",
        "# normality test\n",
        "k2_stat, p = normaltest(df_bike.hum)\n",
        "print('K^2 Stat= {}, Pvalue= {}'.format(k2_stat, p))\n",
        "# interpret\n",
        "alpha = 0.05\n",
        "if p > alpha:\n",
        "    print('Sample looks Gaussian (fail to reject H0)')\n",
        "else:\n",
        "    print('Sample does not look Gaussian (reject H0)')"
      ],
      "execution_count": 0,
      "outputs": [
        {
          "output_type": "stream",
          "text": [
            "K^2 Stat= 1705.6434642713257, Pvalue= 0.0\n",
            "Sample does not look Gaussian (reject H0)\n"
          ],
          "name": "stdout"
        }
      ]
    },
    {
      "cell_type": "code",
      "metadata": {
        "id": "mD6-F7iC04Wd",
        "colab_type": "code",
        "outputId": "6f00d678-3623-42a8-d536-457a5d5dcede",
        "colab": {
          "base_uri": "https://localhost:8080/",
          "height": 52
        }
      },
      "source": [
        "from scipy.stats import normaltest\n",
        "\n",
        "# normality test\n",
        "k2_stat, p = normaltest(df_bike.atemp)\n",
        "print('K^2 Stat= {}, Pvalue= {}'.format(k2_stat, p))\n",
        "# interpret\n",
        "alpha = 0.05\n",
        "if p > alpha:\n",
        "    print('Sample looks Gaussian (fail to reject H0)')\n",
        "else:\n",
        "    print('Sample does not look Gaussian (reject H0)')"
      ],
      "execution_count": 0,
      "outputs": [
        {
          "output_type": "stream",
          "text": [
            "K^2 Stat= 1854.8565754559982, Pvalue= 0.0\n",
            "Sample does not look Gaussian (reject H0)\n"
          ],
          "name": "stdout"
        }
      ]
    },
    {
      "cell_type": "code",
      "metadata": {
        "id": "hYvizLyr04Wh",
        "colab_type": "code",
        "outputId": "67dfda0e-9a03-4381-e70f-095541a0c18b",
        "colab": {
          "base_uri": "https://localhost:8080/",
          "height": 52
        }
      },
      "source": [
        "from scipy.stats import normaltest\n",
        "\n",
        "# normality test\n",
        "k2_stat, p = normaltest(df_bike.windspeed)\n",
        "print('K^2 Stat= {}, Pvalue= {}'.format(k2_stat, p))\n",
        "# interpret\n",
        "alpha = 0.05\n",
        "if p > alpha:\n",
        "    print('Sample looks Gaussian (fail to reject H0)')\n",
        "else:\n",
        "    print('Sample does not look Gaussian (reject H0)')"
      ],
      "execution_count": 0,
      "outputs": [
        {
          "output_type": "stream",
          "text": [
            "K^2 Stat= 986.0031793429366, Pvalue= 7.800636416698471e-215\n",
            "Sample does not look Gaussian (reject H0)\n"
          ],
          "name": "stdout"
        }
      ]
    },
    {
      "cell_type": "code",
      "metadata": {
        "id": "8Z7pacCa04Wl",
        "colab_type": "code",
        "outputId": "aeeffe00-1e82-44f5-cc58-35e2c7f480be",
        "colab": {
          "base_uri": "https://localhost:8080/",
          "height": 52
        }
      },
      "source": [
        "from scipy.stats import normaltest\n",
        "\n",
        "# normality test\n",
        "k2_stat, p = normaltest(df_bike.num_users)\n",
        "print('K^2 Stat= {}, Pvalue= {}'.format(k2_stat, p))\n",
        "# interpret\n",
        "alpha = 0.05\n",
        "if p > alpha:\n",
        "    print('Sample looks Gaussian (fail to reject H0)')\n",
        "else:\n",
        "    print('Sample does not look Gaussian (reject H0)')"
      ],
      "execution_count": 0,
      "outputs": [
        {
          "output_type": "stream",
          "text": [
            "K^2 Stat= 3459.8319080485735, Pvalue= 0.0\n",
            "Sample does not look Gaussian (reject H0)\n"
          ],
          "name": "stdout"
        }
      ]
    },
    {
      "cell_type": "code",
      "metadata": {
        "id": "WEnvM-eC04Wo",
        "colab_type": "code",
        "outputId": "a095caf7-311c-4fa1-f7d6-f9e577bf9a33",
        "colab": {
          "base_uri": "https://localhost:8080/",
          "height": 194
        }
      },
      "source": [
        "from scipy import stats\n",
        "fig = plt.figure()\n",
        "ax = fig.add_subplot(223)\n",
        "stats.probplot(df_bike.hum, dist=\"norm\", plot=plt)\n",
        "ax.set_title(\"Humidity\")"
      ],
      "execution_count": 0,
      "outputs": [
        {
          "output_type": "execute_result",
          "data": {
            "text/plain": [
              "Text(0.5, 1.0, 'Humidity')"
            ]
          },
          "metadata": {
            "tags": []
          },
          "execution_count": 149
        },
        {
          "output_type": "display_data",
          "data": {
            "image/png": "[encoded data removed]",
            "text/plain": [
              "<Figure size 432x288 with 1 Axes>"
            ]
          },
          "metadata": {
            "tags": []
          }
        }
      ]
    },
    {
      "cell_type": "code",
      "metadata": {
        "id": "edJ3Yrm004Wq",
        "colab_type": "code",
        "outputId": "bd88a5c5-14d9-4e4f-95ef-c4ecbd9d7e20",
        "colab": {
          "base_uri": "https://localhost:8080/",
          "height": 194
        }
      },
      "source": [
        "fig = plt.figure()\n",
        "ax = fig.add_subplot(223)\n",
        "stats.probplot(df_bike.windspeed, dist=\"norm\", plot=plt)\n",
        "ax.set_title(\"Windspeed\")"
      ],
      "execution_count": 0,
      "outputs": [
        {
          "output_type": "execute_result",
          "data": {
            "text/plain": [
              "Text(0.5, 1.0, 'Windspeed')"
            ]
          },
          "metadata": {
            "tags": []
          },
          "execution_count": 150
        },
        {
          "output_type": "display_data",
          "data": {
            "image/png": "[encoded data removed]",
            "text/plain": [
              "<Figure size 432x288 with 1 Axes>"
            ]
          },
          "metadata": {
            "tags": []
          }
        }
      ]
    },
    {
      "cell_type": "code",
      "metadata": {
        "id": "kEnK6WOU04Ws",
        "colab_type": "code",
        "outputId": "83df2033-68ae-4a4c-92fe-6f9a51fe08a5",
        "colab": {
          "base_uri": "https://localhost:8080/",
          "height": 194
        }
      },
      "source": [
        "fig = plt.figure()\n",
        "ax = fig.add_subplot(223)\n",
        "stats.probplot(df_bike.atemp, dist=\"norm\", plot=plt)\n",
        "ax.set_title(\"Felt Temperature\")"
      ],
      "execution_count": 0,
      "outputs": [
        {
          "output_type": "execute_result",
          "data": {
            "text/plain": [
              "Text(0.5, 1.0, 'Felt Temperature')"
            ]
          },
          "metadata": {
            "tags": []
          },
          "execution_count": 151
        },
        {
          "output_type": "display_data",
          "data": {
            "image/png": "[encoded data removed]",
            "text/plain": [
              "<Figure size 432x288 with 1 Axes>"
            ]
          },
          "metadata": {
            "tags": []
          }
        }
      ]
    },
    {
      "cell_type": "code",
      "metadata": {
        "id": "RgLu6Eru04Wu",
        "colab_type": "code",
        "outputId": "c4e6a644-ccba-41fe-f18b-3637ec025d80",
        "colab": {
          "base_uri": "https://localhost:8080/",
          "height": 194
        }
      },
      "source": [
        "fig = plt.figure()\n",
        "ax = fig.add_subplot(223)\n",
        "stats.probplot(df_bike.num_users, dist=\"norm\", plot=plt)\n",
        "ax.set_title(\"Number of Users\")"
      ],
      "execution_count": 0,
      "outputs": [
        {
          "output_type": "execute_result",
          "data": {
            "text/plain": [
              "Text(0.5, 1.0, 'Number of Users')"
            ]
          },
          "metadata": {
            "tags": []
          },
          "execution_count": 152
        },
        {
          "output_type": "display_data",
          "data": {
            "image/png": "[encoded data removed]",
            "text/plain": [
              "<Figure size 432x288 with 1 Axes>"
            ]
          },
          "metadata": {
            "tags": []
          }
        }
      ]
    },
    {
      "cell_type": "code",
      "metadata": {
        "id": "2uHayE3A04Ww",
        "colab_type": "code",
        "outputId": "a4a8f01d-d8dc-4060-a702-70c27431ecd9",
        "colab": {
          "base_uri": "https://localhost:8080/",
          "height": 282
        }
      },
      "source": [
        "df_bike.boxplot(column= [\"hum\",\"atemp\",\"windspeed\", \"num_users\"])"
      ],
      "execution_count": 0,
      "outputs": [
        {
          "output_type": "execute_result",
          "data": {
            "text/plain": [
              "<matplotlib.axes._subplots.AxesSubplot at 0x7f0aed291828>"
            ]
          },
          "metadata": {
            "tags": []
          },
          "execution_count": 153
        },
        {
          "output_type": "display_data",
          "data": {
            "image/png": "[encoded data removed]",
            "text/plain": [
              "<Figure size 432x288 with 1 Axes>"
            ]
          },
          "metadata": {
            "tags": []
          }
        }
      ]
    },
    {
      "cell_type": "markdown",
      "metadata": {
        "id": "Uzuas_EH04Wz",
        "colab_type": "text"
      },
      "source": [
        "Hum, windspeed, and num_users appear to have outliers. Determining how many use DBSCAN"
      ]
    },
    {
      "cell_type": "code",
      "metadata": {
        "id": "6nJq_YA504Wz",
        "colab_type": "code",
        "colab": {}
      },
      "source": [
        "from sklearn.cluster import DBSCAN"
      ],
      "execution_count": 0,
      "outputs": []
    },
    {
      "cell_type": "code",
      "metadata": {
        "id": "rGCj3mbp04W1",
        "colab_type": "code",
        "colab": {}
      },
      "source": [
        "outlier_detection = DBSCAN()"
      ],
      "execution_count": 0,
      "outputs": []
    },
    {
      "cell_type": "code",
      "metadata": {
        "id": "YqkeD_g-04W3",
        "colab_type": "code",
        "colab": {}
      },
      "source": [
        "outliers_to_drop = df_bike[[\"hum\", \"windspeed\", \"num_users\"]]"
      ],
      "execution_count": 0,
      "outputs": []
    },
    {
      "cell_type": "code",
      "metadata": {
        "id": "mWqI3xI404W8",
        "colab_type": "code",
        "colab": {}
      },
      "source": [
        "clusters = outlier_detection.fit_predict(outliers_to_drop)"
      ],
      "execution_count": 0,
      "outputs": []
    },
    {
      "cell_type": "code",
      "metadata": {
        "id": "d2g9oXmp04W-",
        "colab_type": "code",
        "outputId": "07b820a2-1cd8-47de-eb42-2acc39db2247",
        "colab": {
          "base_uri": "https://localhost:8080/",
          "height": 121
        }
      },
      "source": [
        "outliers_to_drop['clusters'] = clusters"
      ],
      "execution_count": 0,
      "outputs": [
        {
          "output_type": "stream",
          "text": [
            "/usr/local/lib/python3.6/dist-packages/ipykernel_launcher.py:1: SettingWithCopyWarning: \n",
            "A value is trying to be set on a copy of a slice from a DataFrame.\n",
            "Try using .loc[row_indexer,col_indexer] = value instead\n",
            "\n",
            "See the caveats in the documentation: https://pandas.pydata.org/pandas-docs/stable/user_guide/indexing.html#returning-a-view-versus-a-copy\n",
            "  \"\"\"Entry point for launching an IPython kernel.\n"
          ],
          "name": "stderr"
        }
      ]
    },
    {
      "cell_type": "code",
      "metadata": {
        "id": "6at6vr8004XC",
        "colab_type": "code",
        "outputId": "60f241d8-8aa2-4992-c5f3-d1a7043ffa56",
        "colab": {
          "base_uri": "https://localhost:8080/",
          "height": 202
        }
      },
      "source": [
        "outliers_to_drop.head()"
      ],
      "execution_count": 0,
      "outputs": [
        {
          "output_type": "execute_result",
          "data": {
            "text/html": [
              "<div>\n",
              "<style scoped>\n",
              "    .dataframe tbody tr th:only-of-type {\n",
              "        vertical-align: middle;\n",
              "    }\n",
              "\n",
              "    .dataframe tbody tr th {\n",
              "        vertical-align: top;\n",
              "    }\n",
              "\n",
              "    .dataframe thead th {\n",
              "        text-align: right;\n",
              "    }\n",
              "</style>\n",
              "<table border=\"1\" class=\"dataframe\">\n",
              "  <thead>\n",
              "    <tr style=\"text-align: right;\">\n",
              "      <th></th>\n",
              "      <th>hum</th>\n",
              "      <th>windspeed</th>\n",
              "      <th>num_users</th>\n",
              "      <th>clusters</th>\n",
              "    </tr>\n",
              "  </thead>\n",
              "  <tbody>\n",
              "    <tr>\n",
              "      <th>0</th>\n",
              "      <td>0.947372</td>\n",
              "      <td>-1.553889</td>\n",
              "      <td>-0.956339</td>\n",
              "      <td>0</td>\n",
              "    </tr>\n",
              "    <tr>\n",
              "      <th>1</th>\n",
              "      <td>0.895539</td>\n",
              "      <td>-1.553889</td>\n",
              "      <td>-0.824022</td>\n",
              "      <td>0</td>\n",
              "    </tr>\n",
              "    <tr>\n",
              "      <th>2</th>\n",
              "      <td>0.895539</td>\n",
              "      <td>-1.553889</td>\n",
              "      <td>-0.868128</td>\n",
              "      <td>0</td>\n",
              "    </tr>\n",
              "    <tr>\n",
              "      <th>3</th>\n",
              "      <td>0.636370</td>\n",
              "      <td>-1.553889</td>\n",
              "      <td>-0.972879</td>\n",
              "      <td>0</td>\n",
              "    </tr>\n",
              "    <tr>\n",
              "      <th>4</th>\n",
              "      <td>0.636370</td>\n",
              "      <td>-1.553889</td>\n",
              "      <td>-1.039037</td>\n",
              "      <td>0</td>\n",
              "    </tr>\n",
              "  </tbody>\n",
              "</table>\n",
              "</div>"
            ],
            "text/plain": [
              "        hum  windspeed  num_users  clusters\n",
              "0  0.947372  -1.553889  -0.956339         0\n",
              "1  0.895539  -1.553889  -0.824022         0\n",
              "2  0.895539  -1.553889  -0.868128         0\n",
              "3  0.636370  -1.553889  -0.972879         0\n",
              "4  0.636370  -1.553889  -1.039037         0"
            ]
          },
          "metadata": {
            "tags": []
          },
          "execution_count": 159
        }
      ]
    },
    {
      "cell_type": "code",
      "metadata": {
        "id": "_cMXwS4p04XE",
        "colab_type": "code",
        "outputId": "504b3b45-68b2-4a3d-d9b7-76c3e87b3651",
        "colab": {
          "base_uri": "https://localhost:8080/",
          "height": 104
        }
      },
      "source": [
        "outliers_to_drop.clusters.value_counts()"
      ],
      "execution_count": 0,
      "outputs": [
        {
          "output_type": "execute_result",
          "data": {
            "text/plain": [
              " 1    15136\n",
              " 0     2175\n",
              "-1       48\n",
              " 2       20\n",
              "Name: clusters, dtype: int64"
            ]
          },
          "metadata": {
            "tags": []
          },
          "execution_count": 160
        }
      ]
    },
    {
      "cell_type": "code",
      "metadata": {
        "id": "0BoKklBV04XH",
        "colab_type": "code",
        "outputId": "09d38e0f-aa82-44c2-a38a-7cd1268dbfc9",
        "colab": {
          "base_uri": "https://localhost:8080/",
          "height": 296
        }
      },
      "source": [
        "from matplotlib import cm\n",
        "cmap = cm.get_cmap('Accent')\n",
        "outliers_to_drop.plot.scatter(\n",
        "  x = \"hum\",\n",
        "  y = \"windspeed\",\n",
        "  c = clusters,\n",
        "  cmap = cmap,\n",
        "  colorbar = False\n",
        ")"
      ],
      "execution_count": 0,
      "outputs": [
        {
          "output_type": "execute_result",
          "data": {
            "text/plain": [
              "<matplotlib.axes._subplots.AxesSubplot at 0x7f0ae6f1ef60>"
            ]
          },
          "metadata": {
            "tags": []
          },
          "execution_count": 161
        },
        {
          "output_type": "display_data",
          "data": {
            "image/png": "[encoded data removed]",
            "text/plain": [
              "<Figure size 432x288 with 1 Axes>"
            ]
          },
          "metadata": {
            "tags": []
          }
        }
      ]
    },
    {
      "cell_type": "markdown",
      "metadata": {
        "id": "UfVx3t3N04XK",
        "colab_type": "text"
      },
      "source": [
        "There are clearly outliers in the dataset, now I'm going to count how many there are for each feature. "
      ]
    },
    {
      "cell_type": "code",
      "metadata": {
        "id": "WvrBEfga04XK",
        "colab_type": "code",
        "colab": {}
      },
      "source": [
        "df_bike[\"windspeed_Zscore\"] = zscore(df_bike.windspeed)"
      ],
      "execution_count": 0,
      "outputs": []
    },
    {
      "cell_type": "code",
      "metadata": {
        "id": "LoRXFmgA04XN",
        "colab_type": "code",
        "colab": {}
      },
      "source": [
        "df_bike[\"hum_Zscore\"] = zscore(df_bike.hum)"
      ],
      "execution_count": 0,
      "outputs": []
    },
    {
      "cell_type": "code",
      "metadata": {
        "id": "cs1hi09A04XP",
        "colab_type": "code",
        "colab": {}
      },
      "source": [
        "df_bike[\"atemp_Zscore\"] = zscore(df_bike.atemp)"
      ],
      "execution_count": 0,
      "outputs": []
    },
    {
      "cell_type": "code",
      "metadata": {
        "id": "38940c7P04XS",
        "colab_type": "code",
        "outputId": "7d7ec2bf-0945-4d3b-903a-6a2b570dadf3",
        "colab": {
          "base_uri": "https://localhost:8080/",
          "height": 309
        }
      },
      "source": [
        "df_bike.head()"
      ],
      "execution_count": 0,
      "outputs": [
        {
          "output_type": "execute_result",
          "data": {
            "text/html": [
              "<div>\n",
              "<style scoped>\n",
              "    .dataframe tbody tr th:only-of-type {\n",
              "        vertical-align: middle;\n",
              "    }\n",
              "\n",
              "    .dataframe tbody tr th {\n",
              "        vertical-align: top;\n",
              "    }\n",
              "\n",
              "    .dataframe thead th {\n",
              "        text-align: right;\n",
              "    }\n",
              "</style>\n",
              "<table border=\"1\" class=\"dataframe\">\n",
              "  <thead>\n",
              "    <tr style=\"text-align: right;\">\n",
              "      <th></th>\n",
              "      <th>instant</th>\n",
              "      <th>dteday</th>\n",
              "      <th>season</th>\n",
              "      <th>yr</th>\n",
              "      <th>mnth</th>\n",
              "      <th>hr</th>\n",
              "      <th>holiday</th>\n",
              "      <th>weekday</th>\n",
              "      <th>workingday</th>\n",
              "      <th>weathersit</th>\n",
              "      <th>atemp</th>\n",
              "      <th>hum</th>\n",
              "      <th>windspeed</th>\n",
              "      <th>casual</th>\n",
              "      <th>registered</th>\n",
              "      <th>num_users</th>\n",
              "      <th>num_users_bins</th>\n",
              "      <th>clear</th>\n",
              "      <th>mist</th>\n",
              "      <th>snow</th>\n",
              "      <th>heavyrain</th>\n",
              "      <th>0</th>\n",
              "      <th>1</th>\n",
              "      <th>2</th>\n",
              "      <th>3</th>\n",
              "      <th>4</th>\n",
              "      <th>5</th>\n",
              "      <th>6</th>\n",
              "      <th>7</th>\n",
              "      <th>8</th>\n",
              "      <th>9</th>\n",
              "      <th>10</th>\n",
              "      <th>11</th>\n",
              "      <th>12</th>\n",
              "      <th>13</th>\n",
              "      <th>14</th>\n",
              "      <th>15</th>\n",
              "      <th>16</th>\n",
              "      <th>17</th>\n",
              "      <th>18</th>\n",
              "      <th>19</th>\n",
              "      <th>20</th>\n",
              "      <th>21</th>\n",
              "      <th>22</th>\n",
              "      <th>23</th>\n",
              "      <th>spring</th>\n",
              "      <th>summer</th>\n",
              "      <th>fall</th>\n",
              "      <th>winter</th>\n",
              "      <th>num_users_Zscore</th>\n",
              "      <th>windspeed_Zscore</th>\n",
              "      <th>hum_Zscore</th>\n",
              "      <th>atemp_Zscore</th>\n",
              "    </tr>\n",
              "  </thead>\n",
              "  <tbody>\n",
              "    <tr>\n",
              "      <th>0</th>\n",
              "      <td>1</td>\n",
              "      <td>2011-01-01</td>\n",
              "      <td>1</td>\n",
              "      <td>0</td>\n",
              "      <td>1</td>\n",
              "      <td>0</td>\n",
              "      <td>0</td>\n",
              "      <td>6</td>\n",
              "      <td>0</td>\n",
              "      <td>1</td>\n",
              "      <td>-1.093281</td>\n",
              "      <td>0.947372</td>\n",
              "      <td>-1.553889</td>\n",
              "      <td>3</td>\n",
              "      <td>13</td>\n",
              "      <td>-0.956339</td>\n",
              "      <td>0-200</td>\n",
              "      <td>1</td>\n",
              "      <td>0</td>\n",
              "      <td>0</td>\n",
              "      <td>0</td>\n",
              "      <td>1</td>\n",
              "      <td>0</td>\n",
              "      <td>0</td>\n",
              "      <td>0</td>\n",
              "      <td>0</td>\n",
              "      <td>0</td>\n",
              "      <td>0</td>\n",
              "      <td>0</td>\n",
              "      <td>0</td>\n",
              "      <td>0</td>\n",
              "      <td>0</td>\n",
              "      <td>0</td>\n",
              "      <td>0</td>\n",
              "      <td>0</td>\n",
              "      <td>0</td>\n",
              "      <td>0</td>\n",
              "      <td>0</td>\n",
              "      <td>0</td>\n",
              "      <td>0</td>\n",
              "      <td>0</td>\n",
              "      <td>0</td>\n",
              "      <td>0</td>\n",
              "      <td>0</td>\n",
              "      <td>0</td>\n",
              "      <td>1</td>\n",
              "      <td>0</td>\n",
              "      <td>0</td>\n",
              "      <td>0</td>\n",
              "      <td>-0.956339</td>\n",
              "      <td>-1.553889</td>\n",
              "      <td>0.947372</td>\n",
              "      <td>-1.093281</td>\n",
              "    </tr>\n",
              "    <tr>\n",
              "      <th>1</th>\n",
              "      <td>2</td>\n",
              "      <td>2011-01-01</td>\n",
              "      <td>1</td>\n",
              "      <td>0</td>\n",
              "      <td>1</td>\n",
              "      <td>1</td>\n",
              "      <td>0</td>\n",
              "      <td>6</td>\n",
              "      <td>0</td>\n",
              "      <td>1</td>\n",
              "      <td>-1.181732</td>\n",
              "      <td>0.895539</td>\n",
              "      <td>-1.553889</td>\n",
              "      <td>8</td>\n",
              "      <td>32</td>\n",
              "      <td>-0.824022</td>\n",
              "      <td>0-200</td>\n",
              "      <td>1</td>\n",
              "      <td>0</td>\n",
              "      <td>0</td>\n",
              "      <td>0</td>\n",
              "      <td>0</td>\n",
              "      <td>1</td>\n",
              "      <td>0</td>\n",
              "      <td>0</td>\n",
              "      <td>0</td>\n",
              "      <td>0</td>\n",
              "      <td>0</td>\n",
              "      <td>0</td>\n",
              "      <td>0</td>\n",
              "      <td>0</td>\n",
              "      <td>0</td>\n",
              "      <td>0</td>\n",
              "      <td>0</td>\n",
              "      <td>0</td>\n",
              "      <td>0</td>\n",
              "      <td>0</td>\n",
              "      <td>0</td>\n",
              "      <td>0</td>\n",
              "      <td>0</td>\n",
              "      <td>0</td>\n",
              "      <td>0</td>\n",
              "      <td>0</td>\n",
              "      <td>0</td>\n",
              "      <td>0</td>\n",
              "      <td>1</td>\n",
              "      <td>0</td>\n",
              "      <td>0</td>\n",
              "      <td>0</td>\n",
              "      <td>-0.824022</td>\n",
              "      <td>-1.553889</td>\n",
              "      <td>0.895539</td>\n",
              "      <td>-1.181732</td>\n",
              "    </tr>\n",
              "    <tr>\n",
              "      <th>2</th>\n",
              "      <td>3</td>\n",
              "      <td>2011-01-01</td>\n",
              "      <td>1</td>\n",
              "      <td>0</td>\n",
              "      <td>1</td>\n",
              "      <td>2</td>\n",
              "      <td>0</td>\n",
              "      <td>6</td>\n",
              "      <td>0</td>\n",
              "      <td>1</td>\n",
              "      <td>-1.181732</td>\n",
              "      <td>0.895539</td>\n",
              "      <td>-1.553889</td>\n",
              "      <td>5</td>\n",
              "      <td>27</td>\n",
              "      <td>-0.868128</td>\n",
              "      <td>0-200</td>\n",
              "      <td>1</td>\n",
              "      <td>0</td>\n",
              "      <td>0</td>\n",
              "      <td>0</td>\n",
              "      <td>0</td>\n",
              "      <td>0</td>\n",
              "      <td>1</td>\n",
              "      <td>0</td>\n",
              "      <td>0</td>\n",
              "      <td>0</td>\n",
              "      <td>0</td>\n",
              "      <td>0</td>\n",
              "      <td>0</td>\n",
              "      <td>0</td>\n",
              "      <td>0</td>\n",
              "      <td>0</td>\n",
              "      <td>0</td>\n",
              "      <td>0</td>\n",
              "      <td>0</td>\n",
              "      <td>0</td>\n",
              "      <td>0</td>\n",
              "      <td>0</td>\n",
              "      <td>0</td>\n",
              "      <td>0</td>\n",
              "      <td>0</td>\n",
              "      <td>0</td>\n",
              "      <td>0</td>\n",
              "      <td>0</td>\n",
              "      <td>1</td>\n",
              "      <td>0</td>\n",
              "      <td>0</td>\n",
              "      <td>0</td>\n",
              "      <td>-0.868128</td>\n",
              "      <td>-1.553889</td>\n",
              "      <td>0.895539</td>\n",
              "      <td>-1.181732</td>\n",
              "    </tr>\n",
              "    <tr>\n",
              "      <th>3</th>\n",
              "      <td>4</td>\n",
              "      <td>2011-01-01</td>\n",
              "      <td>1</td>\n",
              "      <td>0</td>\n",
              "      <td>1</td>\n",
              "      <td>3</td>\n",
              "      <td>0</td>\n",
              "      <td>6</td>\n",
              "      <td>0</td>\n",
              "      <td>1</td>\n",
              "      <td>-1.093281</td>\n",
              "      <td>0.636370</td>\n",
              "      <td>-1.553889</td>\n",
              "      <td>3</td>\n",
              "      <td>10</td>\n",
              "      <td>-0.972879</td>\n",
              "      <td>0-200</td>\n",
              "      <td>1</td>\n",
              "      <td>0</td>\n",
              "      <td>0</td>\n",
              "      <td>0</td>\n",
              "      <td>0</td>\n",
              "      <td>0</td>\n",
              "      <td>0</td>\n",
              "      <td>1</td>\n",
              "      <td>0</td>\n",
              "      <td>0</td>\n",
              "      <td>0</td>\n",
              "      <td>0</td>\n",
              "      <td>0</td>\n",
              "      <td>0</td>\n",
              "      <td>0</td>\n",
              "      <td>0</td>\n",
              "      <td>0</td>\n",
              "      <td>0</td>\n",
              "      <td>0</td>\n",
              "      <td>0</td>\n",
              "      <td>0</td>\n",
              "      <td>0</td>\n",
              "      <td>0</td>\n",
              "      <td>0</td>\n",
              "      <td>0</td>\n",
              "      <td>0</td>\n",
              "      <td>0</td>\n",
              "      <td>0</td>\n",
              "      <td>1</td>\n",
              "      <td>0</td>\n",
              "      <td>0</td>\n",
              "      <td>0</td>\n",
              "      <td>-0.972879</td>\n",
              "      <td>-1.553889</td>\n",
              "      <td>0.636370</td>\n",
              "      <td>-1.093281</td>\n",
              "    </tr>\n",
              "    <tr>\n",
              "      <th>4</th>\n",
              "      <td>5</td>\n",
              "      <td>2011-01-01</td>\n",
              "      <td>1</td>\n",
              "      <td>0</td>\n",
              "      <td>1</td>\n",
              "      <td>4</td>\n",
              "      <td>0</td>\n",
              "      <td>6</td>\n",
              "      <td>0</td>\n",
              "      <td>1</td>\n",
              "      <td>-1.093281</td>\n",
              "      <td>0.636370</td>\n",
              "      <td>-1.553889</td>\n",
              "      <td>0</td>\n",
              "      <td>1</td>\n",
              "      <td>-1.039037</td>\n",
              "      <td>0-200</td>\n",
              "      <td>1</td>\n",
              "      <td>0</td>\n",
              "      <td>0</td>\n",
              "      <td>0</td>\n",
              "      <td>0</td>\n",
              "      <td>0</td>\n",
              "      <td>0</td>\n",
              "      <td>0</td>\n",
              "      <td>1</td>\n",
              "      <td>0</td>\n",
              "      <td>0</td>\n",
              "      <td>0</td>\n",
              "      <td>0</td>\n",
              "      <td>0</td>\n",
              "      <td>0</td>\n",
              "      <td>0</td>\n",
              "      <td>0</td>\n",
              "      <td>0</td>\n",
              "      <td>0</td>\n",
              "      <td>0</td>\n",
              "      <td>0</td>\n",
              "      <td>0</td>\n",
              "      <td>0</td>\n",
              "      <td>0</td>\n",
              "      <td>0</td>\n",
              "      <td>0</td>\n",
              "      <td>0</td>\n",
              "      <td>0</td>\n",
              "      <td>1</td>\n",
              "      <td>0</td>\n",
              "      <td>0</td>\n",
              "      <td>0</td>\n",
              "      <td>-1.039037</td>\n",
              "      <td>-1.553889</td>\n",
              "      <td>0.636370</td>\n",
              "      <td>-1.093281</td>\n",
              "    </tr>\n",
              "  </tbody>\n",
              "</table>\n",
              "</div>"
            ],
            "text/plain": [
              "   instant      dteday  season  ...  windspeed_Zscore  hum_Zscore  atemp_Zscore\n",
              "0        1  2011-01-01       1  ...         -1.553889    0.947372     -1.093281\n",
              "1        2  2011-01-01       1  ...         -1.553889    0.895539     -1.181732\n",
              "2        3  2011-01-01       1  ...         -1.553889    0.895539     -1.181732\n",
              "3        4  2011-01-01       1  ...         -1.553889    0.636370     -1.093281\n",
              "4        5  2011-01-01       1  ...         -1.553889    0.636370     -1.093281\n",
              "\n",
              "[5 rows x 53 columns]"
            ]
          },
          "metadata": {
            "tags": []
          },
          "execution_count": 165
        }
      ]
    },
    {
      "cell_type": "code",
      "metadata": {
        "id": "GpDJU40R04XV",
        "colab_type": "code",
        "outputId": "39ef4959-30ac-4b48-fbfe-6de87e261e7c",
        "colab": {
          "base_uri": "https://localhost:8080/",
          "height": 34
        }
      },
      "source": [
        "len(df_bike[abs(df_bike.hum_Zscore) > 2.5])"
      ],
      "execution_count": 0,
      "outputs": [
        {
          "output_type": "execute_result",
          "data": {
            "text/plain": [
              "28"
            ]
          },
          "metadata": {
            "tags": []
          },
          "execution_count": 166
        }
      ]
    },
    {
      "cell_type": "code",
      "metadata": {
        "id": "42akOwBq04XY",
        "colab_type": "code",
        "outputId": "2141d69d-0285-488c-ad2a-8c3eeb8b515c",
        "colab": {
          "base_uri": "https://localhost:8080/",
          "height": 34
        }
      },
      "source": [
        "len(df_bike[abs(df_bike.windspeed_Zscore) > 2.5])"
      ],
      "execution_count": 0,
      "outputs": [
        {
          "output_type": "execute_result",
          "data": {
            "text/plain": [
              "230"
            ]
          },
          "metadata": {
            "tags": []
          },
          "execution_count": 167
        }
      ]
    },
    {
      "cell_type": "code",
      "metadata": {
        "id": "e0Ha679C04Xe",
        "colab_type": "code",
        "outputId": "d4a9ef57-bcde-4ac9-9d96-8de57f2e7138",
        "colab": {
          "base_uri": "https://localhost:8080/",
          "height": 34
        }
      },
      "source": [
        "len(df_bike[abs(df_bike.hum_Zscore) > 2.5])"
      ],
      "execution_count": 0,
      "outputs": [
        {
          "output_type": "execute_result",
          "data": {
            "text/plain": [
              "28"
            ]
          },
          "metadata": {
            "tags": []
          },
          "execution_count": 168
        }
      ]
    },
    {
      "cell_type": "code",
      "metadata": {
        "id": "tMUrKXmY04Xh",
        "colab_type": "code",
        "outputId": "6008e399-d631-4fe6-a74d-f0bbf5acb45c",
        "colab": {
          "base_uri": "https://localhost:8080/",
          "height": 34
        }
      },
      "source": [
        "len(df_bike[abs(df_bike.atemp_Zscore) > 2.5])"
      ],
      "execution_count": 0,
      "outputs": [
        {
          "output_type": "execute_result",
          "data": {
            "text/plain": [
              "37"
            ]
          },
          "metadata": {
            "tags": []
          },
          "execution_count": 169
        }
      ]
    },
    {
      "cell_type": "markdown",
      "metadata": {
        "id": "g9BUz6gs04Xl",
        "colab_type": "text"
      },
      "source": [
        "I looked at the number of outliers for num_users above. Now I'm going to remove the outliers because they are not a significant poriton of my dataset and will help me to answer my questions. This should also help normalize the data. "
      ]
    },
    {
      "cell_type": "code",
      "metadata": {
        "id": "qR9vcoAm04Xl",
        "colab_type": "code",
        "colab": {}
      },
      "source": [
        "df_bike = df_bike[abs(df_bike.windspeed_Zscore) < 2.5]"
      ],
      "execution_count": 0,
      "outputs": []
    },
    {
      "cell_type": "code",
      "metadata": {
        "id": "ruh4B-pQ04Xv",
        "colab_type": "code",
        "colab": {}
      },
      "source": [
        "df_bike = df_bike[abs(df_bike.num_users_Zscore) < 2.5]"
      ],
      "execution_count": 0,
      "outputs": []
    },
    {
      "cell_type": "code",
      "metadata": {
        "id": "m3ieGsSE04Xz",
        "colab_type": "code",
        "colab": {}
      },
      "source": [
        "df_bike = df_bike[abs(df_bike.hum_Zscore) < 2.5]"
      ],
      "execution_count": 0,
      "outputs": []
    },
    {
      "cell_type": "code",
      "metadata": {
        "id": "y1la057w04X3",
        "colab_type": "code",
        "colab": {}
      },
      "source": [
        "df_bike = df_bike[abs(df_bike.atemp_Zscore) < 2.5]"
      ],
      "execution_count": 0,
      "outputs": []
    },
    {
      "cell_type": "code",
      "metadata": {
        "id": "eGSFegFq04X8",
        "colab_type": "code",
        "outputId": "b1ad2726-63d9-4e4f-d333-3a8c9de14562",
        "colab": {
          "base_uri": "https://localhost:8080/",
          "height": 609
        }
      },
      "source": [
        "df_bike"
      ],
      "execution_count": 0,
      "outputs": [
        {
          "output_type": "execute_result",
          "data": {
            "text/html": [
              "<div>\n",
              "<style scoped>\n",
              "    .dataframe tbody tr th:only-of-type {\n",
              "        vertical-align: middle;\n",
              "    }\n",
              "\n",
              "    .dataframe tbody tr th {\n",
              "        vertical-align: top;\n",
              "    }\n",
              "\n",
              "    .dataframe thead th {\n",
              "        text-align: right;\n",
              "    }\n",
              "</style>\n",
              "<table border=\"1\" class=\"dataframe\">\n",
              "  <thead>\n",
              "    <tr style=\"text-align: right;\">\n",
              "      <th></th>\n",
              "      <th>instant</th>\n",
              "      <th>dteday</th>\n",
              "      <th>season</th>\n",
              "      <th>yr</th>\n",
              "      <th>mnth</th>\n",
              "      <th>hr</th>\n",
              "      <th>holiday</th>\n",
              "      <th>weekday</th>\n",
              "      <th>workingday</th>\n",
              "      <th>weathersit</th>\n",
              "      <th>atemp</th>\n",
              "      <th>hum</th>\n",
              "      <th>windspeed</th>\n",
              "      <th>casual</th>\n",
              "      <th>registered</th>\n",
              "      <th>num_users</th>\n",
              "      <th>num_users_bins</th>\n",
              "      <th>clear</th>\n",
              "      <th>mist</th>\n",
              "      <th>snow</th>\n",
              "      <th>heavyrain</th>\n",
              "      <th>0</th>\n",
              "      <th>1</th>\n",
              "      <th>2</th>\n",
              "      <th>3</th>\n",
              "      <th>4</th>\n",
              "      <th>5</th>\n",
              "      <th>6</th>\n",
              "      <th>7</th>\n",
              "      <th>8</th>\n",
              "      <th>9</th>\n",
              "      <th>10</th>\n",
              "      <th>11</th>\n",
              "      <th>12</th>\n",
              "      <th>13</th>\n",
              "      <th>14</th>\n",
              "      <th>15</th>\n",
              "      <th>16</th>\n",
              "      <th>17</th>\n",
              "      <th>18</th>\n",
              "      <th>19</th>\n",
              "      <th>20</th>\n",
              "      <th>21</th>\n",
              "      <th>22</th>\n",
              "      <th>23</th>\n",
              "      <th>spring</th>\n",
              "      <th>summer</th>\n",
              "      <th>fall</th>\n",
              "      <th>winter</th>\n",
              "      <th>num_users_Zscore</th>\n",
              "      <th>windspeed_Zscore</th>\n",
              "      <th>hum_Zscore</th>\n",
              "      <th>atemp_Zscore</th>\n",
              "    </tr>\n",
              "  </thead>\n",
              "  <tbody>\n",
              "    <tr>\n",
              "      <th>0</th>\n",
              "      <td>1</td>\n",
              "      <td>2011-01-01</td>\n",
              "      <td>1</td>\n",
              "      <td>0</td>\n",
              "      <td>1</td>\n",
              "      <td>0</td>\n",
              "      <td>0</td>\n",
              "      <td>6</td>\n",
              "      <td>0</td>\n",
              "      <td>1</td>\n",
              "      <td>-1.093281</td>\n",
              "      <td>0.947372</td>\n",
              "      <td>-1.553889</td>\n",
              "      <td>3</td>\n",
              "      <td>13</td>\n",
              "      <td>-0.956339</td>\n",
              "      <td>0-200</td>\n",
              "      <td>1</td>\n",
              "      <td>0</td>\n",
              "      <td>0</td>\n",
              "      <td>0</td>\n",
              "      <td>1</td>\n",
              "      <td>0</td>\n",
              "      <td>0</td>\n",
              "      <td>0</td>\n",
              "      <td>0</td>\n",
              "      <td>0</td>\n",
              "      <td>0</td>\n",
              "      <td>0</td>\n",
              "      <td>0</td>\n",
              "      <td>0</td>\n",
              "      <td>0</td>\n",
              "      <td>0</td>\n",
              "      <td>0</td>\n",
              "      <td>0</td>\n",
              "      <td>0</td>\n",
              "      <td>0</td>\n",
              "      <td>0</td>\n",
              "      <td>0</td>\n",
              "      <td>0</td>\n",
              "      <td>0</td>\n",
              "      <td>0</td>\n",
              "      <td>0</td>\n",
              "      <td>0</td>\n",
              "      <td>0</td>\n",
              "      <td>1</td>\n",
              "      <td>0</td>\n",
              "      <td>0</td>\n",
              "      <td>0</td>\n",
              "      <td>-0.956339</td>\n",
              "      <td>-1.553889</td>\n",
              "      <td>0.947372</td>\n",
              "      <td>-1.093281</td>\n",
              "    </tr>\n",
              "    <tr>\n",
              "      <th>1</th>\n",
              "      <td>2</td>\n",
              "      <td>2011-01-01</td>\n",
              "      <td>1</td>\n",
              "      <td>0</td>\n",
              "      <td>1</td>\n",
              "      <td>1</td>\n",
              "      <td>0</td>\n",
              "      <td>6</td>\n",
              "      <td>0</td>\n",
              "      <td>1</td>\n",
              "      <td>-1.181732</td>\n",
              "      <td>0.895539</td>\n",
              "      <td>-1.553889</td>\n",
              "      <td>8</td>\n",
              "      <td>32</td>\n",
              "      <td>-0.824022</td>\n",
              "      <td>0-200</td>\n",
              "      <td>1</td>\n",
              "      <td>0</td>\n",
              "      <td>0</td>\n",
              "      <td>0</td>\n",
              "      <td>0</td>\n",
              "      <td>1</td>\n",
              "      <td>0</td>\n",
              "      <td>0</td>\n",
              "      <td>0</td>\n",
              "      <td>0</td>\n",
              "      <td>0</td>\n",
              "      <td>0</td>\n",
              "      <td>0</td>\n",
              "      <td>0</td>\n",
              "      <td>0</td>\n",
              "      <td>0</td>\n",
              "      <td>0</td>\n",
              "      <td>0</td>\n",
              "      <td>0</td>\n",
              "      <td>0</td>\n",
              "      <td>0</td>\n",
              "      <td>0</td>\n",
              "      <td>0</td>\n",
              "      <td>0</td>\n",
              "      <td>0</td>\n",
              "      <td>0</td>\n",
              "      <td>0</td>\n",
              "      <td>0</td>\n",
              "      <td>1</td>\n",
              "      <td>0</td>\n",
              "      <td>0</td>\n",
              "      <td>0</td>\n",
              "      <td>-0.824022</td>\n",
              "      <td>-1.553889</td>\n",
              "      <td>0.895539</td>\n",
              "      <td>-1.181732</td>\n",
              "    </tr>\n",
              "    <tr>\n",
              "      <th>2</th>\n",
              "      <td>3</td>\n",
              "      <td>2011-01-01</td>\n",
              "      <td>1</td>\n",
              "      <td>0</td>\n",
              "      <td>1</td>\n",
              "      <td>2</td>\n",
              "      <td>0</td>\n",
              "      <td>6</td>\n",
              "      <td>0</td>\n",
              "      <td>1</td>\n",
              "      <td>-1.181732</td>\n",
              "      <td>0.895539</td>\n",
              "      <td>-1.553889</td>\n",
              "      <td>5</td>\n",
              "      <td>27</td>\n",
              "      <td>-0.868128</td>\n",
              "      <td>0-200</td>\n",
              "      <td>1</td>\n",
              "      <td>0</td>\n",
              "      <td>0</td>\n",
              "      <td>0</td>\n",
              "      <td>0</td>\n",
              "      <td>0</td>\n",
              "      <td>1</td>\n",
              "      <td>0</td>\n",
              "      <td>0</td>\n",
              "      <td>0</td>\n",
              "      <td>0</td>\n",
              "      <td>0</td>\n",
              "      <td>0</td>\n",
              "      <td>0</td>\n",
              "      <td>0</td>\n",
              "      <td>0</td>\n",
              "      <td>0</td>\n",
              "      <td>0</td>\n",
              "      <td>0</td>\n",
              "      <td>0</td>\n",
              "      <td>0</td>\n",
              "      <td>0</td>\n",
              "      <td>0</td>\n",
              "      <td>0</td>\n",
              "      <td>0</td>\n",
              "      <td>0</td>\n",
              "      <td>0</td>\n",
              "      <td>0</td>\n",
              "      <td>1</td>\n",
              "      <td>0</td>\n",
              "      <td>0</td>\n",
              "      <td>0</td>\n",
              "      <td>-0.868128</td>\n",
              "      <td>-1.553889</td>\n",
              "      <td>0.895539</td>\n",
              "      <td>-1.181732</td>\n",
              "    </tr>\n",
              "    <tr>\n",
              "      <th>3</th>\n",
              "      <td>4</td>\n",
              "      <td>2011-01-01</td>\n",
              "      <td>1</td>\n",
              "      <td>0</td>\n",
              "      <td>1</td>\n",
              "      <td>3</td>\n",
              "      <td>0</td>\n",
              "      <td>6</td>\n",
              "      <td>0</td>\n",
              "      <td>1</td>\n",
              "      <td>-1.093281</td>\n",
              "      <td>0.636370</td>\n",
              "      <td>-1.553889</td>\n",
              "      <td>3</td>\n",
              "      <td>10</td>\n",
              "      <td>-0.972879</td>\n",
              "      <td>0-200</td>\n",
              "      <td>1</td>\n",
              "      <td>0</td>\n",
              "      <td>0</td>\n",
              "      <td>0</td>\n",
              "      <td>0</td>\n",
              "      <td>0</td>\n",
              "      <td>0</td>\n",
              "      <td>1</td>\n",
              "      <td>0</td>\n",
              "      <td>0</td>\n",
              "      <td>0</td>\n",
              "      <td>0</td>\n",
              "      <td>0</td>\n",
              "      <td>0</td>\n",
              "      <td>0</td>\n",
              "      <td>0</td>\n",
              "      <td>0</td>\n",
              "      <td>0</td>\n",
              "      <td>0</td>\n",
              "      <td>0</td>\n",
              "      <td>0</td>\n",
              "      <td>0</td>\n",
              "      <td>0</td>\n",
              "      <td>0</td>\n",
              "      <td>0</td>\n",
              "      <td>0</td>\n",
              "      <td>0</td>\n",
              "      <td>0</td>\n",
              "      <td>1</td>\n",
              "      <td>0</td>\n",
              "      <td>0</td>\n",
              "      <td>0</td>\n",
              "      <td>-0.972879</td>\n",
              "      <td>-1.553889</td>\n",
              "      <td>0.636370</td>\n",
              "      <td>-1.093281</td>\n",
              "    </tr>\n",
              "    <tr>\n",
              "      <th>4</th>\n",
              "      <td>5</td>\n",
              "      <td>2011-01-01</td>\n",
              "      <td>1</td>\n",
              "      <td>0</td>\n",
              "      <td>1</td>\n",
              "      <td>4</td>\n",
              "      <td>0</td>\n",
              "      <td>6</td>\n",
              "      <td>0</td>\n",
              "      <td>1</td>\n",
              "      <td>-1.093281</td>\n",
              "      <td>0.636370</td>\n",
              "      <td>-1.553889</td>\n",
              "      <td>0</td>\n",
              "      <td>1</td>\n",
              "      <td>-1.039037</td>\n",
              "      <td>0-200</td>\n",
              "      <td>1</td>\n",
              "      <td>0</td>\n",
              "      <td>0</td>\n",
              "      <td>0</td>\n",
              "      <td>0</td>\n",
              "      <td>0</td>\n",
              "      <td>0</td>\n",
              "      <td>0</td>\n",
              "      <td>1</td>\n",
              "      <td>0</td>\n",
              "      <td>0</td>\n",
              "      <td>0</td>\n",
              "      <td>0</td>\n",
              "      <td>0</td>\n",
              "      <td>0</td>\n",
              "      <td>0</td>\n",
              "      <td>0</td>\n",
              "      <td>0</td>\n",
              "      <td>0</td>\n",
              "      <td>0</td>\n",
              "      <td>0</td>\n",
              "      <td>0</td>\n",
              "      <td>0</td>\n",
              "      <td>0</td>\n",
              "      <td>0</td>\n",
              "      <td>0</td>\n",
              "      <td>0</td>\n",
              "      <td>0</td>\n",
              "      <td>1</td>\n",
              "      <td>0</td>\n",
              "      <td>0</td>\n",
              "      <td>0</td>\n",
              "      <td>-1.039037</td>\n",
              "      <td>-1.553889</td>\n",
              "      <td>0.636370</td>\n",
              "      <td>-1.093281</td>\n",
              "    </tr>\n",
              "    <tr>\n",
              "      <th>...</th>\n",
              "      <td>...</td>\n",
              "      <td>...</td>\n",
              "      <td>...</td>\n",
              "      <td>...</td>\n",
              "      <td>...</td>\n",
              "      <td>...</td>\n",
              "      <td>...</td>\n",
              "      <td>...</td>\n",
              "      <td>...</td>\n",
              "      <td>...</td>\n",
              "      <td>...</td>\n",
              "      <td>...</td>\n",
              "      <td>...</td>\n",
              "      <td>...</td>\n",
              "      <td>...</td>\n",
              "      <td>...</td>\n",
              "      <td>...</td>\n",
              "      <td>...</td>\n",
              "      <td>...</td>\n",
              "      <td>...</td>\n",
              "      <td>...</td>\n",
              "      <td>...</td>\n",
              "      <td>...</td>\n",
              "      <td>...</td>\n",
              "      <td>...</td>\n",
              "      <td>...</td>\n",
              "      <td>...</td>\n",
              "      <td>...</td>\n",
              "      <td>...</td>\n",
              "      <td>...</td>\n",
              "      <td>...</td>\n",
              "      <td>...</td>\n",
              "      <td>...</td>\n",
              "      <td>...</td>\n",
              "      <td>...</td>\n",
              "      <td>...</td>\n",
              "      <td>...</td>\n",
              "      <td>...</td>\n",
              "      <td>...</td>\n",
              "      <td>...</td>\n",
              "      <td>...</td>\n",
              "      <td>...</td>\n",
              "      <td>...</td>\n",
              "      <td>...</td>\n",
              "      <td>...</td>\n",
              "      <td>...</td>\n",
              "      <td>...</td>\n",
              "      <td>...</td>\n",
              "      <td>...</td>\n",
              "      <td>...</td>\n",
              "      <td>...</td>\n",
              "      <td>...</td>\n",
              "      <td>...</td>\n",
              "    </tr>\n",
              "    <tr>\n",
              "      <th>17374</th>\n",
              "      <td>17375</td>\n",
              "      <td>2012-12-31</td>\n",
              "      <td>1</td>\n",
              "      <td>1</td>\n",
              "      <td>12</td>\n",
              "      <td>19</td>\n",
              "      <td>0</td>\n",
              "      <td>1</td>\n",
              "      <td>1</td>\n",
              "      <td>2</td>\n",
              "      <td>-1.269602</td>\n",
              "      <td>-0.141137</td>\n",
              "      <td>-0.211691</td>\n",
              "      <td>11</td>\n",
              "      <td>108</td>\n",
              "      <td>-0.388478</td>\n",
              "      <td>0-200</td>\n",
              "      <td>0</td>\n",
              "      <td>1</td>\n",
              "      <td>0</td>\n",
              "      <td>0</td>\n",
              "      <td>0</td>\n",
              "      <td>0</td>\n",
              "      <td>0</td>\n",
              "      <td>0</td>\n",
              "      <td>0</td>\n",
              "      <td>0</td>\n",
              "      <td>0</td>\n",
              "      <td>0</td>\n",
              "      <td>0</td>\n",
              "      <td>0</td>\n",
              "      <td>0</td>\n",
              "      <td>0</td>\n",
              "      <td>0</td>\n",
              "      <td>0</td>\n",
              "      <td>0</td>\n",
              "      <td>0</td>\n",
              "      <td>0</td>\n",
              "      <td>0</td>\n",
              "      <td>0</td>\n",
              "      <td>1</td>\n",
              "      <td>0</td>\n",
              "      <td>0</td>\n",
              "      <td>0</td>\n",
              "      <td>0</td>\n",
              "      <td>1</td>\n",
              "      <td>0</td>\n",
              "      <td>0</td>\n",
              "      <td>0</td>\n",
              "      <td>-0.388478</td>\n",
              "      <td>-0.211691</td>\n",
              "      <td>-0.141137</td>\n",
              "      <td>-1.269602</td>\n",
              "    </tr>\n",
              "    <tr>\n",
              "      <th>17375</th>\n",
              "      <td>17376</td>\n",
              "      <td>2012-12-31</td>\n",
              "      <td>1</td>\n",
              "      <td>1</td>\n",
              "      <td>12</td>\n",
              "      <td>20</td>\n",
              "      <td>0</td>\n",
              "      <td>1</td>\n",
              "      <td>1</td>\n",
              "      <td>2</td>\n",
              "      <td>-1.269602</td>\n",
              "      <td>-0.141137</td>\n",
              "      <td>-0.211691</td>\n",
              "      <td>8</td>\n",
              "      <td>81</td>\n",
              "      <td>-0.553875</td>\n",
              "      <td>0-200</td>\n",
              "      <td>0</td>\n",
              "      <td>1</td>\n",
              "      <td>0</td>\n",
              "      <td>0</td>\n",
              "      <td>0</td>\n",
              "      <td>0</td>\n",
              "      <td>0</td>\n",
              "      <td>0</td>\n",
              "      <td>0</td>\n",
              "      <td>0</td>\n",
              "      <td>0</td>\n",
              "      <td>0</td>\n",
              "      <td>0</td>\n",
              "      <td>0</td>\n",
              "      <td>0</td>\n",
              "      <td>0</td>\n",
              "      <td>0</td>\n",
              "      <td>0</td>\n",
              "      <td>0</td>\n",
              "      <td>0</td>\n",
              "      <td>0</td>\n",
              "      <td>0</td>\n",
              "      <td>0</td>\n",
              "      <td>0</td>\n",
              "      <td>1</td>\n",
              "      <td>0</td>\n",
              "      <td>0</td>\n",
              "      <td>0</td>\n",
              "      <td>1</td>\n",
              "      <td>0</td>\n",
              "      <td>0</td>\n",
              "      <td>0</td>\n",
              "      <td>-0.553875</td>\n",
              "      <td>-0.211691</td>\n",
              "      <td>-0.141137</td>\n",
              "      <td>-1.269602</td>\n",
              "    </tr>\n",
              "    <tr>\n",
              "      <th>17376</th>\n",
              "      <td>17377</td>\n",
              "      <td>2012-12-31</td>\n",
              "      <td>1</td>\n",
              "      <td>1</td>\n",
              "      <td>12</td>\n",
              "      <td>21</td>\n",
              "      <td>0</td>\n",
              "      <td>1</td>\n",
              "      <td>1</td>\n",
              "      <td>1</td>\n",
              "      <td>-1.269602</td>\n",
              "      <td>-0.141137</td>\n",
              "      <td>-0.211691</td>\n",
              "      <td>7</td>\n",
              "      <td>83</td>\n",
              "      <td>-0.548361</td>\n",
              "      <td>0-200</td>\n",
              "      <td>1</td>\n",
              "      <td>0</td>\n",
              "      <td>0</td>\n",
              "      <td>0</td>\n",
              "      <td>0</td>\n",
              "      <td>0</td>\n",
              "      <td>0</td>\n",
              "      <td>0</td>\n",
              "      <td>0</td>\n",
              "      <td>0</td>\n",
              "      <td>0</td>\n",
              "      <td>0</td>\n",
              "      <td>0</td>\n",
              "      <td>0</td>\n",
              "      <td>0</td>\n",
              "      <td>0</td>\n",
              "      <td>0</td>\n",
              "      <td>0</td>\n",
              "      <td>0</td>\n",
              "      <td>0</td>\n",
              "      <td>0</td>\n",
              "      <td>0</td>\n",
              "      <td>0</td>\n",
              "      <td>0</td>\n",
              "      <td>0</td>\n",
              "      <td>1</td>\n",
              "      <td>0</td>\n",
              "      <td>0</td>\n",
              "      <td>1</td>\n",
              "      <td>0</td>\n",
              "      <td>0</td>\n",
              "      <td>0</td>\n",
              "      <td>-0.548361</td>\n",
              "      <td>-0.211691</td>\n",
              "      <td>-0.141137</td>\n",
              "      <td>-1.269602</td>\n",
              "    </tr>\n",
              "    <tr>\n",
              "      <th>17377</th>\n",
              "      <td>17378</td>\n",
              "      <td>2012-12-31</td>\n",
              "      <td>1</td>\n",
              "      <td>1</td>\n",
              "      <td>12</td>\n",
              "      <td>22</td>\n",
              "      <td>0</td>\n",
              "      <td>1</td>\n",
              "      <td>1</td>\n",
              "      <td>1</td>\n",
              "      <td>-1.181732</td>\n",
              "      <td>-0.348473</td>\n",
              "      <td>-0.456099</td>\n",
              "      <td>13</td>\n",
              "      <td>48</td>\n",
              "      <td>-0.708245</td>\n",
              "      <td>0-200</td>\n",
              "      <td>1</td>\n",
              "      <td>0</td>\n",
              "      <td>0</td>\n",
              "      <td>0</td>\n",
              "      <td>0</td>\n",
              "      <td>0</td>\n",
              "      <td>0</td>\n",
              "      <td>0</td>\n",
              "      <td>0</td>\n",
              "      <td>0</td>\n",
              "      <td>0</td>\n",
              "      <td>0</td>\n",
              "      <td>0</td>\n",
              "      <td>0</td>\n",
              "      <td>0</td>\n",
              "      <td>0</td>\n",
              "      <td>0</td>\n",
              "      <td>0</td>\n",
              "      <td>0</td>\n",
              "      <td>0</td>\n",
              "      <td>0</td>\n",
              "      <td>0</td>\n",
              "      <td>0</td>\n",
              "      <td>0</td>\n",
              "      <td>0</td>\n",
              "      <td>0</td>\n",
              "      <td>1</td>\n",
              "      <td>0</td>\n",
              "      <td>1</td>\n",
              "      <td>0</td>\n",
              "      <td>0</td>\n",
              "      <td>0</td>\n",
              "      <td>-0.708245</td>\n",
              "      <td>-0.456099</td>\n",
              "      <td>-0.348473</td>\n",
              "      <td>-1.181732</td>\n",
              "    </tr>\n",
              "    <tr>\n",
              "      <th>17378</th>\n",
              "      <td>17379</td>\n",
              "      <td>2012-12-31</td>\n",
              "      <td>1</td>\n",
              "      <td>1</td>\n",
              "      <td>12</td>\n",
              "      <td>23</td>\n",
              "      <td>0</td>\n",
              "      <td>1</td>\n",
              "      <td>1</td>\n",
              "      <td>1</td>\n",
              "      <td>-1.181732</td>\n",
              "      <td>0.118032</td>\n",
              "      <td>-0.456099</td>\n",
              "      <td>12</td>\n",
              "      <td>37</td>\n",
              "      <td>-0.774403</td>\n",
              "      <td>0-200</td>\n",
              "      <td>1</td>\n",
              "      <td>0</td>\n",
              "      <td>0</td>\n",
              "      <td>0</td>\n",
              "      <td>0</td>\n",
              "      <td>0</td>\n",
              "      <td>0</td>\n",
              "      <td>0</td>\n",
              "      <td>0</td>\n",
              "      <td>0</td>\n",
              "      <td>0</td>\n",
              "      <td>0</td>\n",
              "      <td>0</td>\n",
              "      <td>0</td>\n",
              "      <td>0</td>\n",
              "      <td>0</td>\n",
              "      <td>0</td>\n",
              "      <td>0</td>\n",
              "      <td>0</td>\n",
              "      <td>0</td>\n",
              "      <td>0</td>\n",
              "      <td>0</td>\n",
              "      <td>0</td>\n",
              "      <td>0</td>\n",
              "      <td>0</td>\n",
              "      <td>0</td>\n",
              "      <td>0</td>\n",
              "      <td>1</td>\n",
              "      <td>1</td>\n",
              "      <td>0</td>\n",
              "      <td>0</td>\n",
              "      <td>0</td>\n",
              "      <td>-0.774403</td>\n",
              "      <td>-0.456099</td>\n",
              "      <td>0.118032</td>\n",
              "      <td>-1.181732</td>\n",
              "    </tr>\n",
              "  </tbody>\n",
              "</table>\n",
              "<p>16590 rows × 53 columns</p>\n",
              "</div>"
            ],
            "text/plain": [
              "       instant      dteday  season  ...  windspeed_Zscore  hum_Zscore  atemp_Zscore\n",
              "0            1  2011-01-01       1  ...         -1.553889    0.947372     -1.093281\n",
              "1            2  2011-01-01       1  ...         -1.553889    0.895539     -1.181732\n",
              "2            3  2011-01-01       1  ...         -1.553889    0.895539     -1.181732\n",
              "3            4  2011-01-01       1  ...         -1.553889    0.636370     -1.093281\n",
              "4            5  2011-01-01       1  ...         -1.553889    0.636370     -1.093281\n",
              "...        ...         ...     ...  ...               ...         ...           ...\n",
              "17374    17375  2012-12-31       1  ...         -0.211691   -0.141137     -1.269602\n",
              "17375    17376  2012-12-31       1  ...         -0.211691   -0.141137     -1.269602\n",
              "17376    17377  2012-12-31       1  ...         -0.211691   -0.141137     -1.269602\n",
              "17377    17378  2012-12-31       1  ...         -0.456099   -0.348473     -1.181732\n",
              "17378    17379  2012-12-31       1  ...         -0.456099    0.118032     -1.181732\n",
              "\n",
              "[16590 rows x 53 columns]"
            ]
          },
          "metadata": {
            "tags": []
          },
          "execution_count": 174
        }
      ]
    },
    {
      "cell_type": "markdown",
      "metadata": {
        "id": "T893LO7q04YA",
        "colab_type": "text"
      },
      "source": [
        "Re-evaluating the normality of my dataset after my changes. "
      ]
    },
    {
      "cell_type": "code",
      "metadata": {
        "id": "WmDRrljp04YB",
        "colab_type": "code",
        "outputId": "87fcaabc-497d-4cb2-a1ce-0669896d11c0",
        "colab": {
          "base_uri": "https://localhost:8080/",
          "height": 282
        }
      },
      "source": [
        "df_bike.boxplot(column= [\"hum\",\"atemp\",\"windspeed\", \"num_users\"])"
      ],
      "execution_count": 0,
      "outputs": [
        {
          "output_type": "execute_result",
          "data": {
            "text/plain": [
              "<matplotlib.axes._subplots.AxesSubplot at 0x7f0ae64565c0>"
            ]
          },
          "metadata": {
            "tags": []
          },
          "execution_count": 175
        },
        {
          "output_type": "display_data",
          "data": {
            "image/png": "[encoded data removed]",
            "text/plain": [
              "<Figure size 432x288 with 1 Axes>"
            ]
          },
          "metadata": {
            "tags": []
          }
        }
      ]
    },
    {
      "cell_type": "markdown",
      "metadata": {
        "id": "5nxyWQTx04YD",
        "colab_type": "text"
      },
      "source": [
        "Many outliers removed but still some left. I'm going to re-evaluate the distrubtion visually and numerically"
      ]
    },
    {
      "cell_type": "code",
      "metadata": {
        "id": "75tyVbPm04YE",
        "colab_type": "code",
        "outputId": "ddbd3c89-c112-4ad2-91be-b79de29e3920",
        "colab": {
          "base_uri": "https://localhost:8080/",
          "height": 173
        }
      },
      "source": [
        "df_bike.num_users.describe()"
      ],
      "execution_count": 0,
      "outputs": [
        {
          "output_type": "execute_result",
          "data": {
            "text/plain": [
              "count    16590.000000\n",
              "mean        -0.089073\n",
              "std          0.856482\n",
              "min         -1.039037\n",
              "25%         -0.835049\n",
              "50%         -0.294753\n",
              "75%          0.427478\n",
              "max          2.494933\n",
              "Name: num_users, dtype: float64"
            ]
          },
          "metadata": {
            "tags": []
          },
          "execution_count": 176
        }
      ]
    },
    {
      "cell_type": "code",
      "metadata": {
        "id": "m74UzQb104YI",
        "colab_type": "code",
        "outputId": "02ac59a8-8025-4774-df71-ad9132f74fac",
        "colab": {
          "base_uri": "https://localhost:8080/",
          "height": 173
        }
      },
      "source": [
        "df_bike.atemp.describe()"
      ],
      "execution_count": 0,
      "outputs": [
        {
          "output_type": "execute_result",
          "data": {
            "text/plain": [
              "count    16590.000000\n",
              "mean        -0.013725\n",
              "std          0.992027\n",
              "min         -2.415982\n",
              "25%         -0.829089\n",
              "50%          0.052518\n",
              "75%          0.846255\n",
              "max          2.433148\n",
              "Name: atemp, dtype: float64"
            ]
          },
          "metadata": {
            "tags": []
          },
          "execution_count": 177
        }
      ]
    },
    {
      "cell_type": "code",
      "metadata": {
        "id": "kXXQK22704YL",
        "colab_type": "code",
        "outputId": "d809d9b5-0b22-428b-8e71-e9bd0099d784",
        "colab": {
          "base_uri": "https://localhost:8080/",
          "height": 173
        }
      },
      "source": [
        "df_bike.hum.describe()"
      ],
      "execution_count": 0,
      "outputs": [
        {
          "output_type": "execute_result",
          "data": {
            "text/plain": [
              "count    16590.000000\n",
              "mean         0.034644\n",
              "std          0.985618\n",
              "min         -2.473659\n",
              "25%         -0.711309\n",
              "50%          0.066198\n",
              "75%          0.843705\n",
              "max          1.932215\n",
              "Name: hum, dtype: float64"
            ]
          },
          "metadata": {
            "tags": []
          },
          "execution_count": 178
        }
      ]
    },
    {
      "cell_type": "code",
      "metadata": {
        "id": "r83Vz6hT04aK",
        "colab_type": "code",
        "outputId": "6e464a0e-4a3e-41d6-8dd4-dafde7075c37",
        "colab": {
          "base_uri": "https://localhost:8080/",
          "height": 173
        }
      },
      "source": [
        "df_bike.windspeed.describe()"
      ],
      "execution_count": 0,
      "outputs": [
        {
          "output_type": "execute_result",
          "data": {
            "text/plain": [
              "count    16590.000000\n",
              "mean        -0.048411\n",
              "std          0.935601\n",
              "min         -1.553889\n",
              "25%         -0.699689\n",
              "50%         -0.211691\n",
              "75%          0.519896\n",
              "max          2.471886\n",
              "Name: windspeed, dtype: float64"
            ]
          },
          "metadata": {
            "tags": []
          },
          "execution_count": 179
        }
      ]
    },
    {
      "cell_type": "code",
      "metadata": {
        "id": "-CWzXCTc04aT",
        "colab_type": "code",
        "outputId": "4a0cc6d7-dea6-4573-8800-d22a0ed4b183",
        "colab": {
          "base_uri": "https://localhost:8080/",
          "height": 282
        }
      },
      "source": [
        "df_bike[[\"atemp\", \"hum\", \"windspeed\", \"num_users\"]].plot(kind='density')"
      ],
      "execution_count": 0,
      "outputs": [
        {
          "output_type": "execute_result",
          "data": {
            "text/plain": [
              "<matplotlib.axes._subplots.AxesSubplot at 0x7f0ae6456f98>"
            ]
          },
          "metadata": {
            "tags": []
          },
          "execution_count": 180
        },
        {
          "output_type": "display_data",
          "data": {
            "image/png": "[encoded data removed]",
            "text/plain": [
              "<Figure size 432x288 with 1 Axes>"
            ]
          },
          "metadata": {
            "tags": []
          }
        }
      ]
    },
    {
      "cell_type": "code",
      "metadata": {
        "id": "SoTaBehn04aX",
        "colab_type": "code",
        "outputId": "8857facb-4f88-42c1-da8a-1a34955bcf1f",
        "colab": {
          "base_uri": "https://localhost:8080/",
          "height": 349
        }
      },
      "source": [
        "fig = plt.figure()\n",
        "ax = fig.add_subplot(221)\n",
        "stats.probplot(df_bike.hum, dist=\"norm\", plot=plt)\n",
        "ax.set_title(\"Humidity\")\n",
        "\n",
        "ax = fig.add_subplot(222)\n",
        "stats.probplot(df_bike.atemp, dist=\"norm\", plot=plt)\n",
        "ax.set_title(\"Temperature\")\n",
        "\n",
        "ax = fig.add_subplot(223)\n",
        "stats.probplot(df_bike.windspeed, dist=\"norm\", plot=plt)\n",
        "ax.set_title(\"Windspeed\")\n",
        "\n",
        "ax = fig.add_subplot(223)\n",
        "stats.probplot(df_bike.num_users, dist=\"norm\", plot=plt)\n",
        "ax.set_title(\"Number of Users\")\n",
        "\n",
        "plt.show()"
      ],
      "execution_count": 0,
      "outputs": [
        {
          "output_type": "stream",
          "text": [
            "/usr/local/lib/python3.6/dist-packages/ipykernel_launcher.py:14: MatplotlibDeprecationWarning: Adding an axes using the same arguments as a previous axes currently reuses the earlier instance.  In a future version, a new instance will always be created and returned.  Meanwhile, this warning can be suppressed, and the future behavior ensured, by passing a unique label to each axes instance.\n",
            "  \n"
          ],
          "name": "stderr"
        },
        {
          "output_type": "display_data",
          "data": {
            "image/png": "[encoded data removed]",
            "text/plain": [
              "<Figure size 432x288 with 3 Axes>"
            ]
          },
          "metadata": {
            "tags": []
          }
        }
      ]
    },
    {
      "cell_type": "code",
      "metadata": {
        "id": "HSu6oD6504aZ",
        "colab_type": "code",
        "outputId": "e31845d5-2f28-4e50-c9d3-add44eaf9a51",
        "colab": {
          "base_uri": "https://localhost:8080/",
          "height": 208
        }
      },
      "source": [
        "result = anderson(df_bike.hum)\n",
        "\n",
        "print('Test Statistic: {}'.format(result.statistic))\n",
        "\n",
        "p = 0\n",
        "for i in range(len(result.critical_values)):\n",
        "    sl, cv = result.significance_level[i], result.critical_values[i]\n",
        "    if result.statistic < result.critical_values[i]:\n",
        "        print('Significance: {} \\n Pval cutoff: {} - Data looks normal (fail to reject H0)'.format(sl, cv))\n",
        "    else:\n",
        "        print('Significance: {} \\n Pval cutoff: {} - Data does not look normal (reject H0)'.format(sl, cv))\n",
        "        "
      ],
      "execution_count": 0,
      "outputs": [
        {
          "output_type": "stream",
          "text": [
            "Test Statistic: 93.16907934613118\n",
            "Significance: 15.0 \n",
            " Pval cutoff: 0.576 - Data does not look normal (reject H0)\n",
            "Significance: 10.0 \n",
            " Pval cutoff: 0.656 - Data does not look normal (reject H0)\n",
            "Significance: 5.0 \n",
            " Pval cutoff: 0.787 - Data does not look normal (reject H0)\n",
            "Significance: 2.5 \n",
            " Pval cutoff: 0.918 - Data does not look normal (reject H0)\n",
            "Significance: 1.0 \n",
            " Pval cutoff: 1.092 - Data does not look normal (reject H0)\n"
          ],
          "name": "stdout"
        }
      ]
    },
    {
      "cell_type": "code",
      "metadata": {
        "id": "VPdPSCRv04af",
        "colab_type": "code",
        "outputId": "70f1ac50-e8e3-44f8-9072-5f2ef0f233c4",
        "colab": {
          "base_uri": "https://localhost:8080/",
          "height": 208
        }
      },
      "source": [
        "result = anderson(df_bike.windspeed)\n",
        "\n",
        "print('Test Statistic: {}'.format(result.statistic))\n",
        "\n",
        "p = 0\n",
        "for i in range(len(result.critical_values)):\n",
        "    sl, cv = result.significance_level[i], result.critical_values[i]\n",
        "    if result.statistic < result.critical_values[i]:\n",
        "        print('Significance: {} \\n Pval cutoff: {} - Data looks normal (fail to reject H0)'.format(sl, cv))\n",
        "    else:\n",
        "        print('Significance: {} \\n Pval cutoff: {} - Data does not look normal (reject H0)'.format(sl, cv))\n",
        "        "
      ],
      "execution_count": 0,
      "outputs": [
        {
          "output_type": "stream",
          "text": [
            "Test Statistic: 136.88114608802425\n",
            "Significance: 15.0 \n",
            " Pval cutoff: 0.576 - Data does not look normal (reject H0)\n",
            "Significance: 10.0 \n",
            " Pval cutoff: 0.656 - Data does not look normal (reject H0)\n",
            "Significance: 5.0 \n",
            " Pval cutoff: 0.787 - Data does not look normal (reject H0)\n",
            "Significance: 2.5 \n",
            " Pval cutoff: 0.918 - Data does not look normal (reject H0)\n",
            "Significance: 1.0 \n",
            " Pval cutoff: 1.092 - Data does not look normal (reject H0)\n"
          ],
          "name": "stdout"
        }
      ]
    },
    {
      "cell_type": "code",
      "metadata": {
        "id": "rbTsY62a04ah",
        "colab_type": "code",
        "outputId": "6028ace8-e932-47fc-d64b-24ce6e8c1934",
        "colab": {
          "base_uri": "https://localhost:8080/",
          "height": 208
        }
      },
      "source": [
        "result = anderson(df_bike.atemp)\n",
        "\n",
        "print('Test Statistic: {}'.format(result.statistic))\n",
        "\n",
        "p = 0\n",
        "for i in range(len(result.critical_values)):\n",
        "    sl, cv = result.significance_level[i], result.critical_values[i]\n",
        "    if result.statistic < result.critical_values[i]:\n",
        "        print('Significance: {} \\n Pval cutoff: {} - Data looks normal (fail to reject H0)'.format(sl, cv))\n",
        "    else:\n",
        "        print('Significance: {} \\n Pval cutoff: {} - Data does not look normal (reject H0)'.format(sl, cv))\n",
        "        "
      ],
      "execution_count": 0,
      "outputs": [
        {
          "output_type": "stream",
          "text": [
            "Test Statistic: 108.55658793706971\n",
            "Significance: 15.0 \n",
            " Pval cutoff: 0.576 - Data does not look normal (reject H0)\n",
            "Significance: 10.0 \n",
            " Pval cutoff: 0.656 - Data does not look normal (reject H0)\n",
            "Significance: 5.0 \n",
            " Pval cutoff: 0.787 - Data does not look normal (reject H0)\n",
            "Significance: 2.5 \n",
            " Pval cutoff: 0.918 - Data does not look normal (reject H0)\n",
            "Significance: 1.0 \n",
            " Pval cutoff: 1.092 - Data does not look normal (reject H0)\n"
          ],
          "name": "stdout"
        }
      ]
    },
    {
      "cell_type": "code",
      "metadata": {
        "id": "WlRATu0404ak",
        "colab_type": "code",
        "outputId": "c1382d26-1bc4-4523-9e66-963b73803703",
        "colab": {
          "base_uri": "https://localhost:8080/",
          "height": 208
        }
      },
      "source": [
        "result = anderson(df_bike.num_users)\n",
        "\n",
        "print('Test Statistic: {}'.format(result.statistic))\n",
        "\n",
        "p = 0\n",
        "for i in range(len(result.critical_values)):\n",
        "    sl, cv = result.significance_level[i], result.critical_values[i]\n",
        "    if result.statistic < result.critical_values[i]:\n",
        "        print('Significance: {} \\n Pval cutoff: {} - Data looks normal (fail to reject H0)'.format(sl, cv))\n",
        "    else:\n",
        "        print('Significance: {} \\n Pval cutoff: {} - Data does not look normal (reject H0)'.format(sl, cv))\n",
        "        "
      ],
      "execution_count": 0,
      "outputs": [
        {
          "output_type": "stream",
          "text": [
            "Test Statistic: 478.78579117958725\n",
            "Significance: 15.0 \n",
            " Pval cutoff: 0.576 - Data does not look normal (reject H0)\n",
            "Significance: 10.0 \n",
            " Pval cutoff: 0.656 - Data does not look normal (reject H0)\n",
            "Significance: 5.0 \n",
            " Pval cutoff: 0.787 - Data does not look normal (reject H0)\n",
            "Significance: 2.5 \n",
            " Pval cutoff: 0.918 - Data does not look normal (reject H0)\n",
            "Significance: 1.0 \n",
            " Pval cutoff: 1.092 - Data does not look normal (reject H0)\n"
          ],
          "name": "stdout"
        }
      ]
    },
    {
      "cell_type": "markdown",
      "metadata": {
        "id": "RnLJXxtB04ao",
        "colab_type": "text"
      },
      "source": [
        "I likely will not be able to use weather in my analysis because the weather features are more normalized but still not normal. Now I'm going to plot the correlation. "
      ]
    },
    {
      "cell_type": "code",
      "metadata": {
        "id": "c0ONslf504ap",
        "colab_type": "code",
        "colab": {}
      },
      "source": [
        "corr = df_bike.corr()"
      ],
      "execution_count": 0,
      "outputs": []
    },
    {
      "cell_type": "code",
      "metadata": {
        "id": "L1eSAAby04ar",
        "colab_type": "code",
        "outputId": "15a74472-df79-4b51-ba42-123f869f8d33",
        "colab": {
          "base_uri": "https://localhost:8080/",
          "height": 621
        }
      },
      "source": [
        "import seaborn as sns \n",
        "f, ax = plt.subplots(figsize =(9, 8)) \n",
        "sns.heatmap(corr, ax = ax, cmap =\"YlGnBu\", linewidths = 0.1) "
      ],
      "execution_count": 0,
      "outputs": [
        {
          "output_type": "stream",
          "text": [
            "/usr/local/lib/python3.6/dist-packages/statsmodels/tools/_testing.py:19: FutureWarning: pandas.util.testing is deprecated. Use the functions in the public API at pandas.testing instead.\n",
            "  import pandas.util.testing as tm\n"
          ],
          "name": "stderr"
        },
        {
          "output_type": "execute_result",
          "data": {
            "text/plain": [
              "<matplotlib.axes._subplots.AxesSubplot at 0x7f0ae5afa5c0>"
            ]
          },
          "metadata": {
            "tags": []
          },
          "execution_count": 192
        },
        {
          "output_type": "display_data",
          "data": {
            "image/png": "[encoded data removed]",
            "text/plain": [
              "<Figure size 648x576 with 2 Axes>"
            ]
          },
          "metadata": {
            "tags": []
          }
        }
      ]
    },
    {
      "cell_type": "markdown",
      "metadata": {
        "id": "sQN6fp2x04av",
        "colab_type": "text"
      },
      "source": [
        "Atemp, hr, fall, and hum have the strongest correlation with num_users. I'm going to subset these features to take a closer look at the relationship."
      ]
    },
    {
      "cell_type": "code",
      "metadata": {
        "id": "8FoOpoyU04aw",
        "colab_type": "code",
        "outputId": "4d4c1004-fbf9-4a5f-8186-a3d61c5dd9a7",
        "colab": {
          "base_uri": "https://localhost:8080/",
          "height": 202
        }
      },
      "source": [
        " df_bike[[\"num_users\", \"atemp\", \"hr\", \"hum\", \"fall\"]].corr()"
      ],
      "execution_count": 0,
      "outputs": [
        {
          "output_type": "execute_result",
          "data": {
            "text/html": [
              "<div>\n",
              "<style scoped>\n",
              "    .dataframe tbody tr th:only-of-type {\n",
              "        vertical-align: middle;\n",
              "    }\n",
              "\n",
              "    .dataframe tbody tr th {\n",
              "        vertical-align: top;\n",
              "    }\n",
              "\n",
              "    .dataframe thead th {\n",
              "        text-align: right;\n",
              "    }\n",
              "</style>\n",
              "<table border=\"1\" class=\"dataframe\">\n",
              "  <thead>\n",
              "    <tr style=\"text-align: right;\">\n",
              "      <th></th>\n",
              "      <th>num_users</th>\n",
              "      <th>atemp</th>\n",
              "      <th>hr</th>\n",
              "      <th>hum</th>\n",
              "      <th>fall</th>\n",
              "    </tr>\n",
              "  </thead>\n",
              "  <tbody>\n",
              "    <tr>\n",
              "      <th>num_users</th>\n",
              "      <td>1.000000</td>\n",
              "      <td>0.396024</td>\n",
              "      <td>0.423199</td>\n",
              "      <td>-0.340713</td>\n",
              "      <td>0.144074</td>\n",
              "    </tr>\n",
              "    <tr>\n",
              "      <th>atemp</th>\n",
              "      <td>0.396024</td>\n",
              "      <td>1.000000</td>\n",
              "      <td>0.121386</td>\n",
              "      <td>-0.050687</td>\n",
              "      <td>0.623867</td>\n",
              "    </tr>\n",
              "    <tr>\n",
              "      <th>hr</th>\n",
              "      <td>0.423199</td>\n",
              "      <td>0.121386</td>\n",
              "      <td>1.000000</td>\n",
              "      <td>-0.271933</td>\n",
              "      <td>-0.008539</td>\n",
              "    </tr>\n",
              "    <tr>\n",
              "      <th>hum</th>\n",
              "      <td>-0.340713</td>\n",
              "      <td>-0.050687</td>\n",
              "      <td>-0.271933</td>\n",
              "      <td>1.000000</td>\n",
              "      <td>0.014072</td>\n",
              "    </tr>\n",
              "    <tr>\n",
              "      <th>fall</th>\n",
              "      <td>0.144074</td>\n",
              "      <td>0.623867</td>\n",
              "      <td>-0.008539</td>\n",
              "      <td>0.014072</td>\n",
              "      <td>1.000000</td>\n",
              "    </tr>\n",
              "  </tbody>\n",
              "</table>\n",
              "</div>"
            ],
            "text/plain": [
              "           num_users     atemp        hr       hum      fall\n",
              "num_users   1.000000  0.396024  0.423199 -0.340713  0.144074\n",
              "atemp       0.396024  1.000000  0.121386 -0.050687  0.623867\n",
              "hr          0.423199  0.121386  1.000000 -0.271933 -0.008539\n",
              "hum        -0.340713 -0.050687 -0.271933  1.000000  0.014072\n",
              "fall        0.144074  0.623867 -0.008539  0.014072  1.000000"
            ]
          },
          "metadata": {
            "tags": []
          },
          "execution_count": 193
        }
      ]
    },
    {
      "cell_type": "markdown",
      "metadata": {
        "id": "fOkElft2Gk3l",
        "colab_type": "text"
      },
      "source": [
        "Taking a closer look at each hour of the day"
      ]
    },
    {
      "cell_type": "code",
      "metadata": {
        "id": "tAPEaaCcFtAm",
        "colab_type": "code",
        "outputId": "623b2930-0764-4678-d9f3-2dcd883af911",
        "colab": {
          "base_uri": "https://localhost:8080/",
          "height": 448
        }
      },
      "source": [
        "df_bike[[1, 3, 5, 7, 9, 11, 13, 15, 17, 19, 21, 23, 'num_users']].corr()"
      ],
      "execution_count": 0,
      "outputs": [
        {
          "output_type": "execute_result",
          "data": {
            "text/html": [
              "<div>\n",
              "<style scoped>\n",
              "    .dataframe tbody tr th:only-of-type {\n",
              "        vertical-align: middle;\n",
              "    }\n",
              "\n",
              "    .dataframe tbody tr th {\n",
              "        vertical-align: top;\n",
              "    }\n",
              "\n",
              "    .dataframe thead th {\n",
              "        text-align: right;\n",
              "    }\n",
              "</style>\n",
              "<table border=\"1\" class=\"dataframe\">\n",
              "  <thead>\n",
              "    <tr style=\"text-align: right;\">\n",
              "      <th></th>\n",
              "      <th>1</th>\n",
              "      <th>3</th>\n",
              "      <th>5</th>\n",
              "      <th>7</th>\n",
              "      <th>9</th>\n",
              "      <th>11</th>\n",
              "      <th>13</th>\n",
              "      <th>15</th>\n",
              "      <th>17</th>\n",
              "      <th>19</th>\n",
              "      <th>21</th>\n",
              "      <th>23</th>\n",
              "      <th>num_users</th>\n",
              "    </tr>\n",
              "  </thead>\n",
              "  <tbody>\n",
              "    <tr>\n",
              "      <th>1</th>\n",
              "      <td>1.000000</td>\n",
              "      <td>-0.044143</td>\n",
              "      <td>-0.044908</td>\n",
              "      <td>-0.045302</td>\n",
              "      <td>-0.045138</td>\n",
              "      <td>-0.045006</td>\n",
              "      <td>-0.044177</td>\n",
              "      <td>-0.044344</td>\n",
              "      <td>-0.039483</td>\n",
              "      <td>-0.044577</td>\n",
              "      <td>-0.045105</td>\n",
              "      <td>-0.045237</td>\n",
              "      <td>-0.190760</td>\n",
              "    </tr>\n",
              "    <tr>\n",
              "      <th>3</th>\n",
              "      <td>-0.044143</td>\n",
              "      <td>1.000000</td>\n",
              "      <td>-0.044014</td>\n",
              "      <td>-0.044401</td>\n",
              "      <td>-0.044240</td>\n",
              "      <td>-0.044111</td>\n",
              "      <td>-0.043298</td>\n",
              "      <td>-0.043461</td>\n",
              "      <td>-0.038697</td>\n",
              "      <td>-0.043690</td>\n",
              "      <td>-0.044208</td>\n",
              "      <td>-0.044336</td>\n",
              "      <td>-0.216254</td>\n",
              "    </tr>\n",
              "    <tr>\n",
              "      <th>5</th>\n",
              "      <td>-0.044908</td>\n",
              "      <td>-0.044014</td>\n",
              "      <td>1.000000</td>\n",
              "      <td>-0.045169</td>\n",
              "      <td>-0.045006</td>\n",
              "      <td>-0.044875</td>\n",
              "      <td>-0.044047</td>\n",
              "      <td>-0.044214</td>\n",
              "      <td>-0.039367</td>\n",
              "      <td>-0.044446</td>\n",
              "      <td>-0.044973</td>\n",
              "      <td>-0.045104</td>\n",
              "      <td>-0.208933</td>\n",
              "    </tr>\n",
              "    <tr>\n",
              "      <th>7</th>\n",
              "      <td>-0.045302</td>\n",
              "      <td>-0.044401</td>\n",
              "      <td>-0.045169</td>\n",
              "      <td>1.000000</td>\n",
              "      <td>-0.045401</td>\n",
              "      <td>-0.045269</td>\n",
              "      <td>-0.044434</td>\n",
              "      <td>-0.044602</td>\n",
              "      <td>-0.039713</td>\n",
              "      <td>-0.044837</td>\n",
              "      <td>-0.045368</td>\n",
              "      <td>-0.045500</td>\n",
              "      <td>0.054453</td>\n",
              "    </tr>\n",
              "    <tr>\n",
              "      <th>9</th>\n",
              "      <td>-0.045138</td>\n",
              "      <td>-0.044240</td>\n",
              "      <td>-0.045006</td>\n",
              "      <td>-0.045401</td>\n",
              "      <td>1.000000</td>\n",
              "      <td>-0.045105</td>\n",
              "      <td>-0.044273</td>\n",
              "      <td>-0.044441</td>\n",
              "      <td>-0.039569</td>\n",
              "      <td>-0.044674</td>\n",
              "      <td>-0.045204</td>\n",
              "      <td>-0.045336</td>\n",
              "      <td>0.063779</td>\n",
              "    </tr>\n",
              "    <tr>\n",
              "      <th>11</th>\n",
              "      <td>-0.045006</td>\n",
              "      <td>-0.044111</td>\n",
              "      <td>-0.044875</td>\n",
              "      <td>-0.045269</td>\n",
              "      <td>-0.045105</td>\n",
              "      <td>1.000000</td>\n",
              "      <td>-0.044144</td>\n",
              "      <td>-0.044311</td>\n",
              "      <td>-0.039454</td>\n",
              "      <td>-0.044544</td>\n",
              "      <td>-0.045072</td>\n",
              "      <td>-0.045203</td>\n",
              "      <td>0.047573</td>\n",
              "    </tr>\n",
              "    <tr>\n",
              "      <th>13</th>\n",
              "      <td>-0.044177</td>\n",
              "      <td>-0.043298</td>\n",
              "      <td>-0.044047</td>\n",
              "      <td>-0.044434</td>\n",
              "      <td>-0.044273</td>\n",
              "      <td>-0.044144</td>\n",
              "      <td>1.000000</td>\n",
              "      <td>-0.043494</td>\n",
              "      <td>-0.038727</td>\n",
              "      <td>-0.043723</td>\n",
              "      <td>-0.044241</td>\n",
              "      <td>-0.044370</td>\n",
              "      <td>0.091715</td>\n",
              "    </tr>\n",
              "    <tr>\n",
              "      <th>15</th>\n",
              "      <td>-0.044344</td>\n",
              "      <td>-0.043461</td>\n",
              "      <td>-0.044214</td>\n",
              "      <td>-0.044602</td>\n",
              "      <td>-0.044441</td>\n",
              "      <td>-0.044311</td>\n",
              "      <td>-0.043494</td>\n",
              "      <td>1.000000</td>\n",
              "      <td>-0.038873</td>\n",
              "      <td>-0.043888</td>\n",
              "      <td>-0.044408</td>\n",
              "      <td>-0.044538</td>\n",
              "      <td>0.097273</td>\n",
              "    </tr>\n",
              "    <tr>\n",
              "      <th>17</th>\n",
              "      <td>-0.039483</td>\n",
              "      <td>-0.038697</td>\n",
              "      <td>-0.039367</td>\n",
              "      <td>-0.039713</td>\n",
              "      <td>-0.039569</td>\n",
              "      <td>-0.039454</td>\n",
              "      <td>-0.038727</td>\n",
              "      <td>-0.038873</td>\n",
              "      <td>1.000000</td>\n",
              "      <td>-0.039077</td>\n",
              "      <td>-0.039540</td>\n",
              "      <td>-0.039656</td>\n",
              "      <td>0.242918</td>\n",
              "    </tr>\n",
              "    <tr>\n",
              "      <th>19</th>\n",
              "      <td>-0.044577</td>\n",
              "      <td>-0.043690</td>\n",
              "      <td>-0.044446</td>\n",
              "      <td>-0.044837</td>\n",
              "      <td>-0.044674</td>\n",
              "      <td>-0.044544</td>\n",
              "      <td>-0.043723</td>\n",
              "      <td>-0.043888</td>\n",
              "      <td>-0.039077</td>\n",
              "      <td>1.000000</td>\n",
              "      <td>-0.044642</td>\n",
              "      <td>-0.044772</td>\n",
              "      <td>0.179988</td>\n",
              "    </tr>\n",
              "    <tr>\n",
              "      <th>21</th>\n",
              "      <td>-0.045105</td>\n",
              "      <td>-0.044208</td>\n",
              "      <td>-0.044973</td>\n",
              "      <td>-0.045368</td>\n",
              "      <td>-0.045204</td>\n",
              "      <td>-0.045072</td>\n",
              "      <td>-0.044241</td>\n",
              "      <td>-0.044408</td>\n",
              "      <td>-0.039540</td>\n",
              "      <td>-0.044642</td>\n",
              "      <td>1.000000</td>\n",
              "      <td>-0.045303</td>\n",
              "      <td>0.000458</td>\n",
              "    </tr>\n",
              "    <tr>\n",
              "      <th>23</th>\n",
              "      <td>-0.045237</td>\n",
              "      <td>-0.044336</td>\n",
              "      <td>-0.045104</td>\n",
              "      <td>-0.045500</td>\n",
              "      <td>-0.045336</td>\n",
              "      <td>-0.045203</td>\n",
              "      <td>-0.044370</td>\n",
              "      <td>-0.044538</td>\n",
              "      <td>-0.039656</td>\n",
              "      <td>-0.044772</td>\n",
              "      <td>-0.045303</td>\n",
              "      <td>1.000000</td>\n",
              "      <td>-0.116718</td>\n",
              "    </tr>\n",
              "    <tr>\n",
              "      <th>num_users</th>\n",
              "      <td>-0.190760</td>\n",
              "      <td>-0.216254</td>\n",
              "      <td>-0.208933</td>\n",
              "      <td>0.054453</td>\n",
              "      <td>0.063779</td>\n",
              "      <td>0.047573</td>\n",
              "      <td>0.091715</td>\n",
              "      <td>0.097273</td>\n",
              "      <td>0.242918</td>\n",
              "      <td>0.179988</td>\n",
              "      <td>0.000458</td>\n",
              "      <td>-0.116718</td>\n",
              "      <td>1.000000</td>\n",
              "    </tr>\n",
              "  </tbody>\n",
              "</table>\n",
              "</div>"
            ],
            "text/plain": [
              "                  1         3         5  ...        21        23  num_users\n",
              "1          1.000000 -0.044143 -0.044908  ... -0.045105 -0.045237  -0.190760\n",
              "3         -0.044143  1.000000 -0.044014  ... -0.044208 -0.044336  -0.216254\n",
              "5         -0.044908 -0.044014  1.000000  ... -0.044973 -0.045104  -0.208933\n",
              "7         -0.045302 -0.044401 -0.045169  ... -0.045368 -0.045500   0.054453\n",
              "9         -0.045138 -0.044240 -0.045006  ... -0.045204 -0.045336   0.063779\n",
              "11        -0.045006 -0.044111 -0.044875  ... -0.045072 -0.045203   0.047573\n",
              "13        -0.044177 -0.043298 -0.044047  ... -0.044241 -0.044370   0.091715\n",
              "15        -0.044344 -0.043461 -0.044214  ... -0.044408 -0.044538   0.097273\n",
              "17        -0.039483 -0.038697 -0.039367  ... -0.039540 -0.039656   0.242918\n",
              "19        -0.044577 -0.043690 -0.044446  ... -0.044642 -0.044772   0.179988\n",
              "21        -0.045105 -0.044208 -0.044973  ...  1.000000 -0.045303   0.000458\n",
              "23        -0.045237 -0.044336 -0.045104  ... -0.045303  1.000000  -0.116718\n",
              "num_users -0.190760 -0.216254 -0.208933  ...  0.000458 -0.116718   1.000000\n",
              "\n",
              "[13 rows x 13 columns]"
            ]
          },
          "metadata": {
            "tags": []
          },
          "execution_count": 194
        }
      ]
    },
    {
      "cell_type": "markdown",
      "metadata": {
        "id": "2gihZKFLG6if",
        "colab_type": "text"
      },
      "source": [
        "Not a strong correlation with a specific hour. While running a regression on the the column hr, I was not able get consclusive results. So, I decided to use atemp instead as it was another continous feature. This feature is also not highly correlated with hr, hum, or fall."
      ]
    },
    {
      "cell_type": "markdown",
      "metadata": {
        "id": "Cg1xEWI804az",
        "colab_type": "text"
      },
      "source": [
        "I'm going to compare num_users and atemp for my analysis to see if there is a causal linear relationship. "
      ]
    },
    {
      "cell_type": "markdown",
      "metadata": {
        "id": "J6LwgB7a04az",
        "colab_type": "text"
      },
      "source": [
        "## Linear Regression\n"
      ]
    },
    {
      "cell_type": "code",
      "metadata": {
        "id": "K7yuyEwe04a0",
        "colab_type": "code",
        "colab": {}
      },
      "source": [
        "from sklearn import datasets, linear_model"
      ],
      "execution_count": 0,
      "outputs": []
    },
    {
      "cell_type": "code",
      "metadata": {
        "id": "HgJnY9ZN04a2",
        "colab_type": "code",
        "colab": {}
      },
      "source": [
        "df_bike_x = df_bike[[\"atemp\"]]"
      ],
      "execution_count": 0,
      "outputs": []
    },
    {
      "cell_type": "code",
      "metadata": {
        "id": "ebN3OnmS04a3",
        "colab_type": "code",
        "outputId": "87286aea-5543-4f4c-d551-d6b24076c758",
        "colab": {
          "base_uri": "https://localhost:8080/",
          "height": 202
        }
      },
      "source": [
        "df_bike_x.head()"
      ],
      "execution_count": 0,
      "outputs": [
        {
          "output_type": "execute_result",
          "data": {
            "text/html": [
              "<div>\n",
              "<style scoped>\n",
              "    .dataframe tbody tr th:only-of-type {\n",
              "        vertical-align: middle;\n",
              "    }\n",
              "\n",
              "    .dataframe tbody tr th {\n",
              "        vertical-align: top;\n",
              "    }\n",
              "\n",
              "    .dataframe thead th {\n",
              "        text-align: right;\n",
              "    }\n",
              "</style>\n",
              "<table border=\"1\" class=\"dataframe\">\n",
              "  <thead>\n",
              "    <tr style=\"text-align: right;\">\n",
              "      <th></th>\n",
              "      <th>atemp</th>\n",
              "    </tr>\n",
              "  </thead>\n",
              "  <tbody>\n",
              "    <tr>\n",
              "      <th>0</th>\n",
              "      <td>-1.093281</td>\n",
              "    </tr>\n",
              "    <tr>\n",
              "      <th>1</th>\n",
              "      <td>-1.181732</td>\n",
              "    </tr>\n",
              "    <tr>\n",
              "      <th>2</th>\n",
              "      <td>-1.181732</td>\n",
              "    </tr>\n",
              "    <tr>\n",
              "      <th>3</th>\n",
              "      <td>-1.093281</td>\n",
              "    </tr>\n",
              "    <tr>\n",
              "      <th>4</th>\n",
              "      <td>-1.093281</td>\n",
              "    </tr>\n",
              "  </tbody>\n",
              "</table>\n",
              "</div>"
            ],
            "text/plain": [
              "      atemp\n",
              "0 -1.093281\n",
              "1 -1.181732\n",
              "2 -1.181732\n",
              "3 -1.093281\n",
              "4 -1.093281"
            ]
          },
          "metadata": {
            "tags": []
          },
          "execution_count": 197
        }
      ]
    },
    {
      "cell_type": "code",
      "metadata": {
        "id": "TrLS96jH04a6",
        "colab_type": "code",
        "colab": {}
      },
      "source": [
        "df_bike_y = df_bike[[\"num_users\"]]"
      ],
      "execution_count": 0,
      "outputs": []
    },
    {
      "cell_type": "code",
      "metadata": {
        "id": "xDuK1JSw04a8",
        "colab_type": "code",
        "outputId": "547d441f-c8ca-4408-888c-ae5f07446f5f",
        "colab": {
          "base_uri": "https://localhost:8080/",
          "height": 202
        }
      },
      "source": [
        "df_bike_y.head()"
      ],
      "execution_count": 0,
      "outputs": [
        {
          "output_type": "execute_result",
          "data": {
            "text/html": [
              "<div>\n",
              "<style scoped>\n",
              "    .dataframe tbody tr th:only-of-type {\n",
              "        vertical-align: middle;\n",
              "    }\n",
              "\n",
              "    .dataframe tbody tr th {\n",
              "        vertical-align: top;\n",
              "    }\n",
              "\n",
              "    .dataframe thead th {\n",
              "        text-align: right;\n",
              "    }\n",
              "</style>\n",
              "<table border=\"1\" class=\"dataframe\">\n",
              "  <thead>\n",
              "    <tr style=\"text-align: right;\">\n",
              "      <th></th>\n",
              "      <th>num_users</th>\n",
              "    </tr>\n",
              "  </thead>\n",
              "  <tbody>\n",
              "    <tr>\n",
              "      <th>0</th>\n",
              "      <td>-0.956339</td>\n",
              "    </tr>\n",
              "    <tr>\n",
              "      <th>1</th>\n",
              "      <td>-0.824022</td>\n",
              "    </tr>\n",
              "    <tr>\n",
              "      <th>2</th>\n",
              "      <td>-0.868128</td>\n",
              "    </tr>\n",
              "    <tr>\n",
              "      <th>3</th>\n",
              "      <td>-0.972879</td>\n",
              "    </tr>\n",
              "    <tr>\n",
              "      <th>4</th>\n",
              "      <td>-1.039037</td>\n",
              "    </tr>\n",
              "  </tbody>\n",
              "</table>\n",
              "</div>"
            ],
            "text/plain": [
              "   num_users\n",
              "0  -0.956339\n",
              "1  -0.824022\n",
              "2  -0.868128\n",
              "3  -0.972879\n",
              "4  -1.039037"
            ]
          },
          "metadata": {
            "tags": []
          },
          "execution_count": 199
        }
      ]
    },
    {
      "cell_type": "code",
      "metadata": {
        "id": "tfqFjx9q04a-",
        "colab_type": "code",
        "colab": {}
      },
      "source": [
        "from sklearn.model_selection import train_test_split"
      ],
      "execution_count": 0,
      "outputs": []
    },
    {
      "cell_type": "code",
      "metadata": {
        "id": "xMIm2cXk04bC",
        "colab_type": "code",
        "colab": {}
      },
      "source": [
        "x_train, x_test, y_train, y_test = train_test_split(df_bike_x, df_bike_y, \n",
        "                                                   test_size=0.2, \n",
        "                                                   random_state=42)"
      ],
      "execution_count": 0,
      "outputs": []
    },
    {
      "cell_type": "code",
      "metadata": {
        "id": "fC8VBbON04bE",
        "colab_type": "code",
        "colab": {}
      },
      "source": [
        "from sklearn.linear_model import LinearRegression\n",
        "lr = LinearRegression(fit_intercept=True,\n",
        "                        n_jobs=4)"
      ],
      "execution_count": 0,
      "outputs": []
    },
    {
      "cell_type": "code",
      "metadata": {
        "id": "k7nsR_0y04bJ",
        "colab_type": "code",
        "colab": {}
      },
      "source": [
        "fit = lr.fit(x_train, y_train)"
      ],
      "execution_count": 0,
      "outputs": []
    },
    {
      "cell_type": "code",
      "metadata": {
        "id": "bgnK0AQO04bK",
        "colab_type": "code",
        "outputId": "3617fdc2-0b83-4f3c-f418-266a6c930981",
        "colab": {
          "base_uri": "https://localhost:8080/",
          "height": 34
        }
      },
      "source": [
        "lr.intercept_"
      ],
      "execution_count": 0,
      "outputs": [
        {
          "output_type": "execute_result",
          "data": {
            "text/plain": [
              "array([-0.08660412])"
            ]
          },
          "metadata": {
            "tags": []
          },
          "execution_count": 204
        }
      ]
    },
    {
      "cell_type": "code",
      "metadata": {
        "id": "tjHfsV3304bM",
        "colab_type": "code",
        "colab": {}
      },
      "source": [
        "coef_df = pd.DataFrame({\"feature\": \"atemp\", \n",
        "                        \"coeff\": int(fit.coef_)},\n",
        "                      index=[0])"
      ],
      "execution_count": 0,
      "outputs": []
    },
    {
      "cell_type": "code",
      "metadata": {
        "id": "blyWJGL204bO",
        "colab_type": "code",
        "outputId": "30b24b74-aaab-465a-f0fb-8e146aa40408",
        "colab": {
          "base_uri": "https://localhost:8080/",
          "height": 80
        }
      },
      "source": [
        "coef_df"
      ],
      "execution_count": 0,
      "outputs": [
        {
          "output_type": "execute_result",
          "data": {
            "text/html": [
              "<div>\n",
              "<style scoped>\n",
              "    .dataframe tbody tr th:only-of-type {\n",
              "        vertical-align: middle;\n",
              "    }\n",
              "\n",
              "    .dataframe tbody tr th {\n",
              "        vertical-align: top;\n",
              "    }\n",
              "\n",
              "    .dataframe thead th {\n",
              "        text-align: right;\n",
              "    }\n",
              "</style>\n",
              "<table border=\"1\" class=\"dataframe\">\n",
              "  <thead>\n",
              "    <tr style=\"text-align: right;\">\n",
              "      <th></th>\n",
              "      <th>feature</th>\n",
              "      <th>coeff</th>\n",
              "    </tr>\n",
              "  </thead>\n",
              "  <tbody>\n",
              "    <tr>\n",
              "      <th>0</th>\n",
              "      <td>atemp</td>\n",
              "      <td>0</td>\n",
              "    </tr>\n",
              "  </tbody>\n",
              "</table>\n",
              "</div>"
            ],
            "text/plain": [
              "  feature  coeff\n",
              "0   atemp      0"
            ]
          },
          "metadata": {
            "tags": []
          },
          "execution_count": 207
        }
      ]
    },
    {
      "cell_type": "code",
      "metadata": {
        "id": "RnA83OR204bQ",
        "colab_type": "code",
        "colab": {}
      },
      "source": [
        "preds = lr.predict(x_test)"
      ],
      "execution_count": 0,
      "outputs": []
    },
    {
      "cell_type": "code",
      "metadata": {
        "id": "PNHFe2Af04bS",
        "colab_type": "code",
        "outputId": "84bee221-3bc8-415d-bd45-985708aefaf3",
        "colab": {
          "base_uri": "https://localhost:8080/",
          "height": 104
        }
      },
      "source": [
        "preds[0:5]"
      ],
      "execution_count": 0,
      "outputs": [
        {
          "output_type": "execute_result",
          "data": {
            "text/plain": [
              "array([[-0.21904809],\n",
              "       [-0.48999418],\n",
              "       [ 0.41302701],\n",
              "       [-0.2492415 ],\n",
              "       [-0.58017711]])"
            ]
          },
          "metadata": {
            "tags": []
          },
          "execution_count": 209
        }
      ]
    },
    {
      "cell_type": "code",
      "metadata": {
        "id": "0xr5sQhr04bU",
        "colab_type": "code",
        "outputId": "38875867-051c-4946-81cb-07f4bff53eb7",
        "colab": {
          "base_uri": "https://localhost:8080/",
          "height": 296
        }
      },
      "source": [
        "import matplotlib.pyplot as plt\n",
        "plt.scatter(y_test, preds) \n",
        "plt.xlabel(\"True Values\")\n",
        "plt.ylabel(\"Predictions\")"
      ],
      "execution_count": 0,
      "outputs": [
        {
          "output_type": "execute_result",
          "data": {
            "text/plain": [
              "Text(0, 0.5, 'Predictions')"
            ]
          },
          "metadata": {
            "tags": []
          },
          "execution_count": 210
        },
        {
          "output_type": "display_data",
          "data": {
            "image/png": "[encoded data removed]",
            "text/plain": [
              "<Figure size 432x288 with 1 Axes>"
            ]
          },
          "metadata": {
            "tags": []
          }
        }
      ]
    },
    {
      "cell_type": "code",
      "metadata": {
        "id": "HJUFDY_W04bX",
        "colab_type": "code",
        "outputId": "02bb6fdd-cb6c-43d4-def4-301662961d39",
        "colab": {
          "base_uri": "https://localhost:8080/",
          "height": 312
        }
      },
      "source": [
        "residuals = y_test - preds\n",
        "plt.scatter(lr.predict(x_test), residuals,\n",
        "            c='b', s=40, alpha=0.5) \n",
        "plt.title(\"Residuals Plot\")\n",
        "plt.xlabel(\"Testing Data\")\n",
        "plt.ylabel(\"Residuals\")"
      ],
      "execution_count": 0,
      "outputs": [
        {
          "output_type": "execute_result",
          "data": {
            "text/plain": [
              "Text(0, 0.5, 'Residuals')"
            ]
          },
          "metadata": {
            "tags": []
          },
          "execution_count": 211
        },
        {
          "output_type": "display_data",
          "data": {
            "image/png": "[encoded data removed]",
            "text/plain": [
              "<Figure size 432x288 with 1 Axes>"
            ]
          },
          "metadata": {
            "tags": []
          }
        }
      ]
    },
    {
      "cell_type": "code",
      "metadata": {
        "id": "IjL6yDhZ04ba",
        "colab_type": "code",
        "colab": {}
      },
      "source": [
        "from sklearn.metrics import mean_absolute_error\n",
        "MAE = mean_absolute_error(y_test, preds)"
      ],
      "execution_count": 0,
      "outputs": []
    },
    {
      "cell_type": "code",
      "metadata": {
        "id": "K6TOI7fo04bc",
        "colab_type": "code",
        "outputId": "d5993098-31b1-4168-96ad-4c4bd3685e35",
        "colab": {
          "base_uri": "https://localhost:8080/",
          "height": 34
        }
      },
      "source": [
        "MAE"
      ],
      "execution_count": 0,
      "outputs": [
        {
          "output_type": "execute_result",
          "data": {
            "text/plain": [
              "0.619077695902247"
            ]
          },
          "metadata": {
            "tags": []
          },
          "execution_count": 215
        }
      ]
    },
    {
      "cell_type": "code",
      "metadata": {
        "id": "XAnwyXHP04bh",
        "colab_type": "code",
        "colab": {}
      },
      "source": [
        "from sklearn.metrics import mean_squared_error\n",
        "import numpy as np\n",
        "mse = mean_squared_error(y_test, preds)\n",
        "rmse = np.sqrt(mse)"
      ],
      "execution_count": 0,
      "outputs": []
    },
    {
      "cell_type": "code",
      "metadata": {
        "id": "3r4sYf5U04bj",
        "colab_type": "code",
        "outputId": "93ac361e-c07f-4c4b-f72d-8e25fb3038f6",
        "colab": {
          "base_uri": "https://localhost:8080/",
          "height": 34
        }
      },
      "source": [
        "rmse"
      ],
      "execution_count": 0,
      "outputs": [
        {
          "output_type": "execute_result",
          "data": {
            "text/plain": [
              "0.7890987576954795"
            ]
          },
          "metadata": {
            "tags": []
          },
          "execution_count": 217
        }
      ]
    },
    {
      "cell_type": "code",
      "metadata": {
        "id": "wr-SaC3B04bl",
        "colab_type": "code",
        "outputId": "5719f660-fed5-4d2f-f737-0b69be3c579b",
        "colab": {
          "base_uri": "https://localhost:8080/",
          "height": 34
        }
      },
      "source": [
        "from sklearn.metrics import r2_score\n",
        "r2_score(y_test, preds)"
      ],
      "execution_count": 0,
      "outputs": [
        {
          "output_type": "execute_result",
          "data": {
            "text/plain": [
              "0.1573388451110479"
            ]
          },
          "metadata": {
            "tags": []
          },
          "execution_count": 218
        }
      ]
    },
    {
      "cell_type": "markdown",
      "metadata": {
        "id": "wQmd6Efw04bq",
        "colab_type": "text"
      },
      "source": [
        "## Conclusion"
      ]
    },
    {
      "cell_type": "markdown",
      "metadata": {
        "id": "CSW4j8tJ04bq",
        "colab_type": "text"
      },
      "source": [
        "When initially looking at this dataset, I expected to see a correlation between weather and bike usage. For example, if it was warmer weather, more people would be outside using bikes. Or, if it was snowing, there would be less people outside using bikes. However, none of the weather situation columns had a high corelation with bike usage. "
      ]
    },
    {
      "cell_type": "code",
      "metadata": {
        "id": "zh86drjI04bq",
        "colab_type": "code",
        "outputId": "88e4401e-8ba2-45bd-f2b8-9309e597131c",
        "colab": {
          "base_uri": "https://localhost:8080/",
          "height": 202
        }
      },
      "source": [
        "df_bike[[\"num_users\", \"mist\", \"snow\", \"heavyrain\", \"clear\"]].corr()"
      ],
      "execution_count": 0,
      "outputs": [
        {
          "output_type": "execute_result",
          "data": {
            "text/html": [
              "<div>\n",
              "<style scoped>\n",
              "    .dataframe tbody tr th:only-of-type {\n",
              "        vertical-align: middle;\n",
              "    }\n",
              "\n",
              "    .dataframe tbody tr th {\n",
              "        vertical-align: top;\n",
              "    }\n",
              "\n",
              "    .dataframe thead th {\n",
              "        text-align: right;\n",
              "    }\n",
              "</style>\n",
              "<table border=\"1\" class=\"dataframe\">\n",
              "  <thead>\n",
              "    <tr style=\"text-align: right;\">\n",
              "      <th></th>\n",
              "      <th>num_users</th>\n",
              "      <th>mist</th>\n",
              "      <th>snow</th>\n",
              "      <th>heavyrain</th>\n",
              "      <th>clear</th>\n",
              "    </tr>\n",
              "  </thead>\n",
              "  <tbody>\n",
              "    <tr>\n",
              "      <th>num_users</th>\n",
              "      <td>1.000000</td>\n",
              "      <td>-0.041089</td>\n",
              "      <td>-0.126918</td>\n",
              "      <td>-0.008568</td>\n",
              "      <td>0.111344</td>\n",
              "    </tr>\n",
              "    <tr>\n",
              "      <th>mist</th>\n",
              "      <td>-0.041089</td>\n",
              "      <td>1.000000</td>\n",
              "      <td>-0.179073</td>\n",
              "      <td>-0.008079</td>\n",
              "      <td>-0.824122</td>\n",
              "    </tr>\n",
              "    <tr>\n",
              "      <th>snow</th>\n",
              "      <td>-0.126918</td>\n",
              "      <td>-0.179073</td>\n",
              "      <td>1.000000</td>\n",
              "      <td>-0.004009</td>\n",
              "      <td>-0.408985</td>\n",
              "    </tr>\n",
              "    <tr>\n",
              "      <th>heavyrain</th>\n",
              "      <td>-0.008568</td>\n",
              "      <td>-0.008079</td>\n",
              "      <td>-0.004009</td>\n",
              "      <td>1.000000</td>\n",
              "      <td>-0.018451</td>\n",
              "    </tr>\n",
              "    <tr>\n",
              "      <th>clear</th>\n",
              "      <td>0.111344</td>\n",
              "      <td>-0.824122</td>\n",
              "      <td>-0.408985</td>\n",
              "      <td>-0.018451</td>\n",
              "      <td>1.000000</td>\n",
              "    </tr>\n",
              "  </tbody>\n",
              "</table>\n",
              "</div>"
            ],
            "text/plain": [
              "           num_users      mist      snow  heavyrain     clear\n",
              "num_users   1.000000 -0.041089 -0.126918  -0.008568  0.111344\n",
              "mist       -0.041089  1.000000 -0.179073  -0.008079 -0.824122\n",
              "snow       -0.126918 -0.179073  1.000000  -0.004009 -0.408985\n",
              "heavyrain  -0.008568 -0.008079 -0.004009   1.000000 -0.018451\n",
              "clear       0.111344 -0.824122 -0.408985  -0.018451  1.000000"
            ]
          },
          "metadata": {
            "tags": []
          },
          "execution_count": 219
        }
      ]
    },
    {
      "cell_type": "markdown",
      "metadata": {
        "id": "FpZQBqVs04bs",
        "colab_type": "text"
      },
      "source": [
        "I did see a small positive relationship between atemp and num_users metrics (which had a p value of 0.4) so I decided to investigate this further. When looking at the relationship between atemp and bike useage we can see that there is an upwards trend, but also some decrease once you hit a certain threshold. Logically, this makes sense. As temperature increases, more people want to be outside riding bikes, but at a certain point it may become to hot to be outside"
      ]
    },
    {
      "cell_type": "code",
      "metadata": {
        "id": "1a346N3-04bt",
        "colab_type": "code",
        "outputId": "b11ec250-0a00-47bd-db2f-a8b7efdaedd7",
        "colab": {
          "base_uri": "https://localhost:8080/",
          "height": 282
        }
      },
      "source": [
        "%matplotlib inline\n",
        "plt.scatter(df_bike_x, df_bike_y)"
      ],
      "execution_count": 0,
      "outputs": [
        {
          "output_type": "execute_result",
          "data": {
            "text/plain": [
              "<matplotlib.collections.PathCollection at 0x7f0ae3539d30>"
            ]
          },
          "metadata": {
            "tags": []
          },
          "execution_count": 220
        },
        {
          "output_type": "display_data",
          "data": {
            "image/png": "[encoded data removed]",
            "text/plain": [
              "<Figure size 432x288 with 1 Axes>"
            ]
          },
          "metadata": {
            "tags": []
          }
        }
      ]
    },
    {
      "cell_type": "markdown",
      "metadata": {
        "id": "AwZURDqm04bv",
        "colab_type": "text"
      },
      "source": [
        "To evelaute this relationship from a more statistical lens, I created a model and tested this relationship using linear regression showed that a increase in atemp would lead to a 0.04 increase in num_users. My results showed that there was not a strong linear relationship between these two features. In other words, you cannot use temperature to nessesarily fully predict in increase in biker usage. "
      ]
    },
    {
      "cell_type": "markdown",
      "metadata": {
        "id": "ZSAEYhNq04bw",
        "colab_type": "text"
      },
      "source": [
        "Manually plotting regression below"
      ]
    },
    {
      "cell_type": "code",
      "metadata": {
        "id": "xi0D0Ss904bw",
        "colab_type": "code",
        "colab": {}
      },
      "source": [
        "r_sq = df_bike[[\"atemp\", \"num_users\"]].corr()"
      ],
      "execution_count": 0,
      "outputs": []
    },
    {
      "cell_type": "code",
      "metadata": {
        "id": "sLBYwoVp04bz",
        "colab_type": "code",
        "outputId": "bf53fc87-e927-4fc3-f9f5-ee2b44b4067a",
        "colab": {
          "base_uri": "https://localhost:8080/",
          "height": 110
        }
      },
      "source": [
        "r_sq"
      ],
      "execution_count": 0,
      "outputs": [
        {
          "output_type": "execute_result",
          "data": {
            "text/html": [
              "<div>\n",
              "<style scoped>\n",
              "    .dataframe tbody tr th:only-of-type {\n",
              "        vertical-align: middle;\n",
              "    }\n",
              "\n",
              "    .dataframe tbody tr th {\n",
              "        vertical-align: top;\n",
              "    }\n",
              "\n",
              "    .dataframe thead th {\n",
              "        text-align: right;\n",
              "    }\n",
              "</style>\n",
              "<table border=\"1\" class=\"dataframe\">\n",
              "  <thead>\n",
              "    <tr style=\"text-align: right;\">\n",
              "      <th></th>\n",
              "      <th>atemp</th>\n",
              "      <th>num_users</th>\n",
              "    </tr>\n",
              "  </thead>\n",
              "  <tbody>\n",
              "    <tr>\n",
              "      <th>atemp</th>\n",
              "      <td>1.000000</td>\n",
              "      <td>0.396024</td>\n",
              "    </tr>\n",
              "    <tr>\n",
              "      <th>num_users</th>\n",
              "      <td>0.396024</td>\n",
              "      <td>1.000000</td>\n",
              "    </tr>\n",
              "  </tbody>\n",
              "</table>\n",
              "</div>"
            ],
            "text/plain": [
              "              atemp  num_users\n",
              "atemp      1.000000   0.396024\n",
              "num_users  0.396024   1.000000"
            ]
          },
          "metadata": {
            "tags": []
          },
          "execution_count": 222
        }
      ]
    },
    {
      "cell_type": "code",
      "metadata": {
        "id": "stAweZxp04b3",
        "colab_type": "code",
        "colab": {}
      },
      "source": [
        "B1 = 0.400929 * (np.std(df_bike.atemp)/np.std(df_bike.num_users))"
      ],
      "execution_count": 0,
      "outputs": []
    },
    {
      "cell_type": "code",
      "metadata": {
        "id": "-0XOkK4k04b6",
        "colab_type": "code",
        "outputId": "d3c9811e-b9e8-4d70-873e-abcc0bd78f8c",
        "colab": {
          "base_uri": "https://localhost:8080/",
          "height": 34
        }
      },
      "source": [
        "B1"
      ],
      "execution_count": 0,
      "outputs": [
        {
          "output_type": "execute_result",
          "data": {
            "text/plain": [
              "0.46437930505894354"
            ]
          },
          "metadata": {
            "tags": []
          },
          "execution_count": 224
        }
      ]
    },
    {
      "cell_type": "code",
      "metadata": {
        "id": "cpHPTbyJ04b-",
        "colab_type": "code",
        "colab": {}
      },
      "source": [
        "B0 = df_bike.atemp.mean() - (B1 * df_bike.num_users.mean())"
      ],
      "execution_count": 0,
      "outputs": []
    },
    {
      "cell_type": "code",
      "metadata": {
        "id": "FayAByAJ04cA",
        "colab_type": "code",
        "colab": {}
      },
      "source": [
        "df_bike[\"y_line\"] = B0 + (B1 * df_bike.atemp)"
      ],
      "execution_count": 0,
      "outputs": []
    },
    {
      "cell_type": "code",
      "metadata": {
        "id": "5lCXWVzc04cC",
        "colab_type": "code",
        "outputId": "23ecdf03-4694-442a-ccd3-66a7f2a0e8dc",
        "colab": {
          "base_uri": "https://localhost:8080/",
          "height": 296
        }
      },
      "source": [
        "plt.scatter(df_bike.atemp,df_bike.num_users) \n",
        "plt.plot(df_bike.atemp, df_bike.y_line) \n",
        "plt.ylabel(\"Number of Users\")\n",
        "plt.xlabel(\"Temperature\")"
      ],
      "execution_count": 0,
      "outputs": [
        {
          "output_type": "execute_result",
          "data": {
            "text/plain": [
              "Text(0.5, 0, 'Temperature')"
            ]
          },
          "metadata": {
            "tags": []
          },
          "execution_count": 227
        },
        {
          "output_type": "display_data",
          "data": {
            "image/png": "[encoded data removed]",
            "text/plain": [
              "<Figure size 432x288 with 1 Axes>"
            ]
          },
          "metadata": {
            "tags": []
          }
        }
      ]
    },
    {
      "cell_type": "code",
      "metadata": {
        "id": "o_opxBX004cH",
        "colab_type": "code",
        "outputId": "e17f3f23-26e0-4e5b-d362-a590679c85e7",
        "colab": {
          "base_uri": "https://localhost:8080/",
          "height": 296
        }
      },
      "source": [
        "plt.scatter(y_test, preds) \n",
        "plt.xlabel(\"True Values\")\n",
        "plt.ylabel(\"Predictions\")"
      ],
      "execution_count": 0,
      "outputs": [
        {
          "output_type": "execute_result",
          "data": {
            "text/plain": [
              "Text(0, 0.5, 'Predictions')"
            ]
          },
          "metadata": {
            "tags": []
          },
          "execution_count": 228
        },
        {
          "output_type": "display_data",
          "data": {
            "image/png": "[encoded data removed]",
            "text/plain": [
              "<Figure size 432x288 with 1 Axes>"
            ]
          },
          "metadata": {
            "tags": []
          }
        }
      ]
    },
    {
      "cell_type": "markdown",
      "metadata": {
        "id": "DszAqEz104cK",
        "colab_type": "text"
      },
      "source": [
        "While the MAE and RSME indicated a good fit, the R^2 demonstrated that 16% of the variation in bike usage could be explained by temperature. This analysis aligns with the information gathered from the scatter splot. There is some relationship between temperature and bike usage, but only for a limited threshold."
      ]
    },
    {
      "cell_type": "markdown",
      "metadata": {
        "id": "LRhXoCBc04cK",
        "colab_type": "text"
      },
      "source": [
        "One limitation of this analysis was the amount of outliers included in the dataset. The entire dataset included outliers, but in paticular the num_users column ranged from 1 to 977 users with 505 instances outside 2.5 standard deviations from the mean. While scalling and dropping outliers helped to normalize num_users and the continuous weather columns, the data was still not perfectly normalized which could have affected the linear regression analysis. To more accuately gauge the relationship between weather and other attributes on increase in bike usage, it would be better to work with a more normalized dataset. Alternatively, looking at a larger sample size would lead to greater normalization within the data. Lastly, it would have been helpful to have a column to identify whether the was a major event on certain days that caused the spike in usage (ex. concert or sporting event). This additional datapoint would have helped to better understand the reltionships within the dataset. "
      ]
    },
    {
      "cell_type": "markdown",
      "metadata": {
        "id": "js-vAQ9A04cL",
        "colab_type": "text"
      },
      "source": [
        "That said, there are still key takeways from this analysis that could have implications for the bike sharing industry. Executives can now see which temperatures tend to attract the greatest amouont of bikers. During the temperature threshold where there is a higer correlation with bike users, inventory should be ready to meet the increased demand. During the temperature threshold where the peak drops, executives may want to provide incentives (ie. reduced price) to artifically increase demand.\n",
        "\n",
        "This analysis also demonstrated the high variability in bike usage throughout the year. Such a large range between the min and max of bike usage indicates that bike sharing companies need to be prepared for high volumes of user traffic. However, having a large inventory may not be the best solution due to the other extreme of only having one user on a pacticular day. The variability suggests that executives may need to consider ways of holding variable inventory. For example, holding a base inventory and calling on a temporary pool of additional bikes from a third party when needed. "
      ]
    }
  ]
}